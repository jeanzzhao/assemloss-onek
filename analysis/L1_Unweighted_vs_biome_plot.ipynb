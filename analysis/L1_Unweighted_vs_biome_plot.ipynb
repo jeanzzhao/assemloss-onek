{
 "cells": [
  {
   "cell_type": "markdown",
   "id": "5af66829",
   "metadata": {},
   "source": [
    "# Sourmash gather result analysis - unweighted_vs_biome plot -L1\n",
    "\n",
    "> The graph is focusing solely on the average unweighted match percentages along with their standard deviations for each biome type. Each biome type is color-coded for clearer visualization.\n",
    "\n",
    "> The biome3 column contain hierarchical biome information separated by colons (:). The first part (\"level 1\") appears to describe the general category (e.g., \"Host-associated\" or \"Environmental\"), and the second part (\"level 2\") specifies a more detailed category (e.g., \"Mammals\", \"Human\", \"Aquatic\")."
   ]
  },
  {
   "cell_type": "code",
   "execution_count": 1,
   "id": "f70ba5fa",
   "metadata": {},
   "outputs": [
    {
     "data": {
      "text/plain": [
       "1916"
      ]
     },
     "execution_count": 1,
     "metadata": {},
     "output_type": "execute_result"
    }
   ],
   "source": [
    "import pandas as pd\n",
    "import matplotlib.pyplot as plt\n",
    "import numpy as np\n",
    "\n",
    "# Load the data\n",
    "data = pd.read_csv('/Users/ZYZhao/projects/AL/onek/join_2k.csv')\n",
    "len(data)"
   ]
  },
  {
   "cell_type": "code",
   "execution_count": 2,
   "id": "8399fb66",
   "metadata": {},
   "outputs": [
    {
     "data": {
      "text/html": [
       "<div>\n",
       "<style scoped>\n",
       "    .dataframe tbody tr th:only-of-type {\n",
       "        vertical-align: middle;\n",
       "    }\n",
       "\n",
       "    .dataframe tbody tr th {\n",
       "        vertical-align: top;\n",
       "    }\n",
       "\n",
       "    .dataframe thead th {\n",
       "        text-align: right;\n",
       "    }\n",
       "</style>\n",
       "<table border=\"1\" class=\"dataframe\">\n",
       "  <thead>\n",
       "    <tr style=\"text-align: right;\">\n",
       "      <th></th>\n",
       "      <th>accession</th>\n",
       "      <th>ref_f_unweighted</th>\n",
       "      <th>ref_f_weighted</th>\n",
       "      <th>n_matches</th>\n",
       "      <th>biome3</th>\n",
       "    </tr>\n",
       "  </thead>\n",
       "  <tbody>\n",
       "    <tr>\n",
       "      <th>0</th>\n",
       "      <td>DRR014782</td>\n",
       "      <td>0.733621</td>\n",
       "      <td>0.949541</td>\n",
       "      <td>12389</td>\n",
       "      <td>Host-associated:Mammals:Respiratory system</td>\n",
       "    </tr>\n",
       "    <tr>\n",
       "      <th>1</th>\n",
       "      <td>DRR014785</td>\n",
       "      <td>0.728105</td>\n",
       "      <td>0.946977</td>\n",
       "      <td>13328</td>\n",
       "      <td>Host-associated:Mammals:Respiratory system</td>\n",
       "    </tr>\n",
       "    <tr>\n",
       "      <th>2</th>\n",
       "      <td>DRR019499</td>\n",
       "      <td>0.268765</td>\n",
       "      <td>0.259064</td>\n",
       "      <td>21126</td>\n",
       "      <td>Host-associated:Insecta:Digestive system</td>\n",
       "    </tr>\n",
       "    <tr>\n",
       "      <th>3</th>\n",
       "      <td>DRR042462</td>\n",
       "      <td>0.901071</td>\n",
       "      <td>0.965085</td>\n",
       "      <td>3213</td>\n",
       "      <td>Host-associated:Human:Digestive system</td>\n",
       "    </tr>\n",
       "    <tr>\n",
       "      <th>4</th>\n",
       "      <td>DRR046069</td>\n",
       "      <td>0.771871</td>\n",
       "      <td>0.839232</td>\n",
       "      <td>1896</td>\n",
       "      <td>Host-associated:Human:Digestive system</td>\n",
       "    </tr>\n",
       "  </tbody>\n",
       "</table>\n",
       "</div>"
      ],
      "text/plain": [
       "   accession  ref_f_unweighted  ref_f_weighted  n_matches  \\\n",
       "0  DRR014782          0.733621        0.949541      12389   \n",
       "1  DRR014785          0.728105        0.946977      13328   \n",
       "2  DRR019499          0.268765        0.259064      21126   \n",
       "3  DRR042462          0.901071        0.965085       3213   \n",
       "4  DRR046069          0.771871        0.839232       1896   \n",
       "\n",
       "                                       biome3  \n",
       "0  Host-associated:Mammals:Respiratory system  \n",
       "1  Host-associated:Mammals:Respiratory system  \n",
       "2    Host-associated:Insecta:Digestive system  \n",
       "3      Host-associated:Human:Digestive system  \n",
       "4      Host-associated:Human:Digestive system  "
      ]
     },
     "execution_count": 2,
     "metadata": {},
     "output_type": "execute_result"
    }
   ],
   "source": [
    "data.head()"
   ]
  },
  {
   "cell_type": "code",
   "execution_count": 4,
   "id": "e857c7df",
   "metadata": {},
   "outputs": [
    {
     "data": {
      "image/png": "[encoded data removed]",
      "text/plain": [
       "<Figure size 720x576 with 1 Axes>"
      ]
     },
     "metadata": {
      "needs_background": "light"
     },
     "output_type": "display_data"
    }
   ],
   "source": [
    "# Extract the level 1 biome from the 'biome3' column\n",
    "data['level1_biome'] = data['biome3'].apply(lambda x: x.split(':')[0])\n",
    "\n",
    "# Group the data by the new level 1 biome category and calculate the average and standard deviation for unweighted match percentages\n",
    "level1_biome_analysis = data.groupby('level1_biome').agg(\n",
    "    avg_ref_f_unweighted=('ref_f_unweighted', 'mean'),\n",
    "    std_ref_f_unweighted=('ref_f_unweighted', 'std')\n",
    ").reset_index()\n",
    "\n",
    "# Handle missing values for standard deviation\n",
    "level1_biome_analysis['std_ref_f_unweighted'] = level1_biome_analysis['std_ref_f_unweighted'].fillna(0)\n",
    "\n",
    "# Sort the data by average unweighted match percentage for visualization\n",
    "level1_biome_analysis_sorted = level1_biome_analysis.sort_values(by='avg_ref_f_unweighted', ascending=True)\n",
    "\n",
    "# Create a color map based on the unique level 1 biome types\n",
    "level1_biome_types = level1_biome_analysis_sorted['level1_biome'].unique()\n",
    "level1_colors = plt.cm.viridis(np.linspace(0, 1, len(level1_biome_types)))\n",
    "level1_color_map = dict(zip(level1_biome_types, level1_colors))\n",
    "\n",
    "# Set up the plotting area\n",
    "fig, ax = plt.subplots(figsize=(10, 8))\n",
    "\n",
    "# Plotting with color coding and error bars for standard deviation\n",
    "for biome, color in level1_color_map.items():\n",
    "    subset = level1_biome_analysis_sorted[level1_biome_analysis_sorted['level1_biome'] == biome]\n",
    "    ax.barh(subset['level1_biome'], subset['avg_ref_f_unweighted'], xerr=subset['std_ref_f_unweighted'], color=color)\n",
    "\n",
    "ax.set_xlabel('Average Unweighted Match Percentage (+/- SD)')\n",
    "ax.set_title('Average Unweighted Match Percentages by Level 1 Biome Type (+/- SD)')\n",
    "ax.legend(level1_color_map.keys(), title=\"Level 1 Biome Types\", bbox_to_anchor=(1.05, 1), loc='upper left')\n",
    "\n",
    "plt.show()\n"
   ]
  },
  {
   "cell_type": "code",
   "execution_count": null,
   "id": "b1f216c1",
   "metadata": {},
   "outputs": [],
   "source": []
  }
 ],
 "metadata": {
  "kernelspec": {
   "display_name": "Python 3 (ipykernel)",
   "language": "python",
   "name": "python3"
  },
  "language_info": {
   "codemirror_mode": {
    "name": "ipython",
    "version": 3
   },
   "file_extension": ".py",
   "mimetype": "text/x-python",
   "name": "python",
   "nbconvert_exporter": "python",
   "pygments_lexer": "ipython3",
   "version": "3.9.7"
  }
 },
 "nbformat": 4,
 "nbformat_minor": 5
}
