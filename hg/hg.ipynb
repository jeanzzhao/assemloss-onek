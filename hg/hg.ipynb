{
 "cells": [
  {
   "cell_type": "code",
   "execution_count": 55,
   "id": "66815241",
   "metadata": {},
   "outputs": [],
   "source": [
    "import pandas as pd\n",
    "from io import StringIO\n",
    "import matplotlib.pyplot as plt\n",
    "import matplotlib.cm as cm\n",
    "import numpy as np"
   ]
  },
  {
   "cell_type": "code",
   "execution_count": 42,
   "id": "dc126823",
   "metadata": {},
   "outputs": [
    {
     "data": {
      "text/html": [
       "<div>\n",
       "<style scoped>\n",
       "    .dataframe tbody tr th:only-of-type {\n",
       "        vertical-align: middle;\n",
       "    }\n",
       "\n",
       "    .dataframe tbody tr th {\n",
       "        vertical-align: top;\n",
       "    }\n",
       "\n",
       "    .dataframe thead th {\n",
       "        text-align: right;\n",
       "    }\n",
       "</style>\n",
       "<table border=\"1\" class=\"dataframe\">\n",
       "  <thead>\n",
       "    <tr style=\"text-align: right;\">\n",
       "      <th></th>\n",
       "      <th>query</th>\n",
       "      <th>p_genome</th>\n",
       "      <th>avg_abund</th>\n",
       "      <th>p_metag</th>\n",
       "      <th>metagenome name</th>\n",
       "    </tr>\n",
       "  </thead>\n",
       "  <tbody>\n",
       "    <tr>\n",
       "      <th>0</th>\n",
       "      <td>bosTau9.fa.gz</td>\n",
       "      <td>0.00%</td>\n",
       "      <td>1.0</td>\n",
       "      <td>0.00%</td>\n",
       "      <td>ERR9456920</td>\n",
       "    </tr>\n",
       "    <tr>\n",
       "      <th>1</th>\n",
       "      <td>bosTau9.fa.gz</td>\n",
       "      <td>0.00%</td>\n",
       "      <td>1.2</td>\n",
       "      <td>0.00%</td>\n",
       "      <td>ERR3610816</td>\n",
       "    </tr>\n",
       "    <tr>\n",
       "      <th>2</th>\n",
       "      <td>bosTau9.fa.gz</td>\n",
       "      <td>0.00%</td>\n",
       "      <td>1.0</td>\n",
       "      <td>0.00%</td>\n",
       "      <td>SRR7664969</td>\n",
       "    </tr>\n",
       "    <tr>\n",
       "      <th>3</th>\n",
       "      <td>bosTau9.fa.gz</td>\n",
       "      <td>0.00%</td>\n",
       "      <td>20.2</td>\n",
       "      <td>0.10%</td>\n",
       "      <td>SRR12180980</td>\n",
       "    </tr>\n",
       "    <tr>\n",
       "      <th>4</th>\n",
       "      <td>bosTau9.fa.gz</td>\n",
       "      <td>0.00%</td>\n",
       "      <td>3.2</td>\n",
       "      <td>0.00%</td>\n",
       "      <td>SRR6713626</td>\n",
       "    </tr>\n",
       "    <tr>\n",
       "      <th>...</th>\n",
       "      <td>...</td>\n",
       "      <td>...</td>\n",
       "      <td>...</td>\n",
       "      <td>...</td>\n",
       "      <td>...</td>\n",
       "    </tr>\n",
       "    <tr>\n",
       "      <th>19440</th>\n",
       "      <td>susScr11.fa.gz</td>\n",
       "      <td>0.00%</td>\n",
       "      <td>7.9</td>\n",
       "      <td>0.10%</td>\n",
       "      <td>SRR5808817</td>\n",
       "    </tr>\n",
       "    <tr>\n",
       "      <th>19441</th>\n",
       "      <td>susScr11.fa.gz</td>\n",
       "      <td>0.00%</td>\n",
       "      <td>1.5</td>\n",
       "      <td>0.00%</td>\n",
       "      <td>SRR10810041</td>\n",
       "    </tr>\n",
       "    <tr>\n",
       "      <th>19442</th>\n",
       "      <td>susScr11.fa.gz</td>\n",
       "      <td>0.00%</td>\n",
       "      <td>2.6</td>\n",
       "      <td>0.00%</td>\n",
       "      <td>ERR2607371</td>\n",
       "    </tr>\n",
       "    <tr>\n",
       "      <th>19443</th>\n",
       "      <td>susScr11.fa.gz</td>\n",
       "      <td>0.00%</td>\n",
       "      <td>12.6</td>\n",
       "      <td>0.10%</td>\n",
       "      <td>SRR12180994</td>\n",
       "    </tr>\n",
       "    <tr>\n",
       "      <th>19444</th>\n",
       "      <td>susScr11.fa.gz</td>\n",
       "      <td>0.00%</td>\n",
       "      <td>4.0</td>\n",
       "      <td>0.00%</td>\n",
       "      <td>ERR2592283</td>\n",
       "    </tr>\n",
       "  </tbody>\n",
       "</table>\n",
       "<p>19445 rows × 5 columns</p>\n",
       "</div>"
      ],
      "text/plain": [
       "                query p_genome  avg_abund p_metag metagenome name\n",
       "0       bosTau9.fa.gz    0.00%        1.0   0.00%      ERR9456920\n",
       "1       bosTau9.fa.gz    0.00%        1.2   0.00%      ERR3610816\n",
       "2       bosTau9.fa.gz    0.00%        1.0   0.00%      SRR7664969\n",
       "3       bosTau9.fa.gz    0.00%       20.2   0.10%     SRR12180980\n",
       "4       bosTau9.fa.gz    0.00%        3.2   0.00%      SRR6713626\n",
       "...               ...      ...        ...     ...             ...\n",
       "19440  susScr11.fa.gz    0.00%        7.9   0.10%      SRR5808817\n",
       "19441  susScr11.fa.gz    0.00%        1.5   0.00%     SRR10810041\n",
       "19442  susScr11.fa.gz    0.00%        2.6   0.00%      ERR2607371\n",
       "19443  susScr11.fa.gz    0.00%       12.6   0.10%     SRR12180994\n",
       "19444  susScr11.fa.gz    0.00%        4.0   0.00%      ERR2592283\n",
       "\n",
       "[19445 rows x 5 columns]"
      ]
     },
     "execution_count": 42,
     "metadata": {},
     "output_type": "execute_result"
    }
   ],
   "source": [
    "# Load the data\n",
    "data = pd.read_csv('/Users/ZYZhao/projects/AL/onek/hg/3k.hg.csv')\n",
    "data"
   ]
  },
  {
   "cell_type": "code",
   "execution_count": 43,
   "id": "483c38a5",
   "metadata": {
    "scrolled": true
   },
   "outputs": [
    {
     "name": "stdout",
     "output_type": "stream",
     "text": [
      "                    mean  min   max     sum\n",
      "query                                      \n",
      "bosTau9.fa.gz   0.080938  0.0  23.6   184.7\n",
      "canFam6.fa.gz   0.018541  0.0   1.6    46.5\n",
      "felCat9.fa.gz   0.011960  0.0   0.5    29.6\n",
      "galGal6.fa.gz   0.312086  0.0  67.8   754.0\n",
      "hg38.all        0.418309  0.0  63.4  1044.1\n",
      "mm39.fa.gz      1.431974  0.0  89.8  3547.0\n",
      "oviAri4.fa.gz   0.023404  0.0   4.9    56.1\n",
      "susScr11.fa.gz  0.176650  0.0  49.2   422.9\n"
     ]
    }
   ],
   "source": [
    "data['p_genome'] = data['p_genome'].str.rstrip('%').astype(float)\n",
    "\n",
    "# Group by 'query' and calculate statistics\n",
    "result = data.groupby('query')['p_genome'].agg(['mean', 'min', 'max', 'sum'])\n",
    "\n",
    "print(result)"
   ]
  },
  {
   "cell_type": "code",
   "execution_count": 61,
   "id": "a673f689",
   "metadata": {},
   "outputs": [
    {
     "name": "stdout",
     "output_type": "stream",
     "text": [
      "                    mean  min   max     sum  count_p_genome_gt_10\n",
      "query                                                            \n",
      "bosTau9.fa.gz   0.080938  0.0  23.6   184.7                     5\n",
      "canFam6.fa.gz   0.018541  0.0   1.6    46.5                     0\n",
      "felCat9.fa.gz   0.011960  0.0   0.5    29.6                     0\n",
      "galGal6.fa.gz   0.312086  0.0  67.8   754.0                    18\n",
      "hg38.all        0.418309  0.0  63.4  1044.1                    30\n",
      "mm39.fa.gz      1.431974  0.0  89.8  3547.0                    70\n",
      "oviAri4.fa.gz   0.023404  0.0   4.9    56.1                     0\n",
      "susScr11.fa.gz  0.176650  0.0  49.2   422.9                     7\n"
     ]
    }
   ],
   "source": [
    "# Calculate the number of metagenomes with p_genome > 10% for each query\n",
    "count_p_genome_gt_10 = data[data['p_genome'] > 10].groupby('query').size()\n",
    "\n",
    "# Add this information to the result table\n",
    "result['count_p_genome_gt_10'] = result.index.map(count_p_genome_gt_10).fillna(0).astype(int)\n",
    "\n",
    "# Display the updated result\n",
    "print(result)\n"
   ]
  },
  {
   "cell_type": "code",
   "execution_count": 46,
   "id": "25af9666",
   "metadata": {},
   "outputs": [
    {
     "data": {
      "image/png": "[encoded data removed]",
      "text/plain": [
       "<Figure size 864x504 with 1 Axes>"
      ]
     },
     "metadata": {
      "needs_background": "light"
     },
     "output_type": "display_data"
    }
   ],
   "source": [
    "data = pd.read_csv('/Users/ZYZhao/projects/AL/onek/hg/3k.hg.csv')\n",
    "\n",
    "# Convert p_genome and p_metag columns to numeric after stripping the '%' sign\n",
    "data[\"p_genome\"] = data[\"p_genome\"].str.rstrip('%').astype(float)\n",
    "data[\"p_metag\"] = data[\"p_metag\"].str.rstrip('%').astype(float)\n",
    "\n",
    "# Filter data to include only rows where p_genome > 0\n",
    "filtered_data = data[data[\"p_genome\"] > 0]\n",
    "\n",
    "# Plot scatter plot\n",
    "plt.figure(figsize=(12, 7))\n",
    "plt.scatter(\n",
    "    filtered_data[\"query\"], \n",
    "    filtered_data[\"p_genome\"], \n",
    "    s=filtered_data[\"p_metag\"] * 100,  # Scale dot size based on p_metag\n",
    "    alpha=0.6, \n",
    "    c=\"blue\"\n",
    ")\n",
    "plt.xlabel(\"Query\")\n",
    "plt.ylabel(\"P Genome (%)\")\n",
    "plt.title(\"Scatter Plot of Query vs P Genome\")\n",
    "plt.xticks(rotation=45, ha=\"right\")\n",
    "plt.tight_layout()\n",
    "plt.show()"
   ]
  },
  {
   "cell_type": "code",
   "execution_count": 58,
   "id": "a1c74669",
   "metadata": {},
   "outputs": [
    {
     "name": "stdout",
     "output_type": "stream",
     "text": [
      "            query  p_genome  avg_abund  p_metag metagenome name\n",
      "12825  mm39.fa.gz      89.8        4.7     70.0     SRR18439526\n",
      "14143  mm39.fa.gz      89.4        4.3     76.9     SRR18439531\n",
      "12426  mm39.fa.gz      88.6        4.4     76.6     SRR18439537\n",
      "13038  mm39.fa.gz      88.5        4.4     68.7     SRR18439549\n",
      "14050  mm39.fa.gz      87.6        4.2     71.2     SRR18439548\n",
      "...           ...       ...        ...      ...             ...\n",
      "12722  mm39.fa.gz      11.2        1.5      3.6     SRR15604628\n",
      "13007  mm39.fa.gz      11.1        1.6      4.0     SRR15604630\n",
      "12991  mm39.fa.gz      10.5        1.7     21.7     SRR16350210\n",
      "14133  mm39.fa.gz      10.5        1.5     86.4      ERR3357553\n",
      "13103  mm39.fa.gz      10.2        1.8      9.5     SRR12270116\n",
      "\n",
      "[70 rows x 5 columns]\n"
     ]
    }
   ],
   "source": [
    "mm39_data = data[data[\"query\"] == \"mm39.fa.gz\"].sort_values(by=\"p_genome\", ascending=False)\n",
    "\n",
    "# Select relevant columns for display\n",
    "mm39_data_sorted = mm39_data[[\"query\", \"p_genome\", \"avg_abund\", \"p_metag\", \"metagenome name\"]]\n",
    "\n",
    "# Filter rows where p_genome is greater than 10%\n",
    "filtered_mm39_data = mm39_data_sorted[mm39_data_sorted[\"p_genome\"] > 10]\n",
    "\n",
    "# Display the filtered data\n",
    "print(filtered_mm39_data)"
   ]
  },
  {
   "cell_type": "code",
   "execution_count": null,
   "id": "1352869f",
   "metadata": {},
   "outputs": [],
   "source": [
    "The scatter plot has been updated, including:\n",
    "\n",
    "1. **Color coding** based on the `metagenome name`.\n",
    "2. A **legend for dot size**, representing `p_metag`.\n",
    "3. A **legend for metagenome names**, indicating the color associated with each metagenome."
   ]
  },
  {
   "cell_type": "code",
   "execution_count": 60,
   "id": "88acd5ab",
   "metadata": {},
   "outputs": [
    {
     "name": "stderr",
     "output_type": "stream",
     "text": [
      "/var/folders/s9/2gscp4217xx30p4htg050dx40000gp/T/ipykernel_39064/1599578775.py:18: SettingWithCopyWarning:\n",
      "\n",
      "\n",
      "A value is trying to be set on a copy of a slice from a DataFrame.\n",
      "Try using .loc[row_indexer,col_indexer] = value instead\n",
      "\n",
      "See the caveats in the documentation: https://pandas.pydata.org/pandas-docs/stable/user_guide/indexing.html#returning-a-view-versus-a-copy\n",
      "\n"
     ]
    },
    {
     "data": {
      "image/png": "[encoded data removed]",
      "text/plain": [
       "<Figure size 864x504 with 1 Axes>"
      ]
     },
     "metadata": {
      "needs_background": "light"
     },
     "output_type": "display_data"
    }
   ],
   "source": [
    "# Load the uploaded CSV file\n",
    "file_path = '/Users/ZYZhao/projects/AL/onek/hg/3k.hg.csv'\n",
    "\n",
    "# Load the data from the uploaded CSV\n",
    "data = pd.read_csv(file_path)\n",
    "\n",
    "# Convert p_genome and p_metag columns to numeric after stripping the '%' sign\n",
    "data[\"p_genome\"] = data[\"p_genome\"].str.rstrip('%').astype(float)\n",
    "data[\"p_metag\"] = data[\"p_metag\"].str.rstrip('%').astype(float)\n",
    "\n",
    "# Filter data to include only rows where p_genome > 0\n",
    "filtered_data = data[data[\"p_genome\"] > 0]\n",
    "\n",
    "# Assign unique colors for metagenome names\n",
    "unique_metagenomes = filtered_data[\"metagenome name\"].unique()\n",
    "colors = cm.tab20(np.linspace(0, 1, len(unique_metagenomes)))  # Diverse colors\n",
    "color_map = dict(zip(unique_metagenomes, colors))\n",
    "filtered_data[\"color\"] = filtered_data[\"metagenome name\"].map(color_map)\n",
    "\n",
    "# Plot scatter plot with legend for metagenome names and dot size\n",
    "plt.figure(figsize=(12, 7))\n",
    "\n",
    "# Scatter plot\n",
    "plt.scatter(\n",
    "    filtered_data[\"query\"],\n",
    "    filtered_data[\"p_genome\"],\n",
    "    s=filtered_data[\"p_metag\"] * 100,  # Scale dot size based on p_metag\n",
    "    c=filtered_data[\"color\"],  # Color based on metagenome name\n",
    "    alpha=0.6,\n",
    "    marker='o'\n",
    ")\n",
    "\n",
    "# Add size legend for dots\n",
    "for size in [10, 50, 100, 200]:\n",
    "    plt.scatter([], [], s=size, c='gray', alpha=0.5, label=f'Size {size/100} p_metag')\n",
    "\n",
    "# Add legend for metagenome names\n",
    "handles = [plt.Line2D([0], [0], marker='o', color='w', markerfacecolor=color, markersize=10, alpha=0.6)\n",
    "           for color in color_map.values()]\n",
    "labels = color_map.keys()\n",
    "#legend_metagenome = plt.legend(handles, labels, title=\"Metagenome Name\", loc=\"upper left\", fontsize='small')\n",
    "#plt.gca().add_artist(legend_metagenome)  # Add the metagenome legend first\n",
    "\n",
    "# Add size legend to the plot\n",
    "plt.legend(title=\"Dot Size (p_metag)\", loc=\"upper right\", fontsize='small')\n",
    "\n",
    "# Add axis labels and title\n",
    "plt.xlabel(\"Query\")\n",
    "plt.ylabel(\"P Genome (%)\")\n",
    "plt.title(\"Scatter Plot of Query vs P Genome (Color by Metagenome Name)\")\n",
    "plt.xticks(rotation=45, ha=\"right\")\n",
    "plt.tight_layout()\n",
    "plt.show()"
   ]
  },
  {
   "cell_type": "code",
   "execution_count": 63,
   "id": "b304cb49",
   "metadata": {},
   "outputs": [
    {
     "data": {
      "application/vnd.plotly.v1+json": {
       "config": {
        "plotlyServerURL": "https://plot.ly"
       },
       "data": [
        {
         "customdata": [
          [
           "SRR15429289",
           3,
           85.5
          ]
         ],
         "hovertemplate": "metagenome name=%{customdata[0]}<br>Query=%{x}<br>P Genome (%)=%{y}<br>p_metag=%{customdata[2]}<br>avg_abund=%{customdata[1]}<extra></extra>",
         "legendgroup": "SRR15429289",
         "marker": {
          "color": "#636efa",
          "size": [
           85.5
          ],
          "sizemode": "area",
          "sizeref": 0.223,
          "symbol": "circle"
         },
         "mode": "markers",
         "name": "SRR15429289",
         "orientation": "v",
         "showlegend": true,
         "type": "scatter",
         "x": [
          "bosTau9.fa.gz"
         ],
         "xaxis": "x",
         "y": [
          21.2
         ],
         "yaxis": "y"
        },
        {
         "customdata": [
          [
           "SRR15429280",
           2.9,
           89.2
          ]
         ],
         "hovertemplate": "metagenome name=%{customdata[0]}<br>Query=%{x}<br>P Genome (%)=%{y}<br>p_metag=%{customdata[2]}<br>avg_abund=%{customdata[1]}<extra></extra>",
         "legendgroup": "SRR15429280",
         "marker": {
          "color": "#EF553B",
          "size": [
           89.2
          ],
          "sizemode": "area",
          "sizeref": 0.223,
          "symbol": "circle"
         },
         "mode": "markers",
         "name": "SRR15429280",
         "orientation": "v",
         "showlegend": true,
         "type": "scatter",
         "x": [
          "bosTau9.fa.gz"
         ],
         "xaxis": "x",
         "y": [
          23.6
         ],
         "yaxis": "y"
        },
        {
         "customdata": [
          [
           "ERR4398795",
           2.4,
           6.7
          ]
         ],
         "hovertemplate": "metagenome name=%{customdata[0]}<br>Query=%{x}<br>P Genome (%)=%{y}<br>p_metag=%{customdata[2]}<br>avg_abund=%{customdata[1]}<extra></extra>",
         "legendgroup": "ERR4398795",
         "marker": {
          "color": "#00cc96",
          "size": [
           6.7
          ],
          "sizemode": "area",
          "sizeref": 0.223,
          "symbol": "circle"
         },
         "mode": "markers",
         "name": "ERR4398795",
         "orientation": "v",
         "showlegend": true,
         "type": "scatter",
         "x": [
          "bosTau9.fa.gz"
         ],
         "xaxis": "x",
         "y": [
          14.5
         ],
         "yaxis": "y"
        },
        {
         "customdata": [
          [
           "SRR15429288",
           2.9,
           74.9
          ]
         ],
         "hovertemplate": "metagenome name=%{customdata[0]}<br>Query=%{x}<br>P Genome (%)=%{y}<br>p_metag=%{customdata[2]}<br>avg_abund=%{customdata[1]}<extra></extra>",
         "legendgroup": "SRR15429288",
         "marker": {
          "color": "#ab63fa",
          "size": [
           74.9
          ],
          "sizemode": "area",
          "sizeref": 0.223,
          "symbol": "circle"
         },
         "mode": "markers",
         "name": "SRR15429288",
         "orientation": "v",
         "showlegend": true,
         "type": "scatter",
         "x": [
          "bosTau9.fa.gz"
         ],
         "xaxis": "x",
         "y": [
          19
         ],
         "yaxis": "y"
        },
        {
         "customdata": [
          [
           "SRR15429279",
           2.8,
           84.1
          ]
         ],
         "hovertemplate": "metagenome name=%{customdata[0]}<br>Query=%{x}<br>P Genome (%)=%{y}<br>p_metag=%{customdata[2]}<br>avg_abund=%{customdata[1]}<extra></extra>",
         "legendgroup": "SRR15429279",
         "marker": {
          "color": "#FFA15A",
          "size": [
           84.1
          ],
          "sizemode": "area",
          "sizeref": 0.223,
          "symbol": "circle"
         },
         "mode": "markers",
         "name": "SRR15429279",
         "orientation": "v",
         "showlegend": true,
         "type": "scatter",
         "x": [
          "bosTau9.fa.gz"
         ],
         "xaxis": "x",
         "y": [
          22.4
         ],
         "yaxis": "y"
        },
        {
         "customdata": [
          [
           "ERR2241752",
           2.2,
           2.8
          ]
         ],
         "hovertemplate": "metagenome name=%{customdata[0]}<br>Query=%{x}<br>P Genome (%)=%{y}<br>p_metag=%{customdata[2]}<br>avg_abund=%{customdata[1]}<extra></extra>",
         "legendgroup": "ERR2241752",
         "marker": {
          "color": "#19d3f3",
          "size": [
           2.8
          ],
          "sizemode": "area",
          "sizeref": 0.223,
          "symbol": "circle"
         },
         "mode": "markers",
         "name": "ERR2241752",
         "orientation": "v",
         "showlegend": true,
         "type": "scatter",
         "x": [
          "galGal6.fa.gz"
         ],
         "xaxis": "x",
         "y": [
          16.6
         ],
         "yaxis": "y"
        },
        {
         "customdata": [
          [
           "ERR3340883",
           3.5,
           25.9
          ]
         ],
         "hovertemplate": "metagenome name=%{customdata[0]}<br>Query=%{x}<br>P Genome (%)=%{y}<br>p_metag=%{customdata[2]}<br>avg_abund=%{customdata[1]}<extra></extra>",
         "legendgroup": "ERR3340883",
         "marker": {
          "color": "#FF6692",
          "size": [
           25.9
          ],
          "sizemode": "area",
          "sizeref": 0.223,
          "symbol": "circle"
         },
         "mode": "markers",
         "name": "ERR3340883",
         "orientation": "v",
         "showlegend": true,
         "type": "scatter",
         "x": [
          "galGal6.fa.gz"
         ],
         "xaxis": "x",
         "y": [
          17
         ],
         "yaxis": "y"
        },
        {
         "customdata": [
          [
           "ERR2241799",
           1.9,
           1.9
          ]
         ],
         "hovertemplate": "metagenome name=%{customdata[0]}<br>Query=%{x}<br>P Genome (%)=%{y}<br>p_metag=%{customdata[2]}<br>avg_abund=%{customdata[1]}<extra></extra>",
         "legendgroup": "ERR2241799",
         "marker": {
          "color": "#B6E880",
          "size": [
           1.9
          ],
          "sizemode": "area",
          "sizeref": 0.223,
          "symbol": "circle"
         },
         "mode": "markers",
         "name": "ERR2241799",
         "orientation": "v",
         "showlegend": true,
         "type": "scatter",
         "x": [
          "galGal6.fa.gz"
         ],
         "xaxis": "x",
         "y": [
          11.1
         ],
         "yaxis": "y"
        },
        {
         "customdata": [
          [
           "ERR3340884",
           1.9,
           15.5
          ]
         ],
         "hovertemplate": "metagenome name=%{customdata[0]}<br>Query=%{x}<br>P Genome (%)=%{y}<br>p_metag=%{customdata[2]}<br>avg_abund=%{customdata[1]}<extra></extra>",
         "legendgroup": "ERR3340884",
         "marker": {
          "color": "#FF97FF",
          "size": [
           15.5
          ],
          "sizemode": "area",
          "sizeref": 0.223,
          "symbol": "circle"
         },
         "mode": "markers",
         "name": "ERR3340884",
         "orientation": "v",
         "showlegend": true,
         "type": "scatter",
         "x": [
          "galGal6.fa.gz"
         ],
         "xaxis": "x",
         "y": [
          21.6
         ],
         "yaxis": "y"
        },
        {
         "customdata": [
          [
           "ERR3339002",
           2.7,
           40.2
          ]
         ],
         "hovertemplate": "metagenome name=%{customdata[0]}<br>Query=%{x}<br>P Genome (%)=%{y}<br>p_metag=%{customdata[2]}<br>avg_abund=%{customdata[1]}<extra></extra>",
         "legendgroup": "ERR3339002",
         "marker": {
          "color": "#FECB52",
          "size": [
           40.2
          ],
          "sizemode": "area",
          "sizeref": 0.223,
          "symbol": "circle"
         },
         "mode": "markers",
         "name": "ERR3339002",
         "orientation": "v",
         "showlegend": true,
         "type": "scatter",
         "x": [
          "galGal6.fa.gz"
         ],
         "xaxis": "x",
         "y": [
          33.5
         ],
         "yaxis": "y"
        },
        {
         "customdata": [
          [
           "ERR3340879",
           2.4,
           45.1
          ]
         ],
         "hovertemplate": "metagenome name=%{customdata[0]}<br>Query=%{x}<br>P Genome (%)=%{y}<br>p_metag=%{customdata[2]}<br>avg_abund=%{customdata[1]}<extra></extra>",
         "legendgroup": "ERR3340879",
         "marker": {
          "color": "#636efa",
          "size": [
           45.1
          ],
          "sizemode": "area",
          "sizeref": 0.223,
          "symbol": "circle"
         },
         "mode": "markers",
         "name": "ERR3340879",
         "orientation": "v",
         "showlegend": true,
         "type": "scatter",
         "x": [
          "galGal6.fa.gz"
         ],
         "xaxis": "x",
         "y": [
          38.1
         ],
         "yaxis": "y"
        },
        {
         "customdata": [
          [
           "ERR2241631",
           1.9,
           2.8
          ]
         ],
         "hovertemplate": "metagenome name=%{customdata[0]}<br>Query=%{x}<br>P Genome (%)=%{y}<br>p_metag=%{customdata[2]}<br>avg_abund=%{customdata[1]}<extra></extra>",
         "legendgroup": "ERR2241631",
         "marker": {
          "color": "#EF553B",
          "size": [
           2.8
          ],
          "sizemode": "area",
          "sizeref": 0.223,
          "symbol": "circle"
         },
         "mode": "markers",
         "name": "ERR2241631",
         "orientation": "v",
         "showlegend": true,
         "type": "scatter",
         "x": [
          "galGal6.fa.gz"
         ],
         "xaxis": "x",
         "y": [
          14.8
         ],
         "yaxis": "y"
        },
        {
         "customdata": [
          [
           "ERR2241972",
           2.6,
           7.4
          ]
         ],
         "hovertemplate": "metagenome name=%{customdata[0]}<br>Query=%{x}<br>P Genome (%)=%{y}<br>p_metag=%{customdata[2]}<br>avg_abund=%{customdata[1]}<extra></extra>",
         "legendgroup": "ERR2241972",
         "marker": {
          "color": "#00cc96",
          "size": [
           7.4
          ],
          "sizemode": "area",
          "sizeref": 0.223,
          "symbol": "circle"
         },
         "mode": "markers",
         "name": "ERR2241972",
         "orientation": "v",
         "showlegend": true,
         "type": "scatter",
         "x": [
          "galGal6.fa.gz"
         ],
         "xaxis": "x",
         "y": [
          36
         ],
         "yaxis": "y"
        },
        {
         "customdata": [
          [
           "ERR3339027",
           3.6,
           57.6
          ]
         ],
         "hovertemplate": "metagenome name=%{customdata[0]}<br>Query=%{x}<br>P Genome (%)=%{y}<br>p_metag=%{customdata[2]}<br>avg_abund=%{customdata[1]}<extra></extra>",
         "legendgroup": "ERR3339027",
         "marker": {
          "color": "#ab63fa",
          "size": [
           57.6
          ],
          "sizemode": "area",
          "sizeref": 0.223,
          "symbol": "circle"
         },
         "mode": "markers",
         "name": "ERR3339027",
         "orientation": "v",
         "showlegend": true,
         "type": "scatter",
         "x": [
          "galGal6.fa.gz"
         ],
         "xaxis": "x",
         "y": [
          67.8
         ],
         "yaxis": "y"
        },
        {
         "customdata": [
          [
           "ERR3339029",
           2.3,
           40.6
          ]
         ],
         "hovertemplate": "metagenome name=%{customdata[0]}<br>Query=%{x}<br>P Genome (%)=%{y}<br>p_metag=%{customdata[2]}<br>avg_abund=%{customdata[1]}<extra></extra>",
         "legendgroup": "ERR3339029",
         "marker": {
          "color": "#FFA15A",
          "size": [
           40.6
          ],
          "sizemode": "area",
          "sizeref": 0.223,
          "symbol": "circle"
         },
         "mode": "markers",
         "name": "ERR3339029",
         "orientation": "v",
         "showlegend": true,
         "type": "scatter",
         "x": [
          "galGal6.fa.gz"
         ],
         "xaxis": "x",
         "y": [
          39.3
         ],
         "yaxis": "y"
        },
        {
         "customdata": [
          [
           "SRR9113711",
           2.9,
           15.6
          ]
         ],
         "hovertemplate": "metagenome name=%{customdata[0]}<br>Query=%{x}<br>P Genome (%)=%{y}<br>p_metag=%{customdata[2]}<br>avg_abund=%{customdata[1]}<extra></extra>",
         "legendgroup": "SRR9113711",
         "marker": {
          "color": "#19d3f3",
          "size": [
           15.6
          ],
          "sizemode": "area",
          "sizeref": 0.223,
          "symbol": "circle"
         },
         "mode": "markers",
         "name": "SRR9113711",
         "orientation": "v",
         "showlegend": true,
         "type": "scatter",
         "x": [
          "galGal6.fa.gz"
         ],
         "xaxis": "x",
         "y": [
          20.9
         ],
         "yaxis": "y"
        },
        {
         "customdata": [
          [
           "ERR2241889",
           2.1,
           1.7
          ]
         ],
         "hovertemplate": "metagenome name=%{customdata[0]}<br>Query=%{x}<br>P Genome (%)=%{y}<br>p_metag=%{customdata[2]}<br>avg_abund=%{customdata[1]}<extra></extra>",
         "legendgroup": "ERR2241889",
         "marker": {
          "color": "#FF6692",
          "size": [
           1.7
          ],
          "sizemode": "area",
          "sizeref": 0.223,
          "symbol": "circle"
         },
         "mode": "markers",
         "name": "ERR2241889",
         "orientation": "v",
         "showlegend": true,
         "type": "scatter",
         "x": [
          "galGal6.fa.gz"
         ],
         "xaxis": "x",
         "y": [
          11.4
         ],
         "yaxis": "y"
        },
        {
         "customdata": [
          [
           "ERR2241736",
           2.3,
           6.6
          ]
         ],
         "hovertemplate": "metagenome name=%{customdata[0]}<br>Query=%{x}<br>P Genome (%)=%{y}<br>p_metag=%{customdata[2]}<br>avg_abund=%{customdata[1]}<extra></extra>",
         "legendgroup": "ERR2241736",
         "marker": {
          "color": "#B6E880",
          "size": [
           6.6
          ],
          "sizemode": "area",
          "sizeref": 0.223,
          "symbol": "circle"
         },
         "mode": "markers",
         "name": "ERR2241736",
         "orientation": "v",
         "showlegend": true,
         "type": "scatter",
         "x": [
          "galGal6.fa.gz"
         ],
         "xaxis": "x",
         "y": [
          29.7
         ],
         "yaxis": "y"
        },
        {
         "customdata": [
          [
           "SRR9113707",
           2.4,
           7
          ]
         ],
         "hovertemplate": "metagenome name=%{customdata[0]}<br>Query=%{x}<br>P Genome (%)=%{y}<br>p_metag=%{customdata[2]}<br>avg_abund=%{customdata[1]}<extra></extra>",
         "legendgroup": "SRR9113707",
         "marker": {
          "color": "#FF97FF",
          "size": [
           7
          ],
          "sizemode": "area",
          "sizeref": 0.223,
          "symbol": "circle"
         },
         "mode": "markers",
         "name": "SRR9113707",
         "orientation": "v",
         "showlegend": true,
         "type": "scatter",
         "x": [
          "galGal6.fa.gz"
         ],
         "xaxis": "x",
         "y": [
          14
         ],
         "yaxis": "y"
        },
        {
         "customdata": [
          [
           "ERR2241743",
           2,
           3.1
          ]
         ],
         "hovertemplate": "metagenome name=%{customdata[0]}<br>Query=%{x}<br>P Genome (%)=%{y}<br>p_metag=%{customdata[2]}<br>avg_abund=%{customdata[1]}<extra></extra>",
         "legendgroup": "ERR2241743",
         "marker": {
          "color": "#FECB52",
          "size": [
           3.1
          ],
          "sizemode": "area",
          "sizeref": 0.223,
          "symbol": "circle"
         },
         "mode": "markers",
         "name": "ERR2241743",
         "orientation": "v",
         "showlegend": true,
         "type": "scatter",
         "x": [
          "galGal6.fa.gz"
         ],
         "xaxis": "x",
         "y": [
          18.5
         ],
         "yaxis": "y"
        },
        {
         "customdata": [
          [
           "ERR3339001",
           2.6,
           13.5
          ]
         ],
         "hovertemplate": "metagenome name=%{customdata[0]}<br>Query=%{x}<br>P Genome (%)=%{y}<br>p_metag=%{customdata[2]}<br>avg_abund=%{customdata[1]}<extra></extra>",
         "legendgroup": "ERR3339001",
         "marker": {
          "color": "#636efa",
          "size": [
           13.5
          ],
          "sizemode": "area",
          "sizeref": 0.223,
          "symbol": "circle"
         },
         "mode": "markers",
         "name": "ERR3339001",
         "orientation": "v",
         "showlegend": true,
         "type": "scatter",
         "x": [
          "galGal6.fa.gz"
         ],
         "xaxis": "x",
         "y": [
          16.6
         ],
         "yaxis": "y"
        },
        {
         "customdata": [
          [
           "ERR2241755",
           2.2,
           2.3
          ]
         ],
         "hovertemplate": "metagenome name=%{customdata[0]}<br>Query=%{x}<br>P Genome (%)=%{y}<br>p_metag=%{customdata[2]}<br>avg_abund=%{customdata[1]}<extra></extra>",
         "legendgroup": "ERR2241755",
         "marker": {
          "color": "#EF553B",
          "size": [
           2.3
          ],
          "sizemode": "area",
          "sizeref": 0.223,
          "symbol": "circle"
         },
         "mode": "markers",
         "name": "ERR2241755",
         "orientation": "v",
         "showlegend": true,
         "type": "scatter",
         "x": [
          "galGal6.fa.gz"
         ],
         "xaxis": "x",
         "y": [
          15.1
         ],
         "yaxis": "y"
        },
        {
         "customdata": [
          [
           "ERR2241749",
           2,
           2.7
          ]
         ],
         "hovertemplate": "metagenome name=%{customdata[0]}<br>Query=%{x}<br>P Genome (%)=%{y}<br>p_metag=%{customdata[2]}<br>avg_abund=%{customdata[1]}<extra></extra>",
         "legendgroup": "ERR2241749",
         "marker": {
          "color": "#00cc96",
          "size": [
           2.7
          ],
          "sizemode": "area",
          "sizeref": 0.223,
          "symbol": "circle"
         },
         "mode": "markers",
         "name": "ERR2241749",
         "orientation": "v",
         "showlegend": true,
         "type": "scatter",
         "x": [
          "galGal6.fa.gz"
         ],
         "xaxis": "x",
         "y": [
          13.7
         ],
         "yaxis": "y"
        },
        {
         "customdata": [
          [
           "ERR2241907",
           2.2,
           18.6
          ]
         ],
         "hovertemplate": "metagenome name=%{customdata[0]}<br>Query=%{x}<br>P Genome (%)=%{y}<br>p_metag=%{customdata[2]}<br>avg_abund=%{customdata[1]}<extra></extra>",
         "legendgroup": "ERR2241907",
         "marker": {
          "color": "#ab63fa",
          "size": [
           18.6
          ],
          "sizemode": "area",
          "sizeref": 0.223,
          "symbol": "circle"
         },
         "mode": "markers",
         "name": "ERR2241907",
         "orientation": "v",
         "showlegend": true,
         "type": "scatter",
         "x": [
          "hg38.all"
         ],
         "xaxis": "x",
         "y": [
          33.3
         ],
         "yaxis": "y"
        },
        {
         "customdata": [
          [
           "SRR6757641",
           5.4,
           82.2
          ]
         ],
         "hovertemplate": "metagenome name=%{customdata[0]}<br>Query=%{x}<br>P Genome (%)=%{y}<br>p_metag=%{customdata[2]}<br>avg_abund=%{customdata[1]}<extra></extra>",
         "legendgroup": "SRR6757641",
         "marker": {
          "color": "#FFA15A",
          "size": [
           82.2
          ],
          "sizemode": "area",
          "sizeref": 0.223,
          "symbol": "circle"
         },
         "mode": "markers",
         "name": "SRR6757641",
         "orientation": "v",
         "showlegend": true,
         "type": "scatter",
         "x": [
          "hg38.all"
         ],
         "xaxis": "x",
         "y": [
          34.2
         ],
         "yaxis": "y"
        },
        {
         "customdata": [
          [
           "SRR6145077",
           2.4,
           54.3
          ]
         ],
         "hovertemplate": "metagenome name=%{customdata[0]}<br>Query=%{x}<br>P Genome (%)=%{y}<br>p_metag=%{customdata[2]}<br>avg_abund=%{customdata[1]}<extra></extra>",
         "legendgroup": "SRR6145077",
         "marker": {
          "color": "#19d3f3",
          "size": [
           54.3
          ],
          "sizemode": "area",
          "sizeref": 0.223,
          "symbol": "circle"
         },
         "mode": "markers",
         "name": "SRR6145077",
         "orientation": "v",
         "showlegend": true,
         "type": "scatter",
         "x": [
          "hg38.all"
         ],
         "xaxis": "x",
         "y": [
          44.4
         ],
         "yaxis": "y"
        },
        {
         "customdata": [
          [
           "SRR1950773",
           2.1,
           85.7
          ]
         ],
         "hovertemplate": "metagenome name=%{customdata[0]}<br>Query=%{x}<br>P Genome (%)=%{y}<br>p_metag=%{customdata[2]}<br>avg_abund=%{customdata[1]}<extra></extra>",
         "legendgroup": "SRR1950773",
         "marker": {
          "color": "#FF6692",
          "size": [
           85.7
          ],
          "sizemode": "area",
          "sizeref": 0.223,
          "symbol": "circle"
         },
         "mode": "markers",
         "name": "SRR1950773",
         "orientation": "v",
         "showlegend": true,
         "type": "scatter",
         "x": [
          "hg38.all"
         ],
         "xaxis": "x",
         "y": [
          14.5
         ],
         "yaxis": "y"
        },
        {
         "customdata": [
          [
           "ERR3593583",
           1.7,
           28.6
          ]
         ],
         "hovertemplate": "metagenome name=%{customdata[0]}<br>Query=%{x}<br>P Genome (%)=%{y}<br>p_metag=%{customdata[2]}<br>avg_abund=%{customdata[1]}<extra></extra>",
         "legendgroup": "ERR3593583",
         "marker": {
          "color": "#B6E880",
          "size": [
           28.6
          ],
          "sizemode": "area",
          "sizeref": 0.223,
          "symbol": "circle"
         },
         "mode": "markers",
         "name": "ERR3593583",
         "orientation": "v",
         "showlegend": true,
         "type": "scatter",
         "x": [
          "hg38.all"
         ],
         "xaxis": "x",
         "y": [
          14.4
         ],
         "yaxis": "y"
        },
        {
         "customdata": [
          [
           "SRR1950765",
           2.1,
           75.4
          ]
         ],
         "hovertemplate": "metagenome name=%{customdata[0]}<br>Query=%{x}<br>P Genome (%)=%{y}<br>p_metag=%{customdata[2]}<br>avg_abund=%{customdata[1]}<extra></extra>",
         "legendgroup": "SRR1950765",
         "marker": {
          "color": "#FF97FF",
          "size": [
           75.4
          ],
          "sizemode": "area",
          "sizeref": 0.223,
          "symbol": "circle"
         },
         "mode": "markers",
         "name": "SRR1950765",
         "orientation": "v",
         "showlegend": true,
         "type": "scatter",
         "x": [
          "hg38.all"
         ],
         "xaxis": "x",
         "y": [
          16
         ],
         "yaxis": "y"
        },
        {
         "customdata": [
          [
           "SRR6145084",
           2.3,
           62.6
          ]
         ],
         "hovertemplate": "metagenome name=%{customdata[0]}<br>Query=%{x}<br>P Genome (%)=%{y}<br>p_metag=%{customdata[2]}<br>avg_abund=%{customdata[1]}<extra></extra>",
         "legendgroup": "SRR6145084",
         "marker": {
          "color": "#FECB52",
          "size": [
           62.6
          ],
          "sizemode": "area",
          "sizeref": 0.223,
          "symbol": "circle"
         },
         "mode": "markers",
         "name": "SRR6145084",
         "orientation": "v",
         "showlegend": true,
         "type": "scatter",
         "x": [
          "hg38.all"
         ],
         "xaxis": "x",
         "y": [
          40.7
         ],
         "yaxis": "y"
        },
        {
         "customdata": [
          [
           "SRR6216751",
           2.1,
           51.4
          ]
         ],
         "hovertemplate": "metagenome name=%{customdata[0]}<br>Query=%{x}<br>P Genome (%)=%{y}<br>p_metag=%{customdata[2]}<br>avg_abund=%{customdata[1]}<extra></extra>",
         "legendgroup": "SRR6216751",
         "marker": {
          "color": "#636efa",
          "size": [
           51.4
          ],
          "sizemode": "area",
          "sizeref": 0.223,
          "symbol": "circle"
         },
         "mode": "markers",
         "name": "SRR6216751",
         "orientation": "v",
         "showlegend": true,
         "type": "scatter",
         "x": [
          "hg38.all"
         ],
         "xaxis": "x",
         "y": [
          11.8
         ],
         "yaxis": "y"
        },
        {
         "customdata": [
          [
           "ERR2750639",
           1.7,
           86.9
          ]
         ],
         "hovertemplate": "metagenome name=%{customdata[0]}<br>Query=%{x}<br>P Genome (%)=%{y}<br>p_metag=%{customdata[2]}<br>avg_abund=%{customdata[1]}<extra></extra>",
         "legendgroup": "ERR2750639",
         "marker": {
          "color": "#EF553B",
          "size": [
           86.9
          ],
          "sizemode": "area",
          "sizeref": 0.223,
          "symbol": "circle"
         },
         "mode": "markers",
         "name": "ERR2750639",
         "orientation": "v",
         "showlegend": true,
         "type": "scatter",
         "x": [
          "hg38.all"
         ],
         "xaxis": "x",
         "y": [
          31.9
         ],
         "yaxis": "y"
        },
        {
         "customdata": [
          [
           "ERR2749913",
           1.6,
           81.3
          ]
         ],
         "hovertemplate": "metagenome name=%{customdata[0]}<br>Query=%{x}<br>P Genome (%)=%{y}<br>p_metag=%{customdata[2]}<br>avg_abund=%{customdata[1]}<extra></extra>",
         "legendgroup": "ERR2749913",
         "marker": {
          "color": "#00cc96",
          "size": [
           81.3
          ],
          "sizemode": "area",
          "sizeref": 0.223,
          "symbol": "circle"
         },
         "mode": "markers",
         "name": "ERR2749913",
         "orientation": "v",
         "showlegend": true,
         "type": "scatter",
         "x": [
          "hg38.all"
         ],
         "xaxis": "x",
         "y": [
          23
         ],
         "yaxis": "y"
        },
        {
         "customdata": [
          [
           "ERR3593541",
           2,
           85.4
          ]
         ],
         "hovertemplate": "metagenome name=%{customdata[0]}<br>Query=%{x}<br>P Genome (%)=%{y}<br>p_metag=%{customdata[2]}<br>avg_abund=%{customdata[1]}<extra></extra>",
         "legendgroup": "ERR3593541",
         "marker": {
          "color": "#ab63fa",
          "size": [
           85.4
          ],
          "sizemode": "area",
          "sizeref": 0.223,
          "symbol": "circle"
         },
         "mode": "markers",
         "name": "ERR3593541",
         "orientation": "v",
         "showlegend": true,
         "type": "scatter",
         "x": [
          "hg38.all"
         ],
         "xaxis": "x",
         "y": [
          39
         ],
         "yaxis": "y"
        },
        {
         "customdata": [
          [
           "SRR6216796",
           1.9,
           60.8
          ]
         ],
         "hovertemplate": "metagenome name=%{customdata[0]}<br>Query=%{x}<br>P Genome (%)=%{y}<br>p_metag=%{customdata[2]}<br>avg_abund=%{customdata[1]}<extra></extra>",
         "legendgroup": "SRR6216796",
         "marker": {
          "color": "#FFA15A",
          "size": [
           60.8
          ],
          "sizemode": "area",
          "sizeref": 0.223,
          "symbol": "circle"
         },
         "mode": "markers",
         "name": "SRR6216796",
         "orientation": "v",
         "showlegend": true,
         "type": "scatter",
         "x": [
          "hg38.all"
         ],
         "xaxis": "x",
         "y": [
          11.5
         ],
         "yaxis": "y"
        },
        {
         "customdata": [
          [
           "SRR9684990",
           1.9,
           82.8
          ]
         ],
         "hovertemplate": "metagenome name=%{customdata[0]}<br>Query=%{x}<br>P Genome (%)=%{y}<br>p_metag=%{customdata[2]}<br>avg_abund=%{customdata[1]}<extra></extra>",
         "legendgroup": "SRR9684990",
         "marker": {
          "color": "#19d3f3",
          "size": [
           82.8
          ],
          "sizemode": "area",
          "sizeref": 0.223,
          "symbol": "circle"
         },
         "mode": "markers",
         "name": "SRR9684990",
         "orientation": "v",
         "showlegend": true,
         "type": "scatter",
         "x": [
          "hg38.all"
         ],
         "xaxis": "x",
         "y": [
          26.2
         ],
         "yaxis": "y"
        },
        {
         "customdata": [
          [
           "SRR4420309",
           4.7,
           49.2
          ]
         ],
         "hovertemplate": "metagenome name=%{customdata[0]}<br>Query=%{x}<br>P Genome (%)=%{y}<br>p_metag=%{customdata[2]}<br>avg_abund=%{customdata[1]}<extra></extra>",
         "legendgroup": "SRR4420309",
         "marker": {
          "color": "#FF6692",
          "size": [
           49.2
          ],
          "sizemode": "area",
          "sizeref": 0.223,
          "symbol": "circle"
         },
         "mode": "markers",
         "name": "SRR4420309",
         "orientation": "v",
         "showlegend": true,
         "type": "scatter",
         "x": [
          "hg38.all"
         ],
         "xaxis": "x",
         "y": [
          23.6
         ],
         "yaxis": "y"
        },
        {
         "customdata": [
          [
           "SRR1950787",
           1.9,
           66.3
          ]
         ],
         "hovertemplate": "metagenome name=%{customdata[0]}<br>Query=%{x}<br>P Genome (%)=%{y}<br>p_metag=%{customdata[2]}<br>avg_abund=%{customdata[1]}<extra></extra>",
         "legendgroup": "SRR1950787",
         "marker": {
          "color": "#B6E880",
          "size": [
           66.3
          ],
          "sizemode": "area",
          "sizeref": 0.223,
          "symbol": "circle"
         },
         "mode": "markers",
         "name": "SRR1950787",
         "orientation": "v",
         "showlegend": true,
         "type": "scatter",
         "x": [
          "hg38.all"
         ],
         "xaxis": "x",
         "y": [
          12.9
         ],
         "yaxis": "y"
        },
        {
         "customdata": [
          [
           "SRR6757613",
           2.4,
           69.5
          ]
         ],
         "hovertemplate": "metagenome name=%{customdata[0]}<br>Query=%{x}<br>P Genome (%)=%{y}<br>p_metag=%{customdata[2]}<br>avg_abund=%{customdata[1]}<extra></extra>",
         "legendgroup": "SRR6757613",
         "marker": {
          "color": "#FF97FF",
          "size": [
           69.5
          ],
          "sizemode": "area",
          "sizeref": 0.223,
          "symbol": "circle"
         },
         "mode": "markers",
         "name": "SRR6757613",
         "orientation": "v",
         "showlegend": true,
         "type": "scatter",
         "x": [
          "hg38.all"
         ],
         "xaxis": "x",
         "y": [
          43
         ],
         "yaxis": "y"
        },
        {
         "customdata": [
          [
           "SRR1950750",
           2.6,
           71.9
          ]
         ],
         "hovertemplate": "metagenome name=%{customdata[0]}<br>Query=%{x}<br>P Genome (%)=%{y}<br>p_metag=%{customdata[2]}<br>avg_abund=%{customdata[1]}<extra></extra>",
         "legendgroup": "SRR1950750",
         "marker": {
          "color": "#FECB52",
          "size": [
           71.9
          ],
          "sizemode": "area",
          "sizeref": 0.223,
          "symbol": "circle"
         },
         "mode": "markers",
         "name": "SRR1950750",
         "orientation": "v",
         "showlegend": true,
         "type": "scatter",
         "x": [
          "hg38.all"
         ],
         "xaxis": "x",
         "y": [
          43.9
         ],
         "yaxis": "y"
        },
        {
         "customdata": [
          [
           "ERR2749187",
           1.6,
           87.8
          ]
         ],
         "hovertemplate": "metagenome name=%{customdata[0]}<br>Query=%{x}<br>P Genome (%)=%{y}<br>p_metag=%{customdata[2]}<br>avg_abund=%{customdata[1]}<extra></extra>",
         "legendgroup": "ERR2749187",
         "marker": {
          "color": "#636efa",
          "size": [
           87.8
          ],
          "sizemode": "area",
          "sizeref": 0.223,
          "symbol": "circle"
         },
         "mode": "markers",
         "name": "ERR2749187",
         "orientation": "v",
         "showlegend": true,
         "type": "scatter",
         "x": [
          "hg38.all"
         ],
         "xaxis": "x",
         "y": [
          26.2
         ],
         "yaxis": "y"
        },
        {
         "customdata": [
          [
           "SRR4420311",
           4.2,
           45.4
          ]
         ],
         "hovertemplate": "metagenome name=%{customdata[0]}<br>Query=%{x}<br>P Genome (%)=%{y}<br>p_metag=%{customdata[2]}<br>avg_abund=%{customdata[1]}<extra></extra>",
         "legendgroup": "SRR4420311",
         "marker": {
          "color": "#EF553B",
          "size": [
           45.4
          ],
          "sizemode": "area",
          "sizeref": 0.223,
          "symbol": "circle"
         },
         "mode": "markers",
         "name": "SRR4420311",
         "orientation": "v",
         "showlegend": true,
         "type": "scatter",
         "x": [
          "hg38.all"
         ],
         "xaxis": "x",
         "y": [
          18.7
         ],
         "yaxis": "y"
        },
        {
         "customdata": [
          [
           "ERR2750405",
           1.5,
           51.3
          ]
         ],
         "hovertemplate": "metagenome name=%{customdata[0]}<br>Query=%{x}<br>P Genome (%)=%{y}<br>p_metag=%{customdata[2]}<br>avg_abund=%{customdata[1]}<extra></extra>",
         "legendgroup": "ERR2750405",
         "marker": {
          "color": "#00cc96",
          "size": [
           51.3
          ],
          "sizemode": "area",
          "sizeref": 0.223,
          "symbol": "circle"
         },
         "mode": "markers",
         "name": "ERR2750405",
         "orientation": "v",
         "showlegend": true,
         "type": "scatter",
         "x": [
          "hg38.all"
         ],
         "xaxis": "x",
         "y": [
          11.5
         ],
         "yaxis": "y"
        },
        {
         "customdata": [
          [
           "SRR4420318",
           6.4,
           84.1
          ]
         ],
         "hovertemplate": "metagenome name=%{customdata[0]}<br>Query=%{x}<br>P Genome (%)=%{y}<br>p_metag=%{customdata[2]}<br>avg_abund=%{customdata[1]}<extra></extra>",
         "legendgroup": "SRR4420318",
         "marker": {
          "color": "#ab63fa",
          "size": [
           84.1
          ],
          "sizemode": "area",
          "sizeref": 0.223,
          "symbol": "circle"
         },
         "mode": "markers",
         "name": "SRR4420318",
         "orientation": "v",
         "showlegend": true,
         "type": "scatter",
         "x": [
          "hg38.all"
         ],
         "xaxis": "x",
         "y": [
          63.4
         ],
         "yaxis": "y"
        },
        {
         "customdata": [
          [
           "SRR4420319",
           12.6,
           66
          ]
         ],
         "hovertemplate": "metagenome name=%{customdata[0]}<br>Query=%{x}<br>P Genome (%)=%{y}<br>p_metag=%{customdata[2]}<br>avg_abund=%{customdata[1]}<extra></extra>",
         "legendgroup": "SRR4420319",
         "marker": {
          "color": "#FFA15A",
          "size": [
           66
          ],
          "sizemode": "area",
          "sizeref": 0.223,
          "symbol": "circle"
         },
         "mode": "markers",
         "name": "SRR4420319",
         "orientation": "v",
         "showlegend": true,
         "type": "scatter",
         "x": [
          "hg38.all"
         ],
         "xaxis": "x",
         "y": [
          15.6
         ],
         "yaxis": "y"
        },
        {
         "customdata": [
          [
           "SRR6145083",
           2.2,
           39.5
          ]
         ],
         "hovertemplate": "metagenome name=%{customdata[0]}<br>Query=%{x}<br>P Genome (%)=%{y}<br>p_metag=%{customdata[2]}<br>avg_abund=%{customdata[1]}<extra></extra>",
         "legendgroup": "SRR6145083",
         "marker": {
          "color": "#19d3f3",
          "size": [
           39.5
          ],
          "sizemode": "area",
          "sizeref": 0.223,
          "symbol": "circle"
         },
         "mode": "markers",
         "name": "SRR6145083",
         "orientation": "v",
         "showlegend": true,
         "type": "scatter",
         "x": [
          "hg38.all"
         ],
         "xaxis": "x",
         "y": [
          29.1
         ],
         "yaxis": "y"
        },
        {
         "customdata": [
          [
           "SRR6757611",
           8.1,
           85.1
          ]
         ],
         "hovertemplate": "metagenome name=%{customdata[0]}<br>Query=%{x}<br>P Genome (%)=%{y}<br>p_metag=%{customdata[2]}<br>avg_abund=%{customdata[1]}<extra></extra>",
         "legendgroup": "SRR6757611",
         "marker": {
          "color": "#FF6692",
          "size": [
           85.1
          ],
          "sizemode": "area",
          "sizeref": 0.223,
          "symbol": "circle"
         },
         "mode": "markers",
         "name": "SRR6757611",
         "orientation": "v",
         "showlegend": true,
         "type": "scatter",
         "x": [
          "hg38.all"
         ],
         "xaxis": "x",
         "y": [
          23.3
         ],
         "yaxis": "y"
        },
        {
         "customdata": [
          [
           "SRR17301062",
           3.2,
           57.1
          ]
         ],
         "hovertemplate": "metagenome name=%{customdata[0]}<br>Query=%{x}<br>P Genome (%)=%{y}<br>p_metag=%{customdata[2]}<br>avg_abund=%{customdata[1]}<extra></extra>",
         "legendgroup": "SRR17301062",
         "marker": {
          "color": "#B6E880",
          "size": [
           57.1
          ],
          "sizemode": "area",
          "sizeref": 0.223,
          "symbol": "circle"
         },
         "mode": "markers",
         "name": "SRR17301062",
         "orientation": "v",
         "showlegend": true,
         "type": "scatter",
         "x": [
          "hg38.all"
         ],
         "xaxis": "x",
         "y": [
          29.1
         ],
         "yaxis": "y"
        },
        {
         "customdata": [
          [
           "ERR2750373",
           1.6,
           77.8
          ]
         ],
         "hovertemplate": "metagenome name=%{customdata[0]}<br>Query=%{x}<br>P Genome (%)=%{y}<br>p_metag=%{customdata[2]}<br>avg_abund=%{customdata[1]}<extra></extra>",
         "legendgroup": "ERR2750373",
         "marker": {
          "color": "#FF97FF",
          "size": [
           77.8
          ],
          "sizemode": "area",
          "sizeref": 0.223,
          "symbol": "circle"
         },
         "mode": "markers",
         "name": "ERR2750373",
         "orientation": "v",
         "showlegend": true,
         "type": "scatter",
         "x": [
          "hg38.all"
         ],
         "xaxis": "x",
         "y": [
          20
         ],
         "yaxis": "y"
        },
        {
         "customdata": [
          [
           "ERR3593147",
           1.8,
           46.1
          ]
         ],
         "hovertemplate": "metagenome name=%{customdata[0]}<br>Query=%{x}<br>P Genome (%)=%{y}<br>p_metag=%{customdata[2]}<br>avg_abund=%{customdata[1]}<extra></extra>",
         "legendgroup": "ERR3593147",
         "marker": {
          "color": "#FECB52",
          "size": [
           46.1
          ],
          "sizemode": "area",
          "sizeref": 0.223,
          "symbol": "circle"
         },
         "mode": "markers",
         "name": "ERR3593147",
         "orientation": "v",
         "showlegend": true,
         "type": "scatter",
         "x": [
          "hg38.all"
         ],
         "xaxis": "x",
         "y": [
          22.9
         ],
         "yaxis": "y"
        },
        {
         "customdata": [
          [
           "SRR1950776",
           3.4,
           86.6
          ]
         ],
         "hovertemplate": "metagenome name=%{customdata[0]}<br>Query=%{x}<br>P Genome (%)=%{y}<br>p_metag=%{customdata[2]}<br>avg_abund=%{customdata[1]}<extra></extra>",
         "legendgroup": "SRR1950776",
         "marker": {
          "color": "#636efa",
          "size": [
           86.6
          ],
          "sizemode": "area",
          "sizeref": 0.223,
          "symbol": "circle"
         },
         "mode": "markers",
         "name": "SRR1950776",
         "orientation": "v",
         "showlegend": true,
         "type": "scatter",
         "x": [
          "hg38.all"
         ],
         "xaxis": "x",
         "y": [
          12.9
         ],
         "yaxis": "y"
        },
        {
         "customdata": [
          [
           "ERR3274631",
           2.7,
           58.9
          ]
         ],
         "hovertemplate": "metagenome name=%{customdata[0]}<br>Query=%{x}<br>P Genome (%)=%{y}<br>p_metag=%{customdata[2]}<br>avg_abund=%{customdata[1]}<extra></extra>",
         "legendgroup": "ERR3274631",
         "marker": {
          "color": "#EF553B",
          "size": [
           58.9
          ],
          "sizemode": "area",
          "sizeref": 0.223,
          "symbol": "circle"
         },
         "mode": "markers",
         "name": "ERR3274631",
         "orientation": "v",
         "showlegend": true,
         "type": "scatter",
         "x": [
          "hg38.all"
         ],
         "xaxis": "x",
         "y": [
          52.4
         ],
         "yaxis": "y"
        },
        {
         "customdata": [
          [
           "SRR4420308",
           4,
           28.8
          ]
         ],
         "hovertemplate": "metagenome name=%{customdata[0]}<br>Query=%{x}<br>P Genome (%)=%{y}<br>p_metag=%{customdata[2]}<br>avg_abund=%{customdata[1]}<extra></extra>",
         "legendgroup": "SRR4420308",
         "marker": {
          "color": "#00cc96",
          "size": [
           28.8
          ],
          "sizemode": "area",
          "sizeref": 0.223,
          "symbol": "circle"
         },
         "mode": "markers",
         "name": "SRR4420308",
         "orientation": "v",
         "showlegend": true,
         "type": "scatter",
         "x": [
          "hg38.all"
         ],
         "xaxis": "x",
         "y": [
          21.2
         ],
         "yaxis": "y"
        },
        {
         "customdata": [
          [
           "SRR15604587",
           1.7,
           8.7
          ]
         ],
         "hovertemplate": "metagenome name=%{customdata[0]}<br>Query=%{x}<br>P Genome (%)=%{y}<br>p_metag=%{customdata[2]}<br>avg_abund=%{customdata[1]}<extra></extra>",
         "legendgroup": "SRR15604587",
         "marker": {
          "color": "#ab63fa",
          "size": [
           8.7
          ],
          "sizemode": "area",
          "sizeref": 0.223,
          "symbol": "circle"
         },
         "mode": "markers",
         "name": "SRR15604587",
         "orientation": "v",
         "showlegend": true,
         "type": "scatter",
         "x": [
          "mm39.fa.gz"
         ],
         "xaxis": "x",
         "y": [
          20.1
         ],
         "yaxis": "y"
        },
        {
         "customdata": [
          [
           "SRR15604488",
           1.8,
           12.3
          ]
         ],
         "hovertemplate": "metagenome name=%{customdata[0]}<br>Query=%{x}<br>P Genome (%)=%{y}<br>p_metag=%{customdata[2]}<br>avg_abund=%{customdata[1]}<extra></extra>",
         "legendgroup": "SRR15604488",
         "marker": {
          "color": "#FFA15A",
          "size": [
           12.3
          ],
          "sizemode": "area",
          "sizeref": 0.223,
          "symbol": "circle"
         },
         "mode": "markers",
         "name": "SRR15604488",
         "orientation": "v",
         "showlegend": true,
         "type": "scatter",
         "x": [
          "mm39.fa.gz"
         ],
         "xaxis": "x",
         "y": [
          28.2
         ],
         "yaxis": "y"
        },
        {
         "customdata": [
          [
           "SRR15604629",
           1.7,
           7
          ]
         ],
         "hovertemplate": "metagenome name=%{customdata[0]}<br>Query=%{x}<br>P Genome (%)=%{y}<br>p_metag=%{customdata[2]}<br>avg_abund=%{customdata[1]}<extra></extra>",
         "legendgroup": "SRR15604629",
         "marker": {
          "color": "#19d3f3",
          "size": [
           7
          ],
          "sizemode": "area",
          "sizeref": 0.223,
          "symbol": "circle"
         },
         "mode": "markers",
         "name": "SRR15604629",
         "orientation": "v",
         "showlegend": true,
         "type": "scatter",
         "x": [
          "mm39.fa.gz"
         ],
         "xaxis": "x",
         "y": [
          18.1
         ],
         "yaxis": "y"
        },
        {
         "customdata": [
          [
           "SRR18439529",
           4,
           59.7
          ]
         ],
         "hovertemplate": "metagenome name=%{customdata[0]}<br>Query=%{x}<br>P Genome (%)=%{y}<br>p_metag=%{customdata[2]}<br>avg_abund=%{customdata[1]}<extra></extra>",
         "legendgroup": "SRR18439529",
         "marker": {
          "color": "#FF6692",
          "size": [
           59.7
          ],
          "sizemode": "area",
          "sizeref": 0.223,
          "symbol": "circle"
         },
         "mode": "markers",
         "name": "SRR18439529",
         "orientation": "v",
         "showlegend": true,
         "type": "scatter",
         "x": [
          "mm39.fa.gz"
         ],
         "xaxis": "x",
         "y": [
          82.6
         ],
         "yaxis": "y"
        },
        {
         "customdata": [
          [
           "SRR19241959",
           1.5,
           13.9
          ]
         ],
         "hovertemplate": "metagenome name=%{customdata[0]}<br>Query=%{x}<br>P Genome (%)=%{y}<br>p_metag=%{customdata[2]}<br>avg_abund=%{customdata[1]}<extra></extra>",
         "legendgroup": "SRR19241959",
         "marker": {
          "color": "#B6E880",
          "size": [
           13.9
          ],
          "sizemode": "area",
          "sizeref": 0.223,
          "symbol": "circle"
         },
         "mode": "markers",
         "name": "SRR19241959",
         "orientation": "v",
         "showlegend": true,
         "type": "scatter",
         "x": [
          "mm39.fa.gz"
         ],
         "xaxis": "x",
         "y": [
          25
         ],
         "yaxis": "y"
        },
        {
         "customdata": [
          [
           "SRR13528212",
           1.7,
           16.8
          ]
         ],
         "hovertemplate": "metagenome name=%{customdata[0]}<br>Query=%{x}<br>P Genome (%)=%{y}<br>p_metag=%{customdata[2]}<br>avg_abund=%{customdata[1]}<extra></extra>",
         "legendgroup": "SRR13528212",
         "marker": {
          "color": "#FF97FF",
          "size": [
           16.8
          ],
          "sizemode": "area",
          "sizeref": 0.223,
          "symbol": "circle"
         },
         "mode": "markers",
         "name": "SRR13528212",
         "orientation": "v",
         "showlegend": true,
         "type": "scatter",
         "x": [
          "mm39.fa.gz"
         ],
         "xaxis": "x",
         "y": [
          28
         ],
         "yaxis": "y"
        },
        {
         "customdata": [
          [
           "SRR18439537",
           4.4,
           76.6
          ]
         ],
         "hovertemplate": "metagenome name=%{customdata[0]}<br>Query=%{x}<br>P Genome (%)=%{y}<br>p_metag=%{customdata[2]}<br>avg_abund=%{customdata[1]}<extra></extra>",
         "legendgroup": "SRR18439537",
         "marker": {
          "color": "#FECB52",
          "size": [
           76.6
          ],
          "sizemode": "area",
          "sizeref": 0.223,
          "symbol": "circle"
         },
         "mode": "markers",
         "name": "SRR18439537",
         "orientation": "v",
         "showlegend": true,
         "type": "scatter",
         "x": [
          "mm39.fa.gz"
         ],
         "xaxis": "x",
         "y": [
          88.6
         ],
         "yaxis": "y"
        },
        {
         "customdata": [
          [
           "SRR18439533",
           3.9,
           76.8
          ]
         ],
         "hovertemplate": "metagenome name=%{customdata[0]}<br>Query=%{x}<br>P Genome (%)=%{y}<br>p_metag=%{customdata[2]}<br>avg_abund=%{customdata[1]}<extra></extra>",
         "legendgroup": "SRR18439533",
         "marker": {
          "color": "#636efa",
          "size": [
           76.8
          ],
          "sizemode": "area",
          "sizeref": 0.223,
          "symbol": "circle"
         },
         "mode": "markers",
         "name": "SRR18439533",
         "orientation": "v",
         "showlegend": true,
         "type": "scatter",
         "x": [
          "mm39.fa.gz"
         ],
         "xaxis": "x",
         "y": [
          86.4
         ],
         "yaxis": "y"
        },
        {
         "customdata": [
          [
           "SRR15604491",
           1.7,
           8.4
          ]
         ],
         "hovertemplate": "metagenome name=%{customdata[0]}<br>Query=%{x}<br>P Genome (%)=%{y}<br>p_metag=%{customdata[2]}<br>avg_abund=%{customdata[1]}<extra></extra>",
         "legendgroup": "SRR15604491",
         "marker": {
          "color": "#EF553B",
          "size": [
           8.4
          ],
          "sizemode": "area",
          "sizeref": 0.223,
          "symbol": "circle"
         },
         "mode": "markers",
         "name": "SRR15604491",
         "orientation": "v",
         "showlegend": true,
         "type": "scatter",
         "x": [
          "mm39.fa.gz"
         ],
         "xaxis": "x",
         "y": [
          21.2
         ],
         "yaxis": "y"
        },
        {
         "customdata": [
          [
           "SRR19759423",
           1.6,
           9.9
          ]
         ],
         "hovertemplate": "metagenome name=%{customdata[0]}<br>Query=%{x}<br>P Genome (%)=%{y}<br>p_metag=%{customdata[2]}<br>avg_abund=%{customdata[1]}<extra></extra>",
         "legendgroup": "SRR19759423",
         "marker": {
          "color": "#00cc96",
          "size": [
           9.9
          ],
          "sizemode": "area",
          "sizeref": 0.223,
          "symbol": "circle"
         },
         "mode": "markers",
         "name": "SRR19759423",
         "orientation": "v",
         "showlegend": true,
         "type": "scatter",
         "x": [
          "mm39.fa.gz"
         ],
         "xaxis": "x",
         "y": [
          33.4
         ],
         "yaxis": "y"
        },
        {
         "customdata": [
          [
           "SRR15604628",
           1.5,
           3.6
          ]
         ],
         "hovertemplate": "metagenome name=%{customdata[0]}<br>Query=%{x}<br>P Genome (%)=%{y}<br>p_metag=%{customdata[2]}<br>avg_abund=%{customdata[1]}<extra></extra>",
         "legendgroup": "SRR15604628",
         "marker": {
          "color": "#ab63fa",
          "size": [
           3.6
          ],
          "sizemode": "area",
          "sizeref": 0.223,
          "symbol": "circle"
         },
         "mode": "markers",
         "name": "SRR15604628",
         "orientation": "v",
         "showlegend": true,
         "type": "scatter",
         "x": [
          "mm39.fa.gz"
         ],
         "xaxis": "x",
         "y": [
          11.2
         ],
         "yaxis": "y"
        },
        {
         "customdata": [
          [
           "SRR18439546",
           3.9,
           60
          ]
         ],
         "hovertemplate": "metagenome name=%{customdata[0]}<br>Query=%{x}<br>P Genome (%)=%{y}<br>p_metag=%{customdata[2]}<br>avg_abund=%{customdata[1]}<extra></extra>",
         "legendgroup": "SRR18439546",
         "marker": {
          "color": "#FFA15A",
          "size": [
           60
          ],
          "sizemode": "area",
          "sizeref": 0.223,
          "symbol": "circle"
         },
         "mode": "markers",
         "name": "SRR18439546",
         "orientation": "v",
         "showlegend": true,
         "type": "scatter",
         "x": [
          "mm39.fa.gz"
         ],
         "xaxis": "x",
         "y": [
          83.4
         ],
         "yaxis": "y"
        },
        {
         "customdata": [
          [
           "SRR18439526",
           4.7,
           70
          ]
         ],
         "hovertemplate": "metagenome name=%{customdata[0]}<br>Query=%{x}<br>P Genome (%)=%{y}<br>p_metag=%{customdata[2]}<br>avg_abund=%{customdata[1]}<extra></extra>",
         "legendgroup": "SRR18439526",
         "marker": {
          "color": "#19d3f3",
          "size": [
           70
          ],
          "sizemode": "area",
          "sizeref": 0.223,
          "symbol": "circle"
         },
         "mode": "markers",
         "name": "SRR18439526",
         "orientation": "v",
         "showlegend": true,
         "type": "scatter",
         "x": [
          "mm39.fa.gz"
         ],
         "xaxis": "x",
         "y": [
          89.8
         ],
         "yaxis": "y"
        },
        {
         "customdata": [
          [
           "SRR13573576",
           1.8,
           13.6
          ]
         ],
         "hovertemplate": "metagenome name=%{customdata[0]}<br>Query=%{x}<br>P Genome (%)=%{y}<br>p_metag=%{customdata[2]}<br>avg_abund=%{customdata[1]}<extra></extra>",
         "legendgroup": "SRR13573576",
         "marker": {
          "color": "#FF6692",
          "size": [
           13.6
          ],
          "sizemode": "area",
          "sizeref": 0.223,
          "symbol": "circle"
         },
         "mode": "markers",
         "name": "SRR13573576",
         "orientation": "v",
         "showlegend": true,
         "type": "scatter",
         "x": [
          "mm39.fa.gz"
         ],
         "xaxis": "x",
         "y": [
          24.6
         ],
         "yaxis": "y"
        },
        {
         "customdata": [
          [
           "SRR18439538",
           3.2,
           52.8
          ]
         ],
         "hovertemplate": "metagenome name=%{customdata[0]}<br>Query=%{x}<br>P Genome (%)=%{y}<br>p_metag=%{customdata[2]}<br>avg_abund=%{customdata[1]}<extra></extra>",
         "legendgroup": "SRR18439538",
         "marker": {
          "color": "#B6E880",
          "size": [
           52.8
          ],
          "sizemode": "area",
          "sizeref": 0.223,
          "symbol": "circle"
         },
         "mode": "markers",
         "name": "SRR18439538",
         "orientation": "v",
         "showlegend": true,
         "type": "scatter",
         "x": [
          "mm39.fa.gz"
         ],
         "xaxis": "x",
         "y": [
          77.6
         ],
         "yaxis": "y"
        },
        {
         "customdata": [
          [
           "SRR15604566",
           1.5,
           4.9
          ]
         ],
         "hovertemplate": "metagenome name=%{customdata[0]}<br>Query=%{x}<br>P Genome (%)=%{y}<br>p_metag=%{customdata[2]}<br>avg_abund=%{customdata[1]}<extra></extra>",
         "legendgroup": "SRR15604566",
         "marker": {
          "color": "#FF97FF",
          "size": [
           4.9
          ],
          "sizemode": "area",
          "sizeref": 0.223,
          "symbol": "circle"
         },
         "mode": "markers",
         "name": "SRR15604566",
         "orientation": "v",
         "showlegend": true,
         "type": "scatter",
         "x": [
          "mm39.fa.gz"
         ],
         "xaxis": "x",
         "y": [
          12.5
         ],
         "yaxis": "y"
        },
        {
         "customdata": [
          [
           "SRR16350269",
           1.7,
           32.8
          ]
         ],
         "hovertemplate": "metagenome name=%{customdata[0]}<br>Query=%{x}<br>P Genome (%)=%{y}<br>p_metag=%{customdata[2]}<br>avg_abund=%{customdata[1]}<extra></extra>",
         "legendgroup": "SRR16350269",
         "marker": {
          "color": "#FECB52",
          "size": [
           32.8
          ],
          "sizemode": "area",
          "sizeref": 0.223,
          "symbol": "circle"
         },
         "mode": "markers",
         "name": "SRR16350269",
         "orientation": "v",
         "showlegend": true,
         "type": "scatter",
         "x": [
          "mm39.fa.gz"
         ],
         "xaxis": "x",
         "y": [
          12.7
         ],
         "yaxis": "y"
        },
        {
         "customdata": [
          [
           "SRR18439547",
           3.5,
           52.5
          ]
         ],
         "hovertemplate": "metagenome name=%{customdata[0]}<br>Query=%{x}<br>P Genome (%)=%{y}<br>p_metag=%{customdata[2]}<br>avg_abund=%{customdata[1]}<extra></extra>",
         "legendgroup": "SRR18439547",
         "marker": {
          "color": "#636efa",
          "size": [
           52.5
          ],
          "sizemode": "area",
          "sizeref": 0.223,
          "symbol": "circle"
         },
         "mode": "markers",
         "name": "SRR18439547",
         "orientation": "v",
         "showlegend": true,
         "type": "scatter",
         "x": [
          "mm39.fa.gz"
         ],
         "xaxis": "x",
         "y": [
          78.7
         ],
         "yaxis": "y"
        },
        {
         "customdata": [
          [
           "SRR15604483",
           1.7,
           9.8
          ]
         ],
         "hovertemplate": "metagenome name=%{customdata[0]}<br>Query=%{x}<br>P Genome (%)=%{y}<br>p_metag=%{customdata[2]}<br>avg_abund=%{customdata[1]}<extra></extra>",
         "legendgroup": "SRR15604483",
         "marker": {
          "color": "#EF553B",
          "size": [
           9.8
          ],
          "sizemode": "area",
          "sizeref": 0.223,
          "symbol": "circle"
         },
         "mode": "markers",
         "name": "SRR15604483",
         "orientation": "v",
         "showlegend": true,
         "type": "scatter",
         "x": [
          "mm39.fa.gz"
         ],
         "xaxis": "x",
         "y": [
          25.6
         ],
         "yaxis": "y"
        },
        {
         "customdata": [
          [
           "SRR16350210",
           1.7,
           21.7
          ]
         ],
         "hovertemplate": "metagenome name=%{customdata[0]}<br>Query=%{x}<br>P Genome (%)=%{y}<br>p_metag=%{customdata[2]}<br>avg_abund=%{customdata[1]}<extra></extra>",
         "legendgroup": "SRR16350210",
         "marker": {
          "color": "#00cc96",
          "size": [
           21.7
          ],
          "sizemode": "area",
          "sizeref": 0.223,
          "symbol": "circle"
         },
         "mode": "markers",
         "name": "SRR16350210",
         "orientation": "v",
         "showlegend": true,
         "type": "scatter",
         "x": [
          "mm39.fa.gz"
         ],
         "xaxis": "x",
         "y": [
          10.5
         ],
         "yaxis": "y"
        },
        {
         "customdata": [
          [
           "SRR15604630",
           1.6,
           4
          ]
         ],
         "hovertemplate": "metagenome name=%{customdata[0]}<br>Query=%{x}<br>P Genome (%)=%{y}<br>p_metag=%{customdata[2]}<br>avg_abund=%{customdata[1]}<extra></extra>",
         "legendgroup": "SRR15604630",
         "marker": {
          "color": "#ab63fa",
          "size": [
           4
          ],
          "sizemode": "area",
          "sizeref": 0.223,
          "symbol": "circle"
         },
         "mode": "markers",
         "name": "SRR15604630",
         "orientation": "v",
         "showlegend": true,
         "type": "scatter",
         "x": [
          "mm39.fa.gz"
         ],
         "xaxis": "x",
         "y": [
          11.1
         ],
         "yaxis": "y"
        },
        {
         "customdata": [
          [
           "SRR16350220",
           1.6,
           44.8
          ]
         ],
         "hovertemplate": "metagenome name=%{customdata[0]}<br>Query=%{x}<br>P Genome (%)=%{y}<br>p_metag=%{customdata[2]}<br>avg_abund=%{customdata[1]}<extra></extra>",
         "legendgroup": "SRR16350220",
         "marker": {
          "color": "#FFA15A",
          "size": [
           44.8
          ],
          "sizemode": "area",
          "sizeref": 0.223,
          "symbol": "circle"
         },
         "mode": "markers",
         "name": "SRR16350220",
         "orientation": "v",
         "showlegend": true,
         "type": "scatter",
         "x": [
          "mm39.fa.gz"
         ],
         "xaxis": "x",
         "y": [
          13.3
         ],
         "yaxis": "y"
        },
        {
         "customdata": [
          [
           "ERR3357635",
           2,
           25.5
          ]
         ],
         "hovertemplate": "metagenome name=%{customdata[0]}<br>Query=%{x}<br>P Genome (%)=%{y}<br>p_metag=%{customdata[2]}<br>avg_abund=%{customdata[1]}<extra></extra>",
         "legendgroup": "ERR3357635",
         "marker": {
          "color": "#19d3f3",
          "size": [
           25.5
          ],
          "sizemode": "area",
          "sizeref": 0.223,
          "symbol": "circle"
         },
         "mode": "markers",
         "name": "ERR3357635",
         "orientation": "v",
         "showlegend": true,
         "type": "scatter",
         "x": [
          "mm39.fa.gz"
         ],
         "xaxis": "x",
         "y": [
          22.6
         ],
         "yaxis": "y"
        },
        {
         "customdata": [
          [
           "SRR18439549",
           4.4,
           68.7
          ]
         ],
         "hovertemplate": "metagenome name=%{customdata[0]}<br>Query=%{x}<br>P Genome (%)=%{y}<br>p_metag=%{customdata[2]}<br>avg_abund=%{customdata[1]}<extra></extra>",
         "legendgroup": "SRR18439549",
         "marker": {
          "color": "#FF6692",
          "size": [
           68.7
          ],
          "sizemode": "area",
          "sizeref": 0.223,
          "symbol": "circle"
         },
         "mode": "markers",
         "name": "SRR18439549",
         "orientation": "v",
         "showlegend": true,
         "type": "scatter",
         "x": [
          "mm39.fa.gz"
         ],
         "xaxis": "x",
         "y": [
          88.5
         ],
         "yaxis": "y"
        },
        {
         "customdata": [
          [
           "SRR15634000",
           2.4,
           10.4
          ]
         ],
         "hovertemplate": "metagenome name=%{customdata[0]}<br>Query=%{x}<br>P Genome (%)=%{y}<br>p_metag=%{customdata[2]}<br>avg_abund=%{customdata[1]}<extra></extra>",
         "legendgroup": "SRR15634000",
         "marker": {
          "color": "#B6E880",
          "size": [
           10.4
          ],
          "sizemode": "area",
          "sizeref": 0.223,
          "symbol": "circle"
         },
         "mode": "markers",
         "name": "SRR15634000",
         "orientation": "v",
         "showlegend": true,
         "type": "scatter",
         "x": [
          "mm39.fa.gz"
         ],
         "xaxis": "x",
         "y": [
          14.2
         ],
         "yaxis": "y"
        },
        {
         "customdata": [
          [
           "SRR15429253",
           1.7,
           78.1
          ]
         ],
         "hovertemplate": "metagenome name=%{customdata[0]}<br>Query=%{x}<br>P Genome (%)=%{y}<br>p_metag=%{customdata[2]}<br>avg_abund=%{customdata[1]}<extra></extra>",
         "legendgroup": "SRR15429253",
         "marker": {
          "color": "#FF97FF",
          "size": [
           78.1
          ],
          "sizemode": "area",
          "sizeref": 0.223,
          "symbol": "circle"
         },
         "mode": "markers",
         "name": "SRR15429253",
         "orientation": "v",
         "showlegend": true,
         "type": "scatter",
         "x": [
          "mm39.fa.gz"
         ],
         "xaxis": "x",
         "y": [
          28
         ],
         "yaxis": "y"
        },
        {
         "customdata": [
          [
           "SRR12270116",
           1.8,
           9.5
          ]
         ],
         "hovertemplate": "metagenome name=%{customdata[0]}<br>Query=%{x}<br>P Genome (%)=%{y}<br>p_metag=%{customdata[2]}<br>avg_abund=%{customdata[1]}<extra></extra>",
         "legendgroup": "SRR12270116",
         "marker": {
          "color": "#FECB52",
          "size": [
           9.5
          ],
          "sizemode": "area",
          "sizeref": 0.223,
          "symbol": "circle"
         },
         "mode": "markers",
         "name": "SRR12270116",
         "orientation": "v",
         "showlegend": true,
         "type": "scatter",
         "x": [
          "mm39.fa.gz"
         ],
         "xaxis": "x",
         "y": [
          10.2
         ],
         "yaxis": "y"
        },
        {
         "customdata": [
          [
           "SRR12270110",
           1.9,
           15.9
          ]
         ],
         "hovertemplate": "metagenome name=%{customdata[0]}<br>Query=%{x}<br>P Genome (%)=%{y}<br>p_metag=%{customdata[2]}<br>avg_abund=%{customdata[1]}<extra></extra>",
         "legendgroup": "SRR12270110",
         "marker": {
          "color": "#636efa",
          "size": [
           15.9
          ],
          "sizemode": "area",
          "sizeref": 0.223,
          "symbol": "circle"
         },
         "mode": "markers",
         "name": "SRR12270110",
         "orientation": "v",
         "showlegend": true,
         "type": "scatter",
         "x": [
          "mm39.fa.gz"
         ],
         "xaxis": "x",
         "y": [
          13.8
         ],
         "yaxis": "y"
        },
        {
         "customdata": [
          [
           "SRR19241958",
           1.5,
           10.6
          ]
         ],
         "hovertemplate": "metagenome name=%{customdata[0]}<br>Query=%{x}<br>P Genome (%)=%{y}<br>p_metag=%{customdata[2]}<br>avg_abund=%{customdata[1]}<extra></extra>",
         "legendgroup": "SRR19241958",
         "marker": {
          "color": "#EF553B",
          "size": [
           10.6
          ],
          "sizemode": "area",
          "sizeref": 0.223,
          "symbol": "circle"
         },
         "mode": "markers",
         "name": "SRR19241958",
         "orientation": "v",
         "showlegend": true,
         "type": "scatter",
         "x": [
          "mm39.fa.gz"
         ],
         "xaxis": "x",
         "y": [
          19
         ],
         "yaxis": "y"
        },
        {
         "customdata": [
          [
           "SRR15730550",
           1.3,
           3.4
          ]
         ],
         "hovertemplate": "metagenome name=%{customdata[0]}<br>Query=%{x}<br>P Genome (%)=%{y}<br>p_metag=%{customdata[2]}<br>avg_abund=%{customdata[1]}<extra></extra>",
         "legendgroup": "SRR15730550",
         "marker": {
          "color": "#00cc96",
          "size": [
           3.4
          ],
          "sizemode": "area",
          "sizeref": 0.223,
          "symbol": "circle"
         },
         "mode": "markers",
         "name": "SRR15730550",
         "orientation": "v",
         "showlegend": true,
         "type": "scatter",
         "x": [
          "mm39.fa.gz"
         ],
         "xaxis": "x",
         "y": [
          13.1
         ],
         "yaxis": "y"
        },
        {
         "customdata": [
          [
           "ERR579308",
           1.5,
           34.4
          ]
         ],
         "hovertemplate": "metagenome name=%{customdata[0]}<br>Query=%{x}<br>P Genome (%)=%{y}<br>p_metag=%{customdata[2]}<br>avg_abund=%{customdata[1]}<extra></extra>",
         "legendgroup": "ERR579308",
         "marker": {
          "color": "#ab63fa",
          "size": [
           34.4
          ],
          "sizemode": "area",
          "sizeref": 0.223,
          "symbol": "circle"
         },
         "mode": "markers",
         "name": "ERR579308",
         "orientation": "v",
         "showlegend": true,
         "type": "scatter",
         "x": [
          "mm39.fa.gz"
         ],
         "xaxis": "x",
         "y": [
          25.9
         ],
         "yaxis": "y"
        },
        {
         "customdata": [
          [
           "SRR13753934",
           2.3,
           40.2
          ]
         ],
         "hovertemplate": "metagenome name=%{customdata[0]}<br>Query=%{x}<br>P Genome (%)=%{y}<br>p_metag=%{customdata[2]}<br>avg_abund=%{customdata[1]}<extra></extra>",
         "legendgroup": "SRR13753934",
         "marker": {
          "color": "#FFA15A",
          "size": [
           40.2
          ],
          "sizemode": "area",
          "sizeref": 0.223,
          "symbol": "circle"
         },
         "mode": "markers",
         "name": "SRR13753934",
         "orientation": "v",
         "showlegend": true,
         "type": "scatter",
         "x": [
          "mm39.fa.gz"
         ],
         "xaxis": "x",
         "y": [
          20.5
         ],
         "yaxis": "y"
        },
        {
         "customdata": [
          [
           "SRR15604594",
           1.6,
           7.2
          ]
         ],
         "hovertemplate": "metagenome name=%{customdata[0]}<br>Query=%{x}<br>P Genome (%)=%{y}<br>p_metag=%{customdata[2]}<br>avg_abund=%{customdata[1]}<extra></extra>",
         "legendgroup": "SRR15604594",
         "marker": {
          "color": "#19d3f3",
          "size": [
           7.2
          ],
          "sizemode": "area",
          "sizeref": 0.223,
          "symbol": "circle"
         },
         "mode": "markers",
         "name": "SRR15604594",
         "orientation": "v",
         "showlegend": true,
         "type": "scatter",
         "x": [
          "mm39.fa.gz"
         ],
         "xaxis": "x",
         "y": [
          15.9
         ],
         "yaxis": "y"
        },
        {
         "customdata": [
          [
           "ERR3357629",
           1.6,
           8.4
          ]
         ],
         "hovertemplate": "metagenome name=%{customdata[0]}<br>Query=%{x}<br>P Genome (%)=%{y}<br>p_metag=%{customdata[2]}<br>avg_abund=%{customdata[1]}<extra></extra>",
         "legendgroup": "ERR3357629",
         "marker": {
          "color": "#FF6692",
          "size": [
           8.4
          ],
          "sizemode": "area",
          "sizeref": 0.223,
          "symbol": "circle"
         },
         "mode": "markers",
         "name": "ERR3357629",
         "orientation": "v",
         "showlegend": true,
         "type": "scatter",
         "x": [
          "mm39.fa.gz"
         ],
         "xaxis": "x",
         "y": [
          11.3
         ],
         "yaxis": "y"
        },
        {
         "customdata": [
          [
           "SRR17684633",
           1.8,
           3.9
          ]
         ],
         "hovertemplate": "metagenome name=%{customdata[0]}<br>Query=%{x}<br>P Genome (%)=%{y}<br>p_metag=%{customdata[2]}<br>avg_abund=%{customdata[1]}<extra></extra>",
         "legendgroup": "SRR17684633",
         "marker": {
          "color": "#B6E880",
          "size": [
           3.9
          ],
          "sizemode": "area",
          "sizeref": 0.223,
          "symbol": "circle"
         },
         "mode": "markers",
         "name": "SRR17684633",
         "orientation": "v",
         "showlegend": true,
         "type": "scatter",
         "x": [
          "mm39.fa.gz"
         ],
         "xaxis": "x",
         "y": [
          14.5
         ],
         "yaxis": "y"
        },
        {
         "customdata": [
          [
           "SRR15604508",
           1.6,
           9.2
          ]
         ],
         "hovertemplate": "metagenome name=%{customdata[0]}<br>Query=%{x}<br>P Genome (%)=%{y}<br>p_metag=%{customdata[2]}<br>avg_abund=%{customdata[1]}<extra></extra>",
         "legendgroup": "SRR15604508",
         "marker": {
          "color": "#FF97FF",
          "size": [
           9.2
          ],
          "sizemode": "area",
          "sizeref": 0.223,
          "symbol": "circle"
         },
         "mode": "markers",
         "name": "SRR15604508",
         "orientation": "v",
         "showlegend": true,
         "type": "scatter",
         "x": [
          "mm39.fa.gz"
         ],
         "xaxis": "x",
         "y": [
          20.7
         ],
         "yaxis": "y"
        },
        {
         "customdata": [
          [
           "SRR19715297",
           1.8,
           16.7
          ]
         ],
         "hovertemplate": "metagenome name=%{customdata[0]}<br>Query=%{x}<br>P Genome (%)=%{y}<br>p_metag=%{customdata[2]}<br>avg_abund=%{customdata[1]}<extra></extra>",
         "legendgroup": "SRR19715297",
         "marker": {
          "color": "#FECB52",
          "size": [
           16.7
          ],
          "sizemode": "area",
          "sizeref": 0.223,
          "symbol": "circle"
         },
         "mode": "markers",
         "name": "SRR19715297",
         "orientation": "v",
         "showlegend": true,
         "type": "scatter",
         "x": [
          "mm39.fa.gz"
         ],
         "xaxis": "x",
         "y": [
          11.6
         ],
         "yaxis": "y"
        },
        {
         "customdata": [
          [
           "SRR15604597",
           1.7,
           6.5
          ]
         ],
         "hovertemplate": "metagenome name=%{customdata[0]}<br>Query=%{x}<br>P Genome (%)=%{y}<br>p_metag=%{customdata[2]}<br>avg_abund=%{customdata[1]}<extra></extra>",
         "legendgroup": "SRR15604597",
         "marker": {
          "color": "#636efa",
          "size": [
           6.5
          ],
          "sizemode": "area",
          "sizeref": 0.223,
          "symbol": "circle"
         },
         "mode": "markers",
         "name": "SRR15604597",
         "orientation": "v",
         "showlegend": true,
         "type": "scatter",
         "x": [
          "mm39.fa.gz"
         ],
         "xaxis": "x",
         "y": [
          14.4
         ],
         "yaxis": "y"
        },
        {
         "customdata": [
          [
           "SRR17257133",
           2.8,
           43.2
          ]
         ],
         "hovertemplate": "metagenome name=%{customdata[0]}<br>Query=%{x}<br>P Genome (%)=%{y}<br>p_metag=%{customdata[2]}<br>avg_abund=%{customdata[1]}<extra></extra>",
         "legendgroup": "SRR17257133",
         "marker": {
          "color": "#EF553B",
          "size": [
           43.2
          ],
          "sizemode": "area",
          "sizeref": 0.223,
          "symbol": "circle"
         },
         "mode": "markers",
         "name": "SRR17257133",
         "orientation": "v",
         "showlegend": true,
         "type": "scatter",
         "x": [
          "mm39.fa.gz"
         ],
         "xaxis": "x",
         "y": [
          50.6
         ],
         "yaxis": "y"
        },
        {
         "customdata": [
          [
           "SRR18439542",
           3.3,
           50.9
          ]
         ],
         "hovertemplate": "metagenome name=%{customdata[0]}<br>Query=%{x}<br>P Genome (%)=%{y}<br>p_metag=%{customdata[2]}<br>avg_abund=%{customdata[1]}<extra></extra>",
         "legendgroup": "SRR18439542",
         "marker": {
          "color": "#00cc96",
          "size": [
           50.9
          ],
          "sizemode": "area",
          "sizeref": 0.223,
          "symbol": "circle"
         },
         "mode": "markers",
         "name": "SRR18439542",
         "orientation": "v",
         "showlegend": true,
         "type": "scatter",
         "x": [
          "mm39.fa.gz"
         ],
         "xaxis": "x",
         "y": [
          79
         ],
         "yaxis": "y"
        },
        {
         "customdata": [
          [
           "SRR14862895",
           1.9,
           5.8
          ]
         ],
         "hovertemplate": "metagenome name=%{customdata[0]}<br>Query=%{x}<br>P Genome (%)=%{y}<br>p_metag=%{customdata[2]}<br>avg_abund=%{customdata[1]}<extra></extra>",
         "legendgroup": "SRR14862895",
         "marker": {
          "color": "#ab63fa",
          "size": [
           5.8
          ],
          "sizemode": "area",
          "sizeref": 0.223,
          "symbol": "circle"
         },
         "mode": "markers",
         "name": "SRR14862895",
         "orientation": "v",
         "showlegend": true,
         "type": "scatter",
         "x": [
          "mm39.fa.gz"
         ],
         "xaxis": "x",
         "y": [
          11.6
         ],
         "yaxis": "y"
        },
        {
         "customdata": [
          [
           "SRR17257172",
           2.3,
           22.3
          ]
         ],
         "hovertemplate": "metagenome name=%{customdata[0]}<br>Query=%{x}<br>P Genome (%)=%{y}<br>p_metag=%{customdata[2]}<br>avg_abund=%{customdata[1]}<extra></extra>",
         "legendgroup": "SRR17257172",
         "marker": {
          "color": "#FFA15A",
          "size": [
           22.3
          ],
          "sizemode": "area",
          "sizeref": 0.223,
          "symbol": "circle"
         },
         "mode": "markers",
         "name": "SRR17257172",
         "orientation": "v",
         "showlegend": true,
         "type": "scatter",
         "x": [
          "mm39.fa.gz"
         ],
         "xaxis": "x",
         "y": [
          20.7
         ],
         "yaxis": "y"
        },
        {
         "customdata": [
          [
           "SRR18439528",
           3.9,
           58.8
          ]
         ],
         "hovertemplate": "metagenome name=%{customdata[0]}<br>Query=%{x}<br>P Genome (%)=%{y}<br>p_metag=%{customdata[2]}<br>avg_abund=%{customdata[1]}<extra></extra>",
         "legendgroup": "SRR18439528",
         "marker": {
          "color": "#19d3f3",
          "size": [
           58.8
          ],
          "sizemode": "area",
          "sizeref": 0.223,
          "symbol": "circle"
         },
         "mode": "markers",
         "name": "SRR18439528",
         "orientation": "v",
         "showlegend": true,
         "type": "scatter",
         "x": [
          "mm39.fa.gz"
         ],
         "xaxis": "x",
         "y": [
          83.8
         ],
         "yaxis": "y"
        },
        {
         "customdata": [
          [
           "SRR18439534",
           2.9,
           46.8
          ]
         ],
         "hovertemplate": "metagenome name=%{customdata[0]}<br>Query=%{x}<br>P Genome (%)=%{y}<br>p_metag=%{customdata[2]}<br>avg_abund=%{customdata[1]}<extra></extra>",
         "legendgroup": "SRR18439534",
         "marker": {
          "color": "#FF6692",
          "size": [
           46.8
          ],
          "sizemode": "area",
          "sizeref": 0.223,
          "symbol": "circle"
         },
         "mode": "markers",
         "name": "SRR18439534",
         "orientation": "v",
         "showlegend": true,
         "type": "scatter",
         "x": [
          "mm39.fa.gz"
         ],
         "xaxis": "x",
         "y": [
          72.4
         ],
         "yaxis": "y"
        },
        {
         "customdata": [
          [
           "SRR18439545",
           3.5,
           53
          ]
         ],
         "hovertemplate": "metagenome name=%{customdata[0]}<br>Query=%{x}<br>P Genome (%)=%{y}<br>p_metag=%{customdata[2]}<br>avg_abund=%{customdata[1]}<extra></extra>",
         "legendgroup": "SRR18439545",
         "marker": {
          "color": "#B6E880",
          "size": [
           53
          ],
          "sizemode": "area",
          "sizeref": 0.223,
          "symbol": "circle"
         },
         "mode": "markers",
         "name": "SRR18439545",
         "orientation": "v",
         "showlegend": true,
         "type": "scatter",
         "x": [
          "mm39.fa.gz"
         ],
         "xaxis": "x",
         "y": [
          82.2
         ],
         "yaxis": "y"
        },
        {
         "customdata": [
          [
           "SRR18439540",
           3,
           48.8
          ]
         ],
         "hovertemplate": "metagenome name=%{customdata[0]}<br>Query=%{x}<br>P Genome (%)=%{y}<br>p_metag=%{customdata[2]}<br>avg_abund=%{customdata[1]}<extra></extra>",
         "legendgroup": "SRR18439540",
         "marker": {
          "color": "#FF97FF",
          "size": [
           48.8
          ],
          "sizemode": "area",
          "sizeref": 0.223,
          "symbol": "circle"
         },
         "mode": "markers",
         "name": "SRR18439540",
         "orientation": "v",
         "showlegend": true,
         "type": "scatter",
         "x": [
          "mm39.fa.gz"
         ],
         "xaxis": "x",
         "y": [
          73.9
         ],
         "yaxis": "y"
        },
        {
         "customdata": [
          [
           "SRR14629566",
           1.5,
           13
          ]
         ],
         "hovertemplate": "metagenome name=%{customdata[0]}<br>Query=%{x}<br>P Genome (%)=%{y}<br>p_metag=%{customdata[2]}<br>avg_abund=%{customdata[1]}<extra></extra>",
         "legendgroup": "SRR14629566",
         "marker": {
          "color": "#FECB52",
          "size": [
           13
          ],
          "sizemode": "area",
          "sizeref": 0.223,
          "symbol": "circle"
         },
         "mode": "markers",
         "name": "SRR14629566",
         "orientation": "v",
         "showlegend": true,
         "type": "scatter",
         "x": [
          "mm39.fa.gz"
         ],
         "xaxis": "x",
         "y": [
          14
         ],
         "yaxis": "y"
        },
        {
         "customdata": [
          [
           "SRR15604608",
           1.6,
           7
          ]
         ],
         "hovertemplate": "metagenome name=%{customdata[0]}<br>Query=%{x}<br>P Genome (%)=%{y}<br>p_metag=%{customdata[2]}<br>avg_abund=%{customdata[1]}<extra></extra>",
         "legendgroup": "SRR15604608",
         "marker": {
          "color": "#636efa",
          "size": [
           7
          ],
          "sizemode": "area",
          "sizeref": 0.223,
          "symbol": "circle"
         },
         "mode": "markers",
         "name": "SRR15604608",
         "orientation": "v",
         "showlegend": true,
         "type": "scatter",
         "x": [
          "mm39.fa.gz"
         ],
         "xaxis": "x",
         "y": [
          16.7
         ],
         "yaxis": "y"
        },
        {
         "customdata": [
          [
           "SRR18439535",
           3.2,
           52.1
          ]
         ],
         "hovertemplate": "metagenome name=%{customdata[0]}<br>Query=%{x}<br>P Genome (%)=%{y}<br>p_metag=%{customdata[2]}<br>avg_abund=%{customdata[1]}<extra></extra>",
         "legendgroup": "SRR18439535",
         "marker": {
          "color": "#EF553B",
          "size": [
           52.1
          ],
          "sizemode": "area",
          "sizeref": 0.223,
          "symbol": "circle"
         },
         "mode": "markers",
         "name": "SRR18439535",
         "orientation": "v",
         "showlegend": true,
         "type": "scatter",
         "x": [
          "mm39.fa.gz"
         ],
         "xaxis": "x",
         "y": [
          77.2
         ],
         "yaxis": "y"
        },
        {
         "customdata": [
          [
           "SRR12524513",
           2.1,
           56.1
          ]
         ],
         "hovertemplate": "metagenome name=%{customdata[0]}<br>Query=%{x}<br>P Genome (%)=%{y}<br>p_metag=%{customdata[2]}<br>avg_abund=%{customdata[1]}<extra></extra>",
         "legendgroup": "SRR12524513",
         "marker": {
          "color": "#00cc96",
          "size": [
           56.1
          ],
          "sizemode": "area",
          "sizeref": 0.223,
          "symbol": "circle"
         },
         "mode": "markers",
         "name": "SRR12524513",
         "orientation": "v",
         "showlegend": true,
         "type": "scatter",
         "x": [
          "mm39.fa.gz"
         ],
         "xaxis": "x",
         "y": [
          27.9
         ],
         "yaxis": "y"
        },
        {
         "customdata": [
          [
           "SRR15429254",
           1.8,
           85.1
          ]
         ],
         "hovertemplate": "metagenome name=%{customdata[0]}<br>Query=%{x}<br>P Genome (%)=%{y}<br>p_metag=%{customdata[2]}<br>avg_abund=%{customdata[1]}<extra></extra>",
         "legendgroup": "SRR15429254",
         "marker": {
          "color": "#ab63fa",
          "size": [
           85.1
          ],
          "sizemode": "area",
          "sizeref": 0.223,
          "symbol": "circle"
         },
         "mode": "markers",
         "name": "SRR15429254",
         "orientation": "v",
         "showlegend": true,
         "type": "scatter",
         "x": [
          "mm39.fa.gz"
         ],
         "xaxis": "x",
         "y": [
          30
         ],
         "yaxis": "y"
        },
        {
         "customdata": [
          [
           "SRR18439541",
           3.2,
           47.3
          ]
         ],
         "hovertemplate": "metagenome name=%{customdata[0]}<br>Query=%{x}<br>P Genome (%)=%{y}<br>p_metag=%{customdata[2]}<br>avg_abund=%{customdata[1]}<extra></extra>",
         "legendgroup": "SRR18439541",
         "marker": {
          "color": "#FFA15A",
          "size": [
           47.3
          ],
          "sizemode": "area",
          "sizeref": 0.223,
          "symbol": "circle"
         },
         "mode": "markers",
         "name": "SRR18439541",
         "orientation": "v",
         "showlegend": true,
         "type": "scatter",
         "x": [
          "mm39.fa.gz"
         ],
         "xaxis": "x",
         "y": [
          77.2
         ],
         "yaxis": "y"
        },
        {
         "customdata": [
          [
           "SRR18439539",
           3.6,
           65.9
          ]
         ],
         "hovertemplate": "metagenome name=%{customdata[0]}<br>Query=%{x}<br>P Genome (%)=%{y}<br>p_metag=%{customdata[2]}<br>avg_abund=%{customdata[1]}<extra></extra>",
         "legendgroup": "SRR18439539",
         "marker": {
          "color": "#19d3f3",
          "size": [
           65.9
          ],
          "sizemode": "area",
          "sizeref": 0.223,
          "symbol": "circle"
         },
         "mode": "markers",
         "name": "SRR18439539",
         "orientation": "v",
         "showlegend": true,
         "type": "scatter",
         "x": [
          "mm39.fa.gz"
         ],
         "xaxis": "x",
         "y": [
          84.5
         ],
         "yaxis": "y"
        },
        {
         "customdata": [
          [
           "SRR15604481",
           1.7,
           9.4
          ]
         ],
         "hovertemplate": "metagenome name=%{customdata[0]}<br>Query=%{x}<br>P Genome (%)=%{y}<br>p_metag=%{customdata[2]}<br>avg_abund=%{customdata[1]}<extra></extra>",
         "legendgroup": "SRR15604481",
         "marker": {
          "color": "#FF6692",
          "size": [
           9.4
          ],
          "sizemode": "area",
          "sizeref": 0.223,
          "symbol": "circle"
         },
         "mode": "markers",
         "name": "SRR15604481",
         "orientation": "v",
         "showlegend": true,
         "type": "scatter",
         "x": [
          "mm39.fa.gz"
         ],
         "xaxis": "x",
         "y": [
          23.1
         ],
         "yaxis": "y"
        },
        {
         "customdata": [
          [
           "ERR9465722",
           2.3,
           18.9
          ]
         ],
         "hovertemplate": "metagenome name=%{customdata[0]}<br>Query=%{x}<br>P Genome (%)=%{y}<br>p_metag=%{customdata[2]}<br>avg_abund=%{customdata[1]}<extra></extra>",
         "legendgroup": "ERR9465722",
         "marker": {
          "color": "#B6E880",
          "size": [
           18.9
          ],
          "sizemode": "area",
          "sizeref": 0.223,
          "symbol": "circle"
         },
         "mode": "markers",
         "name": "ERR9465722",
         "orientation": "v",
         "showlegend": true,
         "type": "scatter",
         "x": [
          "mm39.fa.gz"
         ],
         "xaxis": "x",
         "y": [
          36.5
         ],
         "yaxis": "y"
        },
        {
         "customdata": [
          [
           "SRR18439548",
           4.2,
           71.2
          ]
         ],
         "hovertemplate": "metagenome name=%{customdata[0]}<br>Query=%{x}<br>P Genome (%)=%{y}<br>p_metag=%{customdata[2]}<br>avg_abund=%{customdata[1]}<extra></extra>",
         "legendgroup": "SRR18439548",
         "marker": {
          "color": "#FF97FF",
          "size": [
           71.2
          ],
          "sizemode": "area",
          "sizeref": 0.223,
          "symbol": "circle"
         },
         "mode": "markers",
         "name": "SRR18439548",
         "orientation": "v",
         "showlegend": true,
         "type": "scatter",
         "x": [
          "mm39.fa.gz"
         ],
         "xaxis": "x",
         "y": [
          87.6
         ],
         "yaxis": "y"
        },
        {
         "customdata": [
          [
           "SRR13753922",
           2.3,
           18.3
          ]
         ],
         "hovertemplate": "metagenome name=%{customdata[0]}<br>Query=%{x}<br>P Genome (%)=%{y}<br>p_metag=%{customdata[2]}<br>avg_abund=%{customdata[1]}<extra></extra>",
         "legendgroup": "SRR13753922",
         "marker": {
          "color": "#FECB52",
          "size": [
           18.3
          ],
          "sizemode": "area",
          "sizeref": 0.223,
          "symbol": "circle"
         },
         "mode": "markers",
         "name": "SRR13753922",
         "orientation": "v",
         "showlegend": true,
         "type": "scatter",
         "x": [
          "mm39.fa.gz"
         ],
         "xaxis": "x",
         "y": [
          11.9
         ],
         "yaxis": "y"
        },
        {
         "customdata": [
          [
           "SRR18439543",
           2.7,
           41.9
          ]
         ],
         "hovertemplate": "metagenome name=%{customdata[0]}<br>Query=%{x}<br>P Genome (%)=%{y}<br>p_metag=%{customdata[2]}<br>avg_abund=%{customdata[1]}<extra></extra>",
         "legendgroup": "SRR18439543",
         "marker": {
          "color": "#636efa",
          "size": [
           41.9
          ],
          "sizemode": "area",
          "sizeref": 0.223,
          "symbol": "circle"
         },
         "mode": "markers",
         "name": "SRR18439543",
         "orientation": "v",
         "showlegend": true,
         "type": "scatter",
         "x": [
          "mm39.fa.gz"
         ],
         "xaxis": "x",
         "y": [
          69.2
         ],
         "yaxis": "y"
        },
        {
         "customdata": [
          [
           "ERR3357553",
           1.5,
           86.4
          ]
         ],
         "hovertemplate": "metagenome name=%{customdata[0]}<br>Query=%{x}<br>P Genome (%)=%{y}<br>p_metag=%{customdata[2]}<br>avg_abund=%{customdata[1]}<extra></extra>",
         "legendgroup": "ERR3357553",
         "marker": {
          "color": "#EF553B",
          "size": [
           86.4
          ],
          "sizemode": "area",
          "sizeref": 0.223,
          "symbol": "circle"
         },
         "mode": "markers",
         "name": "ERR3357553",
         "orientation": "v",
         "showlegend": true,
         "type": "scatter",
         "x": [
          "mm39.fa.gz"
         ],
         "xaxis": "x",
         "y": [
          10.5
         ],
         "yaxis": "y"
        },
        {
         "customdata": [
          [
           "SRR18439531",
           4.3,
           76.9
          ]
         ],
         "hovertemplate": "metagenome name=%{customdata[0]}<br>Query=%{x}<br>P Genome (%)=%{y}<br>p_metag=%{customdata[2]}<br>avg_abund=%{customdata[1]}<extra></extra>",
         "legendgroup": "SRR18439531",
         "marker": {
          "color": "#00cc96",
          "size": [
           76.9
          ],
          "sizemode": "area",
          "sizeref": 0.223,
          "symbol": "circle"
         },
         "mode": "markers",
         "name": "SRR18439531",
         "orientation": "v",
         "showlegend": true,
         "type": "scatter",
         "x": [
          "mm39.fa.gz"
         ],
         "xaxis": "x",
         "y": [
          89.4
         ],
         "yaxis": "y"
        },
        {
         "customdata": [
          [
           "SRR18439532",
           4.3,
           66.6
          ]
         ],
         "hovertemplate": "metagenome name=%{customdata[0]}<br>Query=%{x}<br>P Genome (%)=%{y}<br>p_metag=%{customdata[2]}<br>avg_abund=%{customdata[1]}<extra></extra>",
         "legendgroup": "SRR18439532",
         "marker": {
          "color": "#ab63fa",
          "size": [
           66.6
          ],
          "sizemode": "area",
          "sizeref": 0.223,
          "symbol": "circle"
         },
         "mode": "markers",
         "name": "SRR18439532",
         "orientation": "v",
         "showlegend": true,
         "type": "scatter",
         "x": [
          "mm39.fa.gz"
         ],
         "xaxis": "x",
         "y": [
          87.6
         ],
         "yaxis": "y"
        },
        {
         "customdata": [
          [
           "SRR17257162",
           3.2,
           49.2
          ]
         ],
         "hovertemplate": "metagenome name=%{customdata[0]}<br>Query=%{x}<br>P Genome (%)=%{y}<br>p_metag=%{customdata[2]}<br>avg_abund=%{customdata[1]}<extra></extra>",
         "legendgroup": "SRR17257162",
         "marker": {
          "color": "#FFA15A",
          "size": [
           49.2
          ],
          "sizemode": "area",
          "sizeref": 0.223,
          "symbol": "circle"
         },
         "mode": "markers",
         "name": "SRR17257162",
         "orientation": "v",
         "showlegend": true,
         "type": "scatter",
         "x": [
          "mm39.fa.gz"
         ],
         "xaxis": "x",
         "y": [
          55.8
         ],
         "yaxis": "y"
        },
        {
         "customdata": [
          [
           "SRR18439536",
           2.9,
           42.8
          ]
         ],
         "hovertemplate": "metagenome name=%{customdata[0]}<br>Query=%{x}<br>P Genome (%)=%{y}<br>p_metag=%{customdata[2]}<br>avg_abund=%{customdata[1]}<extra></extra>",
         "legendgroup": "SRR18439536",
         "marker": {
          "color": "#19d3f3",
          "size": [
           42.8
          ],
          "sizemode": "area",
          "sizeref": 0.223,
          "symbol": "circle"
         },
         "mode": "markers",
         "name": "SRR18439536",
         "orientation": "v",
         "showlegend": true,
         "type": "scatter",
         "x": [
          "mm39.fa.gz"
         ],
         "xaxis": "x",
         "y": [
          70.1
         ],
         "yaxis": "y"
        },
        {
         "customdata": [
          [
           "ERR576946",
           1.5,
           22.8
          ]
         ],
         "hovertemplate": "metagenome name=%{customdata[0]}<br>Query=%{x}<br>P Genome (%)=%{y}<br>p_metag=%{customdata[2]}<br>avg_abund=%{customdata[1]}<extra></extra>",
         "legendgroup": "ERR576946",
         "marker": {
          "color": "#FF6692",
          "size": [
           22.8
          ],
          "sizemode": "area",
          "sizeref": 0.223,
          "symbol": "circle"
         },
         "mode": "markers",
         "name": "ERR576946",
         "orientation": "v",
         "showlegend": true,
         "type": "scatter",
         "x": [
          "mm39.fa.gz"
         ],
         "xaxis": "x",
         "y": [
          14.2
         ],
         "yaxis": "y"
        },
        {
         "customdata": [
          [
           "SRR18439527",
           3.8,
           62
          ]
         ],
         "hovertemplate": "metagenome name=%{customdata[0]}<br>Query=%{x}<br>P Genome (%)=%{y}<br>p_metag=%{customdata[2]}<br>avg_abund=%{customdata[1]}<extra></extra>",
         "legendgroup": "SRR18439527",
         "marker": {
          "color": "#B6E880",
          "size": [
           62
          ],
          "sizemode": "area",
          "sizeref": 0.223,
          "symbol": "circle"
         },
         "mode": "markers",
         "name": "SRR18439527",
         "orientation": "v",
         "showlegend": true,
         "type": "scatter",
         "x": [
          "mm39.fa.gz"
         ],
         "xaxis": "x",
         "y": [
          82.7
         ],
         "yaxis": "y"
        },
        {
         "customdata": [
          [
           "SRR15604627",
           1.5,
           3.8
          ]
         ],
         "hovertemplate": "metagenome name=%{customdata[0]}<br>Query=%{x}<br>P Genome (%)=%{y}<br>p_metag=%{customdata[2]}<br>avg_abund=%{customdata[1]}<extra></extra>",
         "legendgroup": "SRR15604627",
         "marker": {
          "color": "#FF97FF",
          "size": [
           3.8
          ],
          "sizemode": "area",
          "sizeref": 0.223,
          "symbol": "circle"
         },
         "mode": "markers",
         "name": "SRR15604627",
         "orientation": "v",
         "showlegend": true,
         "type": "scatter",
         "x": [
          "mm39.fa.gz"
         ],
         "xaxis": "x",
         "y": [
          12
         ],
         "yaxis": "y"
        },
        {
         "customdata": [
          [
           "SRR18439544",
           3.1,
           43.1
          ]
         ],
         "hovertemplate": "metagenome name=%{customdata[0]}<br>Query=%{x}<br>P Genome (%)=%{y}<br>p_metag=%{customdata[2]}<br>avg_abund=%{customdata[1]}<extra></extra>",
         "legendgroup": "SRR18439544",
         "marker": {
          "color": "#FECB52",
          "size": [
           43.1
          ],
          "sizemode": "area",
          "sizeref": 0.223,
          "symbol": "circle"
         },
         "mode": "markers",
         "name": "SRR18439544",
         "orientation": "v",
         "showlegend": true,
         "type": "scatter",
         "x": [
          "mm39.fa.gz"
         ],
         "xaxis": "x",
         "y": [
          75
         ],
         "yaxis": "y"
        },
        {
         "customdata": [
          [
           "SRR18439530",
           4,
           68.9
          ]
         ],
         "hovertemplate": "metagenome name=%{customdata[0]}<br>Query=%{x}<br>P Genome (%)=%{y}<br>p_metag=%{customdata[2]}<br>avg_abund=%{customdata[1]}<extra></extra>",
         "legendgroup": "SRR18439530",
         "marker": {
          "color": "#636efa",
          "size": [
           68.9
          ],
          "sizemode": "area",
          "sizeref": 0.223,
          "symbol": "circle"
         },
         "mode": "markers",
         "name": "SRR18439530",
         "orientation": "v",
         "showlegend": true,
         "type": "scatter",
         "x": [
          "mm39.fa.gz"
         ],
         "xaxis": "x",
         "y": [
          85.4
         ],
         "yaxis": "y"
        },
        {
         "customdata": [
          [
           "ERR3357630",
           1.9,
           19.9
          ]
         ],
         "hovertemplate": "metagenome name=%{customdata[0]}<br>Query=%{x}<br>P Genome (%)=%{y}<br>p_metag=%{customdata[2]}<br>avg_abund=%{customdata[1]}<extra></extra>",
         "legendgroup": "ERR3357630",
         "marker": {
          "color": "#EF553B",
          "size": [
           19.9
          ],
          "sizemode": "area",
          "sizeref": 0.223,
          "symbol": "circle"
         },
         "mode": "markers",
         "name": "ERR3357630",
         "orientation": "v",
         "showlegend": true,
         "type": "scatter",
         "x": [
          "mm39.fa.gz"
         ],
         "xaxis": "x",
         "y": [
          19.4
         ],
         "yaxis": "y"
        },
        {
         "customdata": [
          [
           "SRR15604584",
           1.7,
           11.6
          ]
         ],
         "hovertemplate": "metagenome name=%{customdata[0]}<br>Query=%{x}<br>P Genome (%)=%{y}<br>p_metag=%{customdata[2]}<br>avg_abund=%{customdata[1]}<extra></extra>",
         "legendgroup": "SRR15604584",
         "marker": {
          "color": "#00cc96",
          "size": [
           11.6
          ],
          "sizemode": "area",
          "sizeref": 0.223,
          "symbol": "circle"
         },
         "mode": "markers",
         "name": "SRR15604584",
         "orientation": "v",
         "showlegend": true,
         "type": "scatter",
         "x": [
          "mm39.fa.gz"
         ],
         "xaxis": "x",
         "y": [
          25.6
         ],
         "yaxis": "y"
        },
        {
         "customdata": [
          [
           "ERR2241656",
           1.4,
           2.7
          ]
         ],
         "hovertemplate": "metagenome name=%{customdata[0]}<br>Query=%{x}<br>P Genome (%)=%{y}<br>p_metag=%{customdata[2]}<br>avg_abund=%{customdata[1]}<extra></extra>",
         "legendgroup": "ERR2241656",
         "marker": {
          "color": "#ab63fa",
          "size": [
           2.7
          ],
          "sizemode": "area",
          "sizeref": 0.223,
          "symbol": "circle"
         },
         "mode": "markers",
         "name": "ERR2241656",
         "orientation": "v",
         "showlegend": true,
         "type": "scatter",
         "x": [
          "susScr11.fa.gz"
         ],
         "xaxis": "x",
         "y": [
          11.1
         ],
         "yaxis": "y"
        },
        {
         "customdata": [
          [
           "SRR12203214",
           1.2,
           39.3
          ]
         ],
         "hovertemplate": "metagenome name=%{customdata[0]}<br>Query=%{x}<br>P Genome (%)=%{y}<br>p_metag=%{customdata[2]}<br>avg_abund=%{customdata[1]}<extra></extra>",
         "legendgroup": "SRR12203214",
         "marker": {
          "color": "#FFA15A",
          "size": [
           39.3
          ],
          "sizemode": "area",
          "sizeref": 0.223,
          "symbol": "circle"
         },
         "mode": "markers",
         "name": "SRR12203214",
         "orientation": "v",
         "showlegend": true,
         "type": "scatter",
         "x": [
          "susScr11.fa.gz"
         ],
         "xaxis": "x",
         "y": [
          10.2
         ],
         "yaxis": "y"
        },
        {
         "customdata": [
          [
           "ERR2241920",
           1.2,
           2.9
          ]
         ],
         "hovertemplate": "metagenome name=%{customdata[0]}<br>Query=%{x}<br>P Genome (%)=%{y}<br>p_metag=%{customdata[2]}<br>avg_abund=%{customdata[1]}<extra></extra>",
         "legendgroup": "ERR2241920",
         "marker": {
          "color": "#19d3f3",
          "size": [
           2.9
          ],
          "sizemode": "area",
          "sizeref": 0.223,
          "symbol": "circle"
         },
         "mode": "markers",
         "name": "ERR2241920",
         "orientation": "v",
         "showlegend": true,
         "type": "scatter",
         "x": [
          "susScr11.fa.gz"
         ],
         "xaxis": "x",
         "y": [
          10.4
         ],
         "yaxis": "y"
        },
        {
         "customdata": [
          [
           "ERR7438499",
           2.9,
           17.9
          ]
         ],
         "hovertemplate": "metagenome name=%{customdata[0]}<br>Query=%{x}<br>P Genome (%)=%{y}<br>p_metag=%{customdata[2]}<br>avg_abund=%{customdata[1]}<extra></extra>",
         "legendgroup": "ERR7438499",
         "marker": {
          "color": "#FF6692",
          "size": [
           17.9
          ],
          "sizemode": "area",
          "sizeref": 0.223,
          "symbol": "circle"
         },
         "mode": "markers",
         "name": "ERR7438499",
         "orientation": "v",
         "showlegend": true,
         "type": "scatter",
         "x": [
          "susScr11.fa.gz"
         ],
         "xaxis": "x",
         "y": [
          15.3
         ],
         "yaxis": "y"
        },
        {
         "customdata": [
          [
           "ERR2597489",
           1.5,
           2.5
          ]
         ],
         "hovertemplate": "metagenome name=%{customdata[0]}<br>Query=%{x}<br>P Genome (%)=%{y}<br>p_metag=%{customdata[2]}<br>avg_abund=%{customdata[1]}<extra></extra>",
         "legendgroup": "ERR2597489",
         "marker": {
          "color": "#B6E880",
          "size": [
           2.5
          ],
          "sizemode": "area",
          "sizeref": 0.223,
          "symbol": "circle"
         },
         "mode": "markers",
         "name": "ERR2597489",
         "orientation": "v",
         "showlegend": true,
         "type": "scatter",
         "x": [
          "susScr11.fa.gz"
         ],
         "xaxis": "x",
         "y": [
          18.8
         ],
         "yaxis": "y"
        },
        {
         "customdata": [
          [
           "ERR2597490",
           1.4,
           1.7
          ]
         ],
         "hovertemplate": "metagenome name=%{customdata[0]}<br>Query=%{x}<br>P Genome (%)=%{y}<br>p_metag=%{customdata[2]}<br>avg_abund=%{customdata[1]}<extra></extra>",
         "legendgroup": "ERR2597490",
         "marker": {
          "color": "#FF97FF",
          "size": [
           1.7
          ],
          "sizemode": "area",
          "sizeref": 0.223,
          "symbol": "circle"
         },
         "mode": "markers",
         "name": "ERR2597490",
         "orientation": "v",
         "showlegend": true,
         "type": "scatter",
         "x": [
          "susScr11.fa.gz"
         ],
         "xaxis": "x",
         "y": [
          11.9
         ],
         "yaxis": "y"
        },
        {
         "customdata": [
          [
           "ERR7438299",
           2,
           23.6
          ]
         ],
         "hovertemplate": "metagenome name=%{customdata[0]}<br>Query=%{x}<br>P Genome (%)=%{y}<br>p_metag=%{customdata[2]}<br>avg_abund=%{customdata[1]}<extra></extra>",
         "legendgroup": "ERR7438299",
         "marker": {
          "color": "#FECB52",
          "size": [
           23.6
          ],
          "sizemode": "area",
          "sizeref": 0.223,
          "symbol": "circle"
         },
         "mode": "markers",
         "name": "ERR7438299",
         "orientation": "v",
         "showlegend": true,
         "type": "scatter",
         "x": [
          "susScr11.fa.gz"
         ],
         "xaxis": "x",
         "y": [
          49.2
         ],
         "yaxis": "y"
        }
       ],
       "layout": {
        "legend": {
         "itemsizing": "constant",
         "title": {
          "text": "metagenome name"
         },
         "tracegroupgap": 0
        },
        "template": {
         "data": {
          "bar": [
           {
            "error_x": {
             "color": "#2a3f5f"
            },
            "error_y": {
             "color": "#2a3f5f"
            },
            "marker": {
             "line": {
              "color": "#E5ECF6",
              "width": 0.5
             },
             "pattern": {
              "fillmode": "overlay",
              "size": 10,
              "solidity": 0.2
             }
            },
            "type": "bar"
           }
          ],
          "barpolar": [
           {
            "marker": {
             "line": {
              "color": "#E5ECF6",
              "width": 0.5
             },
             "pattern": {
              "fillmode": "overlay",
              "size": 10,
              "solidity": 0.2
             }
            },
            "type": "barpolar"
           }
          ],
          "carpet": [
           {
            "aaxis": {
             "endlinecolor": "#2a3f5f",
             "gridcolor": "white",
             "linecolor": "white",
             "minorgridcolor": "white",
             "startlinecolor": "#2a3f5f"
            },
            "baxis": {
             "endlinecolor": "#2a3f5f",
             "gridcolor": "white",
             "linecolor": "white",
             "minorgridcolor": "white",
             "startlinecolor": "#2a3f5f"
            },
            "type": "carpet"
           }
          ],
          "choropleth": [
           {
            "colorbar": {
             "outlinewidth": 0,
             "ticks": ""
            },
            "type": "choropleth"
           }
          ],
          "contour": [
           {
            "colorbar": {
             "outlinewidth": 0,
             "ticks": ""
            },
            "colorscale": [
             [
              0,
              "#0d0887"
             ],
             [
              0.1111111111111111,
              "#46039f"
             ],
             [
              0.2222222222222222,
              "#7201a8"
             ],
             [
              0.3333333333333333,
              "#9c179e"
             ],
             [
              0.4444444444444444,
              "#bd3786"
             ],
             [
              0.5555555555555556,
              "#d8576b"
             ],
             [
              0.6666666666666666,
              "#ed7953"
             ],
             [
              0.7777777777777778,
              "#fb9f3a"
             ],
             [
              0.8888888888888888,
              "#fdca26"
             ],
             [
              1,
              "#f0f921"
             ]
            ],
            "type": "contour"
           }
          ],
          "contourcarpet": [
           {
            "colorbar": {
             "outlinewidth": 0,
             "ticks": ""
            },
            "type": "contourcarpet"
           }
          ],
          "heatmap": [
           {
            "colorbar": {
             "outlinewidth": 0,
             "ticks": ""
            },
            "colorscale": [
             [
              0,
              "#0d0887"
             ],
             [
              0.1111111111111111,
              "#46039f"
             ],
             [
              0.2222222222222222,
              "#7201a8"
             ],
             [
              0.3333333333333333,
              "#9c179e"
             ],
             [
              0.4444444444444444,
              "#bd3786"
             ],
             [
              0.5555555555555556,
              "#d8576b"
             ],
             [
              0.6666666666666666,
              "#ed7953"
             ],
             [
              0.7777777777777778,
              "#fb9f3a"
             ],
             [
              0.8888888888888888,
              "#fdca26"
             ],
             [
              1,
              "#f0f921"
             ]
            ],
            "type": "heatmap"
           }
          ],
          "heatmapgl": [
           {
            "colorbar": {
             "outlinewidth": 0,
             "ticks": ""
            },
            "colorscale": [
             [
              0,
              "#0d0887"
             ],
             [
              0.1111111111111111,
              "#46039f"
             ],
             [
              0.2222222222222222,
              "#7201a8"
             ],
             [
              0.3333333333333333,
              "#9c179e"
             ],
             [
              0.4444444444444444,
              "#bd3786"
             ],
             [
              0.5555555555555556,
              "#d8576b"
             ],
             [
              0.6666666666666666,
              "#ed7953"
             ],
             [
              0.7777777777777778,
              "#fb9f3a"
             ],
             [
              0.8888888888888888,
              "#fdca26"
             ],
             [
              1,
              "#f0f921"
             ]
            ],
            "type": "heatmapgl"
           }
          ],
          "histogram": [
           {
            "marker": {
             "pattern": {
              "fillmode": "overlay",
              "size": 10,
              "solidity": 0.2
             }
            },
            "type": "histogram"
           }
          ],
          "histogram2d": [
           {
            "colorbar": {
             "outlinewidth": 0,
             "ticks": ""
            },
            "colorscale": [
             [
              0,
              "#0d0887"
             ],
             [
              0.1111111111111111,
              "#46039f"
             ],
             [
              0.2222222222222222,
              "#7201a8"
             ],
             [
              0.3333333333333333,
              "#9c179e"
             ],
             [
              0.4444444444444444,
              "#bd3786"
             ],
             [
              0.5555555555555556,
              "#d8576b"
             ],
             [
              0.6666666666666666,
              "#ed7953"
             ],
             [
              0.7777777777777778,
              "#fb9f3a"
             ],
             [
              0.8888888888888888,
              "#fdca26"
             ],
             [
              1,
              "#f0f921"
             ]
            ],
            "type": "histogram2d"
           }
          ],
          "histogram2dcontour": [
           {
            "colorbar": {
             "outlinewidth": 0,
             "ticks": ""
            },
            "colorscale": [
             [
              0,
              "#0d0887"
             ],
             [
              0.1111111111111111,
              "#46039f"
             ],
             [
              0.2222222222222222,
              "#7201a8"
             ],
             [
              0.3333333333333333,
              "#9c179e"
             ],
             [
              0.4444444444444444,
              "#bd3786"
             ],
             [
              0.5555555555555556,
              "#d8576b"
             ],
             [
              0.6666666666666666,
              "#ed7953"
             ],
             [
              0.7777777777777778,
              "#fb9f3a"
             ],
             [
              0.8888888888888888,
              "#fdca26"
             ],
             [
              1,
              "#f0f921"
             ]
            ],
            "type": "histogram2dcontour"
           }
          ],
          "mesh3d": [
           {
            "colorbar": {
             "outlinewidth": 0,
             "ticks": ""
            },
            "type": "mesh3d"
           }
          ],
          "parcoords": [
           {
            "line": {
             "colorbar": {
              "outlinewidth": 0,
              "ticks": ""
             }
            },
            "type": "parcoords"
           }
          ],
          "pie": [
           {
            "automargin": true,
            "type": "pie"
           }
          ],
          "scatter": [
           {
            "fillpattern": {
             "fillmode": "overlay",
             "size": 10,
             "solidity": 0.2
            },
            "type": "scatter"
           }
          ],
          "scatter3d": [
           {
            "line": {
             "colorbar": {
              "outlinewidth": 0,
              "ticks": ""
             }
            },
            "marker": {
             "colorbar": {
              "outlinewidth": 0,
              "ticks": ""
             }
            },
            "type": "scatter3d"
           }
          ],
          "scattercarpet": [
           {
            "marker": {
             "colorbar": {
              "outlinewidth": 0,
              "ticks": ""
             }
            },
            "type": "scattercarpet"
           }
          ],
          "scattergeo": [
           {
            "marker": {
             "colorbar": {
              "outlinewidth": 0,
              "ticks": ""
             }
            },
            "type": "scattergeo"
           }
          ],
          "scattergl": [
           {
            "marker": {
             "colorbar": {
              "outlinewidth": 0,
              "ticks": ""
             }
            },
            "type": "scattergl"
           }
          ],
          "scattermapbox": [
           {
            "marker": {
             "colorbar": {
              "outlinewidth": 0,
              "ticks": ""
             }
            },
            "type": "scattermapbox"
           }
          ],
          "scatterpolar": [
           {
            "marker": {
             "colorbar": {
              "outlinewidth": 0,
              "ticks": ""
             }
            },
            "type": "scatterpolar"
           }
          ],
          "scatterpolargl": [
           {
            "marker": {
             "colorbar": {
              "outlinewidth": 0,
              "ticks": ""
             }
            },
            "type": "scatterpolargl"
           }
          ],
          "scatterternary": [
           {
            "marker": {
             "colorbar": {
              "outlinewidth": 0,
              "ticks": ""
             }
            },
            "type": "scatterternary"
           }
          ],
          "surface": [
           {
            "colorbar": {
             "outlinewidth": 0,
             "ticks": ""
            },
            "colorscale": [
             [
              0,
              "#0d0887"
             ],
             [
              0.1111111111111111,
              "#46039f"
             ],
             [
              0.2222222222222222,
              "#7201a8"
             ],
             [
              0.3333333333333333,
              "#9c179e"
             ],
             [
              0.4444444444444444,
              "#bd3786"
             ],
             [
              0.5555555555555556,
              "#d8576b"
             ],
             [
              0.6666666666666666,
              "#ed7953"
             ],
             [
              0.7777777777777778,
              "#fb9f3a"
             ],
             [
              0.8888888888888888,
              "#fdca26"
             ],
             [
              1,
              "#f0f921"
             ]
            ],
            "type": "surface"
           }
          ],
          "table": [
           {
            "cells": {
             "fill": {
              "color": "#EBF0F8"
             },
             "line": {
              "color": "white"
             }
            },
            "header": {
             "fill": {
              "color": "#C8D4E3"
             },
             "line": {
              "color": "white"
             }
            },
            "type": "table"
           }
          ]
         },
         "layout": {
          "annotationdefaults": {
           "arrowcolor": "#2a3f5f",
           "arrowhead": 0,
           "arrowwidth": 1
          },
          "autotypenumbers": "strict",
          "coloraxis": {
           "colorbar": {
            "outlinewidth": 0,
            "ticks": ""
           }
          },
          "colorscale": {
           "diverging": [
            [
             0,
             "#8e0152"
            ],
            [
             0.1,
             "#c51b7d"
            ],
            [
             0.2,
             "#de77ae"
            ],
            [
             0.3,
             "#f1b6da"
            ],
            [
             0.4,
             "#fde0ef"
            ],
            [
             0.5,
             "#f7f7f7"
            ],
            [
             0.6,
             "#e6f5d0"
            ],
            [
             0.7,
             "#b8e186"
            ],
            [
             0.8,
             "#7fbc41"
            ],
            [
             0.9,
             "#4d9221"
            ],
            [
             1,
             "#276419"
            ]
           ],
           "sequential": [
            [
             0,
             "#0d0887"
            ],
            [
             0.1111111111111111,
             "#46039f"
            ],
            [
             0.2222222222222222,
             "#7201a8"
            ],
            [
             0.3333333333333333,
             "#9c179e"
            ],
            [
             0.4444444444444444,
             "#bd3786"
            ],
            [
             0.5555555555555556,
             "#d8576b"
            ],
            [
             0.6666666666666666,
             "#ed7953"
            ],
            [
             0.7777777777777778,
             "#fb9f3a"
            ],
            [
             0.8888888888888888,
             "#fdca26"
            ],
            [
             1,
             "#f0f921"
            ]
           ],
           "sequentialminus": [
            [
             0,
             "#0d0887"
            ],
            [
             0.1111111111111111,
             "#46039f"
            ],
            [
             0.2222222222222222,
             "#7201a8"
            ],
            [
             0.3333333333333333,
             "#9c179e"
            ],
            [
             0.4444444444444444,
             "#bd3786"
            ],
            [
             0.5555555555555556,
             "#d8576b"
            ],
            [
             0.6666666666666666,
             "#ed7953"
            ],
            [
             0.7777777777777778,
             "#fb9f3a"
            ],
            [
             0.8888888888888888,
             "#fdca26"
            ],
            [
             1,
             "#f0f921"
            ]
           ]
          },
          "colorway": [
           "#636efa",
           "#EF553B",
           "#00cc96",
           "#ab63fa",
           "#FFA15A",
           "#19d3f3",
           "#FF6692",
           "#B6E880",
           "#FF97FF",
           "#FECB52"
          ],
          "font": {
           "color": "#2a3f5f"
          },
          "geo": {
           "bgcolor": "white",
           "lakecolor": "white",
           "landcolor": "#E5ECF6",
           "showlakes": true,
           "showland": true,
           "subunitcolor": "white"
          },
          "hoverlabel": {
           "align": "left"
          },
          "hovermode": "closest",
          "mapbox": {
           "style": "light"
          },
          "paper_bgcolor": "white",
          "plot_bgcolor": "#E5ECF6",
          "polar": {
           "angularaxis": {
            "gridcolor": "white",
            "linecolor": "white",
            "ticks": ""
           },
           "bgcolor": "#E5ECF6",
           "radialaxis": {
            "gridcolor": "white",
            "linecolor": "white",
            "ticks": ""
           }
          },
          "scene": {
           "xaxis": {
            "backgroundcolor": "#E5ECF6",
            "gridcolor": "white",
            "gridwidth": 2,
            "linecolor": "white",
            "showbackground": true,
            "ticks": "",
            "zerolinecolor": "white"
           },
           "yaxis": {
            "backgroundcolor": "#E5ECF6",
            "gridcolor": "white",
            "gridwidth": 2,
            "linecolor": "white",
            "showbackground": true,
            "ticks": "",
            "zerolinecolor": "white"
           },
           "zaxis": {
            "backgroundcolor": "#E5ECF6",
            "gridcolor": "white",
            "gridwidth": 2,
            "linecolor": "white",
            "showbackground": true,
            "ticks": "",
            "zerolinecolor": "white"
           }
          },
          "shapedefaults": {
           "line": {
            "color": "#2a3f5f"
           }
          },
          "ternary": {
           "aaxis": {
            "gridcolor": "white",
            "linecolor": "white",
            "ticks": ""
           },
           "baxis": {
            "gridcolor": "white",
            "linecolor": "white",
            "ticks": ""
           },
           "bgcolor": "#E5ECF6",
           "caxis": {
            "gridcolor": "white",
            "linecolor": "white",
            "ticks": ""
           }
          },
          "title": {
           "x": 0.05
          },
          "xaxis": {
           "automargin": true,
           "gridcolor": "white",
           "linecolor": "white",
           "ticks": "",
           "title": {
            "standoff": 15
           },
           "zerolinecolor": "white",
           "zerolinewidth": 2
          },
          "yaxis": {
           "automargin": true,
           "gridcolor": "white",
           "linecolor": "white",
           "ticks": "",
           "title": {
            "standoff": 15
           },
           "zerolinecolor": "white",
           "zerolinewidth": 2
          }
         }
        },
        "title": {
         "text": "Interactive Scatter Plot of Query vs P Genome (p_genome > 10%)"
        },
        "xaxis": {
         "anchor": "y",
         "domain": [
          0,
          1
         ],
         "title": {
          "text": "Query"
         }
        },
        "yaxis": {
         "anchor": "x",
         "domain": [
          0,
          1
         ],
         "title": {
          "text": "P Genome (%)"
         }
        }
       }
      },
      "text/html": [
       "<div>                            <div id=\"e58f5c1c-b64e-40a8-b7ac-02ce248cd3ff\" class=\"plotly-graph-div\" style=\"height:525px; width:100%;\"></div>            <script type=\"text/javascript\">                require([\"plotly\"], function(Plotly) {                    window.PLOTLYENV=window.PLOTLYENV || {};                                    if (document.getElementById(\"e58f5c1c-b64e-40a8-b7ac-02ce248cd3ff\")) {                    Plotly.newPlot(                        \"e58f5c1c-b64e-40a8-b7ac-02ce248cd3ff\",                        [{\"customdata\":[[\"SRR15429289\",3.0,85.5]],\"hovertemplate\":\"metagenome name=%{customdata[0]}\\u003cbr\\u003eQuery=%{x}\\u003cbr\\u003eP Genome (%)=%{y}\\u003cbr\\u003ep_metag=%{customdata[2]}\\u003cbr\\u003eavg_abund=%{customdata[1]}\\u003cextra\\u003e\\u003c\\u002fextra\\u003e\",\"legendgroup\":\"SRR15429289\",\"marker\":{\"color\":\"#636efa\",\"size\":[85.5],\"sizemode\":\"area\",\"sizeref\":0.223,\"symbol\":\"circle\"},\"mode\":\"markers\",\"name\":\"SRR15429289\",\"orientation\":\"v\",\"showlegend\":true,\"x\":[\"bosTau9.fa.gz\"],\"xaxis\":\"x\",\"y\":[21.2],\"yaxis\":\"y\",\"type\":\"scatter\"},{\"customdata\":[[\"SRR15429280\",2.9,89.2]],\"hovertemplate\":\"metagenome name=%{customdata[0]}\\u003cbr\\u003eQuery=%{x}\\u003cbr\\u003eP Genome (%)=%{y}\\u003cbr\\u003ep_metag=%{customdata[2]}\\u003cbr\\u003eavg_abund=%{customdata[1]}\\u003cextra\\u003e\\u003c\\u002fextra\\u003e\",\"legendgroup\":\"SRR15429280\",\"marker\":{\"color\":\"#EF553B\",\"size\":[89.2],\"sizemode\":\"area\",\"sizeref\":0.223,\"symbol\":\"circle\"},\"mode\":\"markers\",\"name\":\"SRR15429280\",\"orientation\":\"v\",\"showlegend\":true,\"x\":[\"bosTau9.fa.gz\"],\"xaxis\":\"x\",\"y\":[23.6],\"yaxis\":\"y\",\"type\":\"scatter\"},{\"customdata\":[[\"ERR4398795\",2.4,6.7]],\"hovertemplate\":\"metagenome name=%{customdata[0]}\\u003cbr\\u003eQuery=%{x}\\u003cbr\\u003eP Genome (%)=%{y}\\u003cbr\\u003ep_metag=%{customdata[2]}\\u003cbr\\u003eavg_abund=%{customdata[1]}\\u003cextra\\u003e\\u003c\\u002fextra\\u003e\",\"legendgroup\":\"ERR4398795\",\"marker\":{\"color\":\"#00cc96\",\"size\":[6.7],\"sizemode\":\"area\",\"sizeref\":0.223,\"symbol\":\"circle\"},\"mode\":\"markers\",\"name\":\"ERR4398795\",\"orientation\":\"v\",\"showlegend\":true,\"x\":[\"bosTau9.fa.gz\"],\"xaxis\":\"x\",\"y\":[14.5],\"yaxis\":\"y\",\"type\":\"scatter\"},{\"customdata\":[[\"SRR15429288\",2.9,74.9]],\"hovertemplate\":\"metagenome name=%{customdata[0]}\\u003cbr\\u003eQuery=%{x}\\u003cbr\\u003eP Genome (%)=%{y}\\u003cbr\\u003ep_metag=%{customdata[2]}\\u003cbr\\u003eavg_abund=%{customdata[1]}\\u003cextra\\u003e\\u003c\\u002fextra\\u003e\",\"legendgroup\":\"SRR15429288\",\"marker\":{\"color\":\"#ab63fa\",\"size\":[74.9],\"sizemode\":\"area\",\"sizeref\":0.223,\"symbol\":\"circle\"},\"mode\":\"markers\",\"name\":\"SRR15429288\",\"orientation\":\"v\",\"showlegend\":true,\"x\":[\"bosTau9.fa.gz\"],\"xaxis\":\"x\",\"y\":[19.0],\"yaxis\":\"y\",\"type\":\"scatter\"},{\"customdata\":[[\"SRR15429279\",2.8,84.1]],\"hovertemplate\":\"metagenome name=%{customdata[0]}\\u003cbr\\u003eQuery=%{x}\\u003cbr\\u003eP Genome (%)=%{y}\\u003cbr\\u003ep_metag=%{customdata[2]}\\u003cbr\\u003eavg_abund=%{customdata[1]}\\u003cextra\\u003e\\u003c\\u002fextra\\u003e\",\"legendgroup\":\"SRR15429279\",\"marker\":{\"color\":\"#FFA15A\",\"size\":[84.1],\"sizemode\":\"area\",\"sizeref\":0.223,\"symbol\":\"circle\"},\"mode\":\"markers\",\"name\":\"SRR15429279\",\"orientation\":\"v\",\"showlegend\":true,\"x\":[\"bosTau9.fa.gz\"],\"xaxis\":\"x\",\"y\":[22.4],\"yaxis\":\"y\",\"type\":\"scatter\"},{\"customdata\":[[\"ERR2241752\",2.2,2.8]],\"hovertemplate\":\"metagenome name=%{customdata[0]}\\u003cbr\\u003eQuery=%{x}\\u003cbr\\u003eP Genome (%)=%{y}\\u003cbr\\u003ep_metag=%{customdata[2]}\\u003cbr\\u003eavg_abund=%{customdata[1]}\\u003cextra\\u003e\\u003c\\u002fextra\\u003e\",\"legendgroup\":\"ERR2241752\",\"marker\":{\"color\":\"#19d3f3\",\"size\":[2.8],\"sizemode\":\"area\",\"sizeref\":0.223,\"symbol\":\"circle\"},\"mode\":\"markers\",\"name\":\"ERR2241752\",\"orientation\":\"v\",\"showlegend\":true,\"x\":[\"galGal6.fa.gz\"],\"xaxis\":\"x\",\"y\":[16.6],\"yaxis\":\"y\",\"type\":\"scatter\"},{\"customdata\":[[\"ERR3340883\",3.5,25.9]],\"hovertemplate\":\"metagenome name=%{customdata[0]}\\u003cbr\\u003eQuery=%{x}\\u003cbr\\u003eP Genome (%)=%{y}\\u003cbr\\u003ep_metag=%{customdata[2]}\\u003cbr\\u003eavg_abund=%{customdata[1]}\\u003cextra\\u003e\\u003c\\u002fextra\\u003e\",\"legendgroup\":\"ERR3340883\",\"marker\":{\"color\":\"#FF6692\",\"size\":[25.9],\"sizemode\":\"area\",\"sizeref\":0.223,\"symbol\":\"circle\"},\"mode\":\"markers\",\"name\":\"ERR3340883\",\"orientation\":\"v\",\"showlegend\":true,\"x\":[\"galGal6.fa.gz\"],\"xaxis\":\"x\",\"y\":[17.0],\"yaxis\":\"y\",\"type\":\"scatter\"},{\"customdata\":[[\"ERR2241799\",1.9,1.9]],\"hovertemplate\":\"metagenome name=%{customdata[0]}\\u003cbr\\u003eQuery=%{x}\\u003cbr\\u003eP Genome (%)=%{y}\\u003cbr\\u003ep_metag=%{customdata[2]}\\u003cbr\\u003eavg_abund=%{customdata[1]}\\u003cextra\\u003e\\u003c\\u002fextra\\u003e\",\"legendgroup\":\"ERR2241799\",\"marker\":{\"color\":\"#B6E880\",\"size\":[1.9],\"sizemode\":\"area\",\"sizeref\":0.223,\"symbol\":\"circle\"},\"mode\":\"markers\",\"name\":\"ERR2241799\",\"orientation\":\"v\",\"showlegend\":true,\"x\":[\"galGal6.fa.gz\"],\"xaxis\":\"x\",\"y\":[11.1],\"yaxis\":\"y\",\"type\":\"scatter\"},{\"customdata\":[[\"ERR3340884\",1.9,15.5]],\"hovertemplate\":\"metagenome name=%{customdata[0]}\\u003cbr\\u003eQuery=%{x}\\u003cbr\\u003eP Genome (%)=%{y}\\u003cbr\\u003ep_metag=%{customdata[2]}\\u003cbr\\u003eavg_abund=%{customdata[1]}\\u003cextra\\u003e\\u003c\\u002fextra\\u003e\",\"legendgroup\":\"ERR3340884\",\"marker\":{\"color\":\"#FF97FF\",\"size\":[15.5],\"sizemode\":\"area\",\"sizeref\":0.223,\"symbol\":\"circle\"},\"mode\":\"markers\",\"name\":\"ERR3340884\",\"orientation\":\"v\",\"showlegend\":true,\"x\":[\"galGal6.fa.gz\"],\"xaxis\":\"x\",\"y\":[21.6],\"yaxis\":\"y\",\"type\":\"scatter\"},{\"customdata\":[[\"ERR3339002\",2.7,40.2]],\"hovertemplate\":\"metagenome name=%{customdata[0]}\\u003cbr\\u003eQuery=%{x}\\u003cbr\\u003eP Genome (%)=%{y}\\u003cbr\\u003ep_metag=%{customdata[2]}\\u003cbr\\u003eavg_abund=%{customdata[1]}\\u003cextra\\u003e\\u003c\\u002fextra\\u003e\",\"legendgroup\":\"ERR3339002\",\"marker\":{\"color\":\"#FECB52\",\"size\":[40.2],\"sizemode\":\"area\",\"sizeref\":0.223,\"symbol\":\"circle\"},\"mode\":\"markers\",\"name\":\"ERR3339002\",\"orientation\":\"v\",\"showlegend\":true,\"x\":[\"galGal6.fa.gz\"],\"xaxis\":\"x\",\"y\":[33.5],\"yaxis\":\"y\",\"type\":\"scatter\"},{\"customdata\":[[\"ERR3340879\",2.4,45.1]],\"hovertemplate\":\"metagenome name=%{customdata[0]}\\u003cbr\\u003eQuery=%{x}\\u003cbr\\u003eP Genome (%)=%{y}\\u003cbr\\u003ep_metag=%{customdata[2]}\\u003cbr\\u003eavg_abund=%{customdata[1]}\\u003cextra\\u003e\\u003c\\u002fextra\\u003e\",\"legendgroup\":\"ERR3340879\",\"marker\":{\"color\":\"#636efa\",\"size\":[45.1],\"sizemode\":\"area\",\"sizeref\":0.223,\"symbol\":\"circle\"},\"mode\":\"markers\",\"name\":\"ERR3340879\",\"orientation\":\"v\",\"showlegend\":true,\"x\":[\"galGal6.fa.gz\"],\"xaxis\":\"x\",\"y\":[38.1],\"yaxis\":\"y\",\"type\":\"scatter\"},{\"customdata\":[[\"ERR2241631\",1.9,2.8]],\"hovertemplate\":\"metagenome name=%{customdata[0]}\\u003cbr\\u003eQuery=%{x}\\u003cbr\\u003eP Genome (%)=%{y}\\u003cbr\\u003ep_metag=%{customdata[2]}\\u003cbr\\u003eavg_abund=%{customdata[1]}\\u003cextra\\u003e\\u003c\\u002fextra\\u003e\",\"legendgroup\":\"ERR2241631\",\"marker\":{\"color\":\"#EF553B\",\"size\":[2.8],\"sizemode\":\"area\",\"sizeref\":0.223,\"symbol\":\"circle\"},\"mode\":\"markers\",\"name\":\"ERR2241631\",\"orientation\":\"v\",\"showlegend\":true,\"x\":[\"galGal6.fa.gz\"],\"xaxis\":\"x\",\"y\":[14.8],\"yaxis\":\"y\",\"type\":\"scatter\"},{\"customdata\":[[\"ERR2241972\",2.6,7.4]],\"hovertemplate\":\"metagenome name=%{customdata[0]}\\u003cbr\\u003eQuery=%{x}\\u003cbr\\u003eP Genome (%)=%{y}\\u003cbr\\u003ep_metag=%{customdata[2]}\\u003cbr\\u003eavg_abund=%{customdata[1]}\\u003cextra\\u003e\\u003c\\u002fextra\\u003e\",\"legendgroup\":\"ERR2241972\",\"marker\":{\"color\":\"#00cc96\",\"size\":[7.4],\"sizemode\":\"area\",\"sizeref\":0.223,\"symbol\":\"circle\"},\"mode\":\"markers\",\"name\":\"ERR2241972\",\"orientation\":\"v\",\"showlegend\":true,\"x\":[\"galGal6.fa.gz\"],\"xaxis\":\"x\",\"y\":[36.0],\"yaxis\":\"y\",\"type\":\"scatter\"},{\"customdata\":[[\"ERR3339027\",3.6,57.6]],\"hovertemplate\":\"metagenome name=%{customdata[0]}\\u003cbr\\u003eQuery=%{x}\\u003cbr\\u003eP Genome (%)=%{y}\\u003cbr\\u003ep_metag=%{customdata[2]}\\u003cbr\\u003eavg_abund=%{customdata[1]}\\u003cextra\\u003e\\u003c\\u002fextra\\u003e\",\"legendgroup\":\"ERR3339027\",\"marker\":{\"color\":\"#ab63fa\",\"size\":[57.6],\"sizemode\":\"area\",\"sizeref\":0.223,\"symbol\":\"circle\"},\"mode\":\"markers\",\"name\":\"ERR3339027\",\"orientation\":\"v\",\"showlegend\":true,\"x\":[\"galGal6.fa.gz\"],\"xaxis\":\"x\",\"y\":[67.8],\"yaxis\":\"y\",\"type\":\"scatter\"},{\"customdata\":[[\"ERR3339029\",2.3,40.6]],\"hovertemplate\":\"metagenome name=%{customdata[0]}\\u003cbr\\u003eQuery=%{x}\\u003cbr\\u003eP Genome (%)=%{y}\\u003cbr\\u003ep_metag=%{customdata[2]}\\u003cbr\\u003eavg_abund=%{customdata[1]}\\u003cextra\\u003e\\u003c\\u002fextra\\u003e\",\"legendgroup\":\"ERR3339029\",\"marker\":{\"color\":\"#FFA15A\",\"size\":[40.6],\"sizemode\":\"area\",\"sizeref\":0.223,\"symbol\":\"circle\"},\"mode\":\"markers\",\"name\":\"ERR3339029\",\"orientation\":\"v\",\"showlegend\":true,\"x\":[\"galGal6.fa.gz\"],\"xaxis\":\"x\",\"y\":[39.3],\"yaxis\":\"y\",\"type\":\"scatter\"},{\"customdata\":[[\"SRR9113711\",2.9,15.6]],\"hovertemplate\":\"metagenome name=%{customdata[0]}\\u003cbr\\u003eQuery=%{x}\\u003cbr\\u003eP Genome (%)=%{y}\\u003cbr\\u003ep_metag=%{customdata[2]}\\u003cbr\\u003eavg_abund=%{customdata[1]}\\u003cextra\\u003e\\u003c\\u002fextra\\u003e\",\"legendgroup\":\"SRR9113711\",\"marker\":{\"color\":\"#19d3f3\",\"size\":[15.6],\"sizemode\":\"area\",\"sizeref\":0.223,\"symbol\":\"circle\"},\"mode\":\"markers\",\"name\":\"SRR9113711\",\"orientation\":\"v\",\"showlegend\":true,\"x\":[\"galGal6.fa.gz\"],\"xaxis\":\"x\",\"y\":[20.9],\"yaxis\":\"y\",\"type\":\"scatter\"},{\"customdata\":[[\"ERR2241889\",2.1,1.7]],\"hovertemplate\":\"metagenome name=%{customdata[0]}\\u003cbr\\u003eQuery=%{x}\\u003cbr\\u003eP Genome (%)=%{y}\\u003cbr\\u003ep_metag=%{customdata[2]}\\u003cbr\\u003eavg_abund=%{customdata[1]}\\u003cextra\\u003e\\u003c\\u002fextra\\u003e\",\"legendgroup\":\"ERR2241889\",\"marker\":{\"color\":\"#FF6692\",\"size\":[1.7],\"sizemode\":\"area\",\"sizeref\":0.223,\"symbol\":\"circle\"},\"mode\":\"markers\",\"name\":\"ERR2241889\",\"orientation\":\"v\",\"showlegend\":true,\"x\":[\"galGal6.fa.gz\"],\"xaxis\":\"x\",\"y\":[11.4],\"yaxis\":\"y\",\"type\":\"scatter\"},{\"customdata\":[[\"ERR2241736\",2.3,6.6]],\"hovertemplate\":\"metagenome name=%{customdata[0]}\\u003cbr\\u003eQuery=%{x}\\u003cbr\\u003eP Genome (%)=%{y}\\u003cbr\\u003ep_metag=%{customdata[2]}\\u003cbr\\u003eavg_abund=%{customdata[1]}\\u003cextra\\u003e\\u003c\\u002fextra\\u003e\",\"legendgroup\":\"ERR2241736\",\"marker\":{\"color\":\"#B6E880\",\"size\":[6.6],\"sizemode\":\"area\",\"sizeref\":0.223,\"symbol\":\"circle\"},\"mode\":\"markers\",\"name\":\"ERR2241736\",\"orientation\":\"v\",\"showlegend\":true,\"x\":[\"galGal6.fa.gz\"],\"xaxis\":\"x\",\"y\":[29.7],\"yaxis\":\"y\",\"type\":\"scatter\"},{\"customdata\":[[\"SRR9113707\",2.4,7.0]],\"hovertemplate\":\"metagenome name=%{customdata[0]}\\u003cbr\\u003eQuery=%{x}\\u003cbr\\u003eP Genome (%)=%{y}\\u003cbr\\u003ep_metag=%{customdata[2]}\\u003cbr\\u003eavg_abund=%{customdata[1]}\\u003cextra\\u003e\\u003c\\u002fextra\\u003e\",\"legendgroup\":\"SRR9113707\",\"marker\":{\"color\":\"#FF97FF\",\"size\":[7.0],\"sizemode\":\"area\",\"sizeref\":0.223,\"symbol\":\"circle\"},\"mode\":\"markers\",\"name\":\"SRR9113707\",\"orientation\":\"v\",\"showlegend\":true,\"x\":[\"galGal6.fa.gz\"],\"xaxis\":\"x\",\"y\":[14.0],\"yaxis\":\"y\",\"type\":\"scatter\"},{\"customdata\":[[\"ERR2241743\",2.0,3.1]],\"hovertemplate\":\"metagenome name=%{customdata[0]}\\u003cbr\\u003eQuery=%{x}\\u003cbr\\u003eP Genome (%)=%{y}\\u003cbr\\u003ep_metag=%{customdata[2]}\\u003cbr\\u003eavg_abund=%{customdata[1]}\\u003cextra\\u003e\\u003c\\u002fextra\\u003e\",\"legendgroup\":\"ERR2241743\",\"marker\":{\"color\":\"#FECB52\",\"size\":[3.1],\"sizemode\":\"area\",\"sizeref\":0.223,\"symbol\":\"circle\"},\"mode\":\"markers\",\"name\":\"ERR2241743\",\"orientation\":\"v\",\"showlegend\":true,\"x\":[\"galGal6.fa.gz\"],\"xaxis\":\"x\",\"y\":[18.5],\"yaxis\":\"y\",\"type\":\"scatter\"},{\"customdata\":[[\"ERR3339001\",2.6,13.5]],\"hovertemplate\":\"metagenome name=%{customdata[0]}\\u003cbr\\u003eQuery=%{x}\\u003cbr\\u003eP Genome (%)=%{y}\\u003cbr\\u003ep_metag=%{customdata[2]}\\u003cbr\\u003eavg_abund=%{customdata[1]}\\u003cextra\\u003e\\u003c\\u002fextra\\u003e\",\"legendgroup\":\"ERR3339001\",\"marker\":{\"color\":\"#636efa\",\"size\":[13.5],\"sizemode\":\"area\",\"sizeref\":0.223,\"symbol\":\"circle\"},\"mode\":\"markers\",\"name\":\"ERR3339001\",\"orientation\":\"v\",\"showlegend\":true,\"x\":[\"galGal6.fa.gz\"],\"xaxis\":\"x\",\"y\":[16.6],\"yaxis\":\"y\",\"type\":\"scatter\"},{\"customdata\":[[\"ERR2241755\",2.2,2.3]],\"hovertemplate\":\"metagenome name=%{customdata[0]}\\u003cbr\\u003eQuery=%{x}\\u003cbr\\u003eP Genome (%)=%{y}\\u003cbr\\u003ep_metag=%{customdata[2]}\\u003cbr\\u003eavg_abund=%{customdata[1]}\\u003cextra\\u003e\\u003c\\u002fextra\\u003e\",\"legendgroup\":\"ERR2241755\",\"marker\":{\"color\":\"#EF553B\",\"size\":[2.3],\"sizemode\":\"area\",\"sizeref\":0.223,\"symbol\":\"circle\"},\"mode\":\"markers\",\"name\":\"ERR2241755\",\"orientation\":\"v\",\"showlegend\":true,\"x\":[\"galGal6.fa.gz\"],\"xaxis\":\"x\",\"y\":[15.1],\"yaxis\":\"y\",\"type\":\"scatter\"},{\"customdata\":[[\"ERR2241749\",2.0,2.7]],\"hovertemplate\":\"metagenome name=%{customdata[0]}\\u003cbr\\u003eQuery=%{x}\\u003cbr\\u003eP Genome (%)=%{y}\\u003cbr\\u003ep_metag=%{customdata[2]}\\u003cbr\\u003eavg_abund=%{customdata[1]}\\u003cextra\\u003e\\u003c\\u002fextra\\u003e\",\"legendgroup\":\"ERR2241749\",\"marker\":{\"color\":\"#00cc96\",\"size\":[2.7],\"sizemode\":\"area\",\"sizeref\":0.223,\"symbol\":\"circle\"},\"mode\":\"markers\",\"name\":\"ERR2241749\",\"orientation\":\"v\",\"showlegend\":true,\"x\":[\"galGal6.fa.gz\"],\"xaxis\":\"x\",\"y\":[13.7],\"yaxis\":\"y\",\"type\":\"scatter\"},{\"customdata\":[[\"ERR2241907\",2.2,18.6]],\"hovertemplate\":\"metagenome name=%{customdata[0]}\\u003cbr\\u003eQuery=%{x}\\u003cbr\\u003eP Genome (%)=%{y}\\u003cbr\\u003ep_metag=%{customdata[2]}\\u003cbr\\u003eavg_abund=%{customdata[1]}\\u003cextra\\u003e\\u003c\\u002fextra\\u003e\",\"legendgroup\":\"ERR2241907\",\"marker\":{\"color\":\"#ab63fa\",\"size\":[18.6],\"sizemode\":\"area\",\"sizeref\":0.223,\"symbol\":\"circle\"},\"mode\":\"markers\",\"name\":\"ERR2241907\",\"orientation\":\"v\",\"showlegend\":true,\"x\":[\"hg38.all\"],\"xaxis\":\"x\",\"y\":[33.3],\"yaxis\":\"y\",\"type\":\"scatter\"},{\"customdata\":[[\"SRR6757641\",5.4,82.2]],\"hovertemplate\":\"metagenome name=%{customdata[0]}\\u003cbr\\u003eQuery=%{x}\\u003cbr\\u003eP Genome (%)=%{y}\\u003cbr\\u003ep_metag=%{customdata[2]}\\u003cbr\\u003eavg_abund=%{customdata[1]}\\u003cextra\\u003e\\u003c\\u002fextra\\u003e\",\"legendgroup\":\"SRR6757641\",\"marker\":{\"color\":\"#FFA15A\",\"size\":[82.2],\"sizemode\":\"area\",\"sizeref\":0.223,\"symbol\":\"circle\"},\"mode\":\"markers\",\"name\":\"SRR6757641\",\"orientation\":\"v\",\"showlegend\":true,\"x\":[\"hg38.all\"],\"xaxis\":\"x\",\"y\":[34.2],\"yaxis\":\"y\",\"type\":\"scatter\"},{\"customdata\":[[\"SRR6145077\",2.4,54.3]],\"hovertemplate\":\"metagenome name=%{customdata[0]}\\u003cbr\\u003eQuery=%{x}\\u003cbr\\u003eP Genome (%)=%{y}\\u003cbr\\u003ep_metag=%{customdata[2]}\\u003cbr\\u003eavg_abund=%{customdata[1]}\\u003cextra\\u003e\\u003c\\u002fextra\\u003e\",\"legendgroup\":\"SRR6145077\",\"marker\":{\"color\":\"#19d3f3\",\"size\":[54.3],\"sizemode\":\"area\",\"sizeref\":0.223,\"symbol\":\"circle\"},\"mode\":\"markers\",\"name\":\"SRR6145077\",\"orientation\":\"v\",\"showlegend\":true,\"x\":[\"hg38.all\"],\"xaxis\":\"x\",\"y\":[44.4],\"yaxis\":\"y\",\"type\":\"scatter\"},{\"customdata\":[[\"SRR1950773\",2.1,85.7]],\"hovertemplate\":\"metagenome name=%{customdata[0]}\\u003cbr\\u003eQuery=%{x}\\u003cbr\\u003eP Genome (%)=%{y}\\u003cbr\\u003ep_metag=%{customdata[2]}\\u003cbr\\u003eavg_abund=%{customdata[1]}\\u003cextra\\u003e\\u003c\\u002fextra\\u003e\",\"legendgroup\":\"SRR1950773\",\"marker\":{\"color\":\"#FF6692\",\"size\":[85.7],\"sizemode\":\"area\",\"sizeref\":0.223,\"symbol\":\"circle\"},\"mode\":\"markers\",\"name\":\"SRR1950773\",\"orientation\":\"v\",\"showlegend\":true,\"x\":[\"hg38.all\"],\"xaxis\":\"x\",\"y\":[14.5],\"yaxis\":\"y\",\"type\":\"scatter\"},{\"customdata\":[[\"ERR3593583\",1.7,28.6]],\"hovertemplate\":\"metagenome name=%{customdata[0]}\\u003cbr\\u003eQuery=%{x}\\u003cbr\\u003eP Genome (%)=%{y}\\u003cbr\\u003ep_metag=%{customdata[2]}\\u003cbr\\u003eavg_abund=%{customdata[1]}\\u003cextra\\u003e\\u003c\\u002fextra\\u003e\",\"legendgroup\":\"ERR3593583\",\"marker\":{\"color\":\"#B6E880\",\"size\":[28.6],\"sizemode\":\"area\",\"sizeref\":0.223,\"symbol\":\"circle\"},\"mode\":\"markers\",\"name\":\"ERR3593583\",\"orientation\":\"v\",\"showlegend\":true,\"x\":[\"hg38.all\"],\"xaxis\":\"x\",\"y\":[14.4],\"yaxis\":\"y\",\"type\":\"scatter\"},{\"customdata\":[[\"SRR1950765\",2.1,75.4]],\"hovertemplate\":\"metagenome name=%{customdata[0]}\\u003cbr\\u003eQuery=%{x}\\u003cbr\\u003eP Genome (%)=%{y}\\u003cbr\\u003ep_metag=%{customdata[2]}\\u003cbr\\u003eavg_abund=%{customdata[1]}\\u003cextra\\u003e\\u003c\\u002fextra\\u003e\",\"legendgroup\":\"SRR1950765\",\"marker\":{\"color\":\"#FF97FF\",\"size\":[75.4],\"sizemode\":\"area\",\"sizeref\":0.223,\"symbol\":\"circle\"},\"mode\":\"markers\",\"name\":\"SRR1950765\",\"orientation\":\"v\",\"showlegend\":true,\"x\":[\"hg38.all\"],\"xaxis\":\"x\",\"y\":[16.0],\"yaxis\":\"y\",\"type\":\"scatter\"},{\"customdata\":[[\"SRR6145084\",2.3,62.6]],\"hovertemplate\":\"metagenome name=%{customdata[0]}\\u003cbr\\u003eQuery=%{x}\\u003cbr\\u003eP Genome (%)=%{y}\\u003cbr\\u003ep_metag=%{customdata[2]}\\u003cbr\\u003eavg_abund=%{customdata[1]}\\u003cextra\\u003e\\u003c\\u002fextra\\u003e\",\"legendgroup\":\"SRR6145084\",\"marker\":{\"color\":\"#FECB52\",\"size\":[62.6],\"sizemode\":\"area\",\"sizeref\":0.223,\"symbol\":\"circle\"},\"mode\":\"markers\",\"name\":\"SRR6145084\",\"orientation\":\"v\",\"showlegend\":true,\"x\":[\"hg38.all\"],\"xaxis\":\"x\",\"y\":[40.7],\"yaxis\":\"y\",\"type\":\"scatter\"},{\"customdata\":[[\"SRR6216751\",2.1,51.4]],\"hovertemplate\":\"metagenome name=%{customdata[0]}\\u003cbr\\u003eQuery=%{x}\\u003cbr\\u003eP Genome (%)=%{y}\\u003cbr\\u003ep_metag=%{customdata[2]}\\u003cbr\\u003eavg_abund=%{customdata[1]}\\u003cextra\\u003e\\u003c\\u002fextra\\u003e\",\"legendgroup\":\"SRR6216751\",\"marker\":{\"color\":\"#636efa\",\"size\":[51.4],\"sizemode\":\"area\",\"sizeref\":0.223,\"symbol\":\"circle\"},\"mode\":\"markers\",\"name\":\"SRR6216751\",\"orientation\":\"v\",\"showlegend\":true,\"x\":[\"hg38.all\"],\"xaxis\":\"x\",\"y\":[11.8],\"yaxis\":\"y\",\"type\":\"scatter\"},{\"customdata\":[[\"ERR2750639\",1.7,86.9]],\"hovertemplate\":\"metagenome name=%{customdata[0]}\\u003cbr\\u003eQuery=%{x}\\u003cbr\\u003eP Genome (%)=%{y}\\u003cbr\\u003ep_metag=%{customdata[2]}\\u003cbr\\u003eavg_abund=%{customdata[1]}\\u003cextra\\u003e\\u003c\\u002fextra\\u003e\",\"legendgroup\":\"ERR2750639\",\"marker\":{\"color\":\"#EF553B\",\"size\":[86.9],\"sizemode\":\"area\",\"sizeref\":0.223,\"symbol\":\"circle\"},\"mode\":\"markers\",\"name\":\"ERR2750639\",\"orientation\":\"v\",\"showlegend\":true,\"x\":[\"hg38.all\"],\"xaxis\":\"x\",\"y\":[31.9],\"yaxis\":\"y\",\"type\":\"scatter\"},{\"customdata\":[[\"ERR2749913\",1.6,81.3]],\"hovertemplate\":\"metagenome name=%{customdata[0]}\\u003cbr\\u003eQuery=%{x}\\u003cbr\\u003eP Genome (%)=%{y}\\u003cbr\\u003ep_metag=%{customdata[2]}\\u003cbr\\u003eavg_abund=%{customdata[1]}\\u003cextra\\u003e\\u003c\\u002fextra\\u003e\",\"legendgroup\":\"ERR2749913\",\"marker\":{\"color\":\"#00cc96\",\"size\":[81.3],\"sizemode\":\"area\",\"sizeref\":0.223,\"symbol\":\"circle\"},\"mode\":\"markers\",\"name\":\"ERR2749913\",\"orientation\":\"v\",\"showlegend\":true,\"x\":[\"hg38.all\"],\"xaxis\":\"x\",\"y\":[23.0],\"yaxis\":\"y\",\"type\":\"scatter\"},{\"customdata\":[[\"ERR3593541\",2.0,85.4]],\"hovertemplate\":\"metagenome name=%{customdata[0]}\\u003cbr\\u003eQuery=%{x}\\u003cbr\\u003eP Genome (%)=%{y}\\u003cbr\\u003ep_metag=%{customdata[2]}\\u003cbr\\u003eavg_abund=%{customdata[1]}\\u003cextra\\u003e\\u003c\\u002fextra\\u003e\",\"legendgroup\":\"ERR3593541\",\"marker\":{\"color\":\"#ab63fa\",\"size\":[85.4],\"sizemode\":\"area\",\"sizeref\":0.223,\"symbol\":\"circle\"},\"mode\":\"markers\",\"name\":\"ERR3593541\",\"orientation\":\"v\",\"showlegend\":true,\"x\":[\"hg38.all\"],\"xaxis\":\"x\",\"y\":[39.0],\"yaxis\":\"y\",\"type\":\"scatter\"},{\"customdata\":[[\"SRR6216796\",1.9,60.8]],\"hovertemplate\":\"metagenome name=%{customdata[0]}\\u003cbr\\u003eQuery=%{x}\\u003cbr\\u003eP Genome (%)=%{y}\\u003cbr\\u003ep_metag=%{customdata[2]}\\u003cbr\\u003eavg_abund=%{customdata[1]}\\u003cextra\\u003e\\u003c\\u002fextra\\u003e\",\"legendgroup\":\"SRR6216796\",\"marker\":{\"color\":\"#FFA15A\",\"size\":[60.8],\"sizemode\":\"area\",\"sizeref\":0.223,\"symbol\":\"circle\"},\"mode\":\"markers\",\"name\":\"SRR6216796\",\"orientation\":\"v\",\"showlegend\":true,\"x\":[\"hg38.all\"],\"xaxis\":\"x\",\"y\":[11.5],\"yaxis\":\"y\",\"type\":\"scatter\"},{\"customdata\":[[\"SRR9684990\",1.9,82.8]],\"hovertemplate\":\"metagenome name=%{customdata[0]}\\u003cbr\\u003eQuery=%{x}\\u003cbr\\u003eP Genome (%)=%{y}\\u003cbr\\u003ep_metag=%{customdata[2]}\\u003cbr\\u003eavg_abund=%{customdata[1]}\\u003cextra\\u003e\\u003c\\u002fextra\\u003e\",\"legendgroup\":\"SRR9684990\",\"marker\":{\"color\":\"#19d3f3\",\"size\":[82.8],\"sizemode\":\"area\",\"sizeref\":0.223,\"symbol\":\"circle\"},\"mode\":\"markers\",\"name\":\"SRR9684990\",\"orientation\":\"v\",\"showlegend\":true,\"x\":[\"hg38.all\"],\"xaxis\":\"x\",\"y\":[26.2],\"yaxis\":\"y\",\"type\":\"scatter\"},{\"customdata\":[[\"SRR4420309\",4.7,49.2]],\"hovertemplate\":\"metagenome name=%{customdata[0]}\\u003cbr\\u003eQuery=%{x}\\u003cbr\\u003eP Genome (%)=%{y}\\u003cbr\\u003ep_metag=%{customdata[2]}\\u003cbr\\u003eavg_abund=%{customdata[1]}\\u003cextra\\u003e\\u003c\\u002fextra\\u003e\",\"legendgroup\":\"SRR4420309\",\"marker\":{\"color\":\"#FF6692\",\"size\":[49.2],\"sizemode\":\"area\",\"sizeref\":0.223,\"symbol\":\"circle\"},\"mode\":\"markers\",\"name\":\"SRR4420309\",\"orientation\":\"v\",\"showlegend\":true,\"x\":[\"hg38.all\"],\"xaxis\":\"x\",\"y\":[23.6],\"yaxis\":\"y\",\"type\":\"scatter\"},{\"customdata\":[[\"SRR1950787\",1.9,66.3]],\"hovertemplate\":\"metagenome name=%{customdata[0]}\\u003cbr\\u003eQuery=%{x}\\u003cbr\\u003eP Genome (%)=%{y}\\u003cbr\\u003ep_metag=%{customdata[2]}\\u003cbr\\u003eavg_abund=%{customdata[1]}\\u003cextra\\u003e\\u003c\\u002fextra\\u003e\",\"legendgroup\":\"SRR1950787\",\"marker\":{\"color\":\"#B6E880\",\"size\":[66.3],\"sizemode\":\"area\",\"sizeref\":0.223,\"symbol\":\"circle\"},\"mode\":\"markers\",\"name\":\"SRR1950787\",\"orientation\":\"v\",\"showlegend\":true,\"x\":[\"hg38.all\"],\"xaxis\":\"x\",\"y\":[12.9],\"yaxis\":\"y\",\"type\":\"scatter\"},{\"customdata\":[[\"SRR6757613\",2.4,69.5]],\"hovertemplate\":\"metagenome name=%{customdata[0]}\\u003cbr\\u003eQuery=%{x}\\u003cbr\\u003eP Genome (%)=%{y}\\u003cbr\\u003ep_metag=%{customdata[2]}\\u003cbr\\u003eavg_abund=%{customdata[1]}\\u003cextra\\u003e\\u003c\\u002fextra\\u003e\",\"legendgroup\":\"SRR6757613\",\"marker\":{\"color\":\"#FF97FF\",\"size\":[69.5],\"sizemode\":\"area\",\"sizeref\":0.223,\"symbol\":\"circle\"},\"mode\":\"markers\",\"name\":\"SRR6757613\",\"orientation\":\"v\",\"showlegend\":true,\"x\":[\"hg38.all\"],\"xaxis\":\"x\",\"y\":[43.0],\"yaxis\":\"y\",\"type\":\"scatter\"},{\"customdata\":[[\"SRR1950750\",2.6,71.9]],\"hovertemplate\":\"metagenome name=%{customdata[0]}\\u003cbr\\u003eQuery=%{x}\\u003cbr\\u003eP Genome (%)=%{y}\\u003cbr\\u003ep_metag=%{customdata[2]}\\u003cbr\\u003eavg_abund=%{customdata[1]}\\u003cextra\\u003e\\u003c\\u002fextra\\u003e\",\"legendgroup\":\"SRR1950750\",\"marker\":{\"color\":\"#FECB52\",\"size\":[71.9],\"sizemode\":\"area\",\"sizeref\":0.223,\"symbol\":\"circle\"},\"mode\":\"markers\",\"name\":\"SRR1950750\",\"orientation\":\"v\",\"showlegend\":true,\"x\":[\"hg38.all\"],\"xaxis\":\"x\",\"y\":[43.9],\"yaxis\":\"y\",\"type\":\"scatter\"},{\"customdata\":[[\"ERR2749187\",1.6,87.8]],\"hovertemplate\":\"metagenome name=%{customdata[0]}\\u003cbr\\u003eQuery=%{x}\\u003cbr\\u003eP Genome (%)=%{y}\\u003cbr\\u003ep_metag=%{customdata[2]}\\u003cbr\\u003eavg_abund=%{customdata[1]}\\u003cextra\\u003e\\u003c\\u002fextra\\u003e\",\"legendgroup\":\"ERR2749187\",\"marker\":{\"color\":\"#636efa\",\"size\":[87.8],\"sizemode\":\"area\",\"sizeref\":0.223,\"symbol\":\"circle\"},\"mode\":\"markers\",\"name\":\"ERR2749187\",\"orientation\":\"v\",\"showlegend\":true,\"x\":[\"hg38.all\"],\"xaxis\":\"x\",\"y\":[26.2],\"yaxis\":\"y\",\"type\":\"scatter\"},{\"customdata\":[[\"SRR4420311\",4.2,45.4]],\"hovertemplate\":\"metagenome name=%{customdata[0]}\\u003cbr\\u003eQuery=%{x}\\u003cbr\\u003eP Genome (%)=%{y}\\u003cbr\\u003ep_metag=%{customdata[2]}\\u003cbr\\u003eavg_abund=%{customdata[1]}\\u003cextra\\u003e\\u003c\\u002fextra\\u003e\",\"legendgroup\":\"SRR4420311\",\"marker\":{\"color\":\"#EF553B\",\"size\":[45.4],\"sizemode\":\"area\",\"sizeref\":0.223,\"symbol\":\"circle\"},\"mode\":\"markers\",\"name\":\"SRR4420311\",\"orientation\":\"v\",\"showlegend\":true,\"x\":[\"hg38.all\"],\"xaxis\":\"x\",\"y\":[18.7],\"yaxis\":\"y\",\"type\":\"scatter\"},{\"customdata\":[[\"ERR2750405\",1.5,51.3]],\"hovertemplate\":\"metagenome name=%{customdata[0]}\\u003cbr\\u003eQuery=%{x}\\u003cbr\\u003eP Genome (%)=%{y}\\u003cbr\\u003ep_metag=%{customdata[2]}\\u003cbr\\u003eavg_abund=%{customdata[1]}\\u003cextra\\u003e\\u003c\\u002fextra\\u003e\",\"legendgroup\":\"ERR2750405\",\"marker\":{\"color\":\"#00cc96\",\"size\":[51.3],\"sizemode\":\"area\",\"sizeref\":0.223,\"symbol\":\"circle\"},\"mode\":\"markers\",\"name\":\"ERR2750405\",\"orientation\":\"v\",\"showlegend\":true,\"x\":[\"hg38.all\"],\"xaxis\":\"x\",\"y\":[11.5],\"yaxis\":\"y\",\"type\":\"scatter\"},{\"customdata\":[[\"SRR4420318\",6.4,84.1]],\"hovertemplate\":\"metagenome name=%{customdata[0]}\\u003cbr\\u003eQuery=%{x}\\u003cbr\\u003eP Genome (%)=%{y}\\u003cbr\\u003ep_metag=%{customdata[2]}\\u003cbr\\u003eavg_abund=%{customdata[1]}\\u003cextra\\u003e\\u003c\\u002fextra\\u003e\",\"legendgroup\":\"SRR4420318\",\"marker\":{\"color\":\"#ab63fa\",\"size\":[84.1],\"sizemode\":\"area\",\"sizeref\":0.223,\"symbol\":\"circle\"},\"mode\":\"markers\",\"name\":\"SRR4420318\",\"orientation\":\"v\",\"showlegend\":true,\"x\":[\"hg38.all\"],\"xaxis\":\"x\",\"y\":[63.4],\"yaxis\":\"y\",\"type\":\"scatter\"},{\"customdata\":[[\"SRR4420319\",12.6,66.0]],\"hovertemplate\":\"metagenome name=%{customdata[0]}\\u003cbr\\u003eQuery=%{x}\\u003cbr\\u003eP Genome (%)=%{y}\\u003cbr\\u003ep_metag=%{customdata[2]}\\u003cbr\\u003eavg_abund=%{customdata[1]}\\u003cextra\\u003e\\u003c\\u002fextra\\u003e\",\"legendgroup\":\"SRR4420319\",\"marker\":{\"color\":\"#FFA15A\",\"size\":[66.0],\"sizemode\":\"area\",\"sizeref\":0.223,\"symbol\":\"circle\"},\"mode\":\"markers\",\"name\":\"SRR4420319\",\"orientation\":\"v\",\"showlegend\":true,\"x\":[\"hg38.all\"],\"xaxis\":\"x\",\"y\":[15.6],\"yaxis\":\"y\",\"type\":\"scatter\"},{\"customdata\":[[\"SRR6145083\",2.2,39.5]],\"hovertemplate\":\"metagenome name=%{customdata[0]}\\u003cbr\\u003eQuery=%{x}\\u003cbr\\u003eP Genome (%)=%{y}\\u003cbr\\u003ep_metag=%{customdata[2]}\\u003cbr\\u003eavg_abund=%{customdata[1]}\\u003cextra\\u003e\\u003c\\u002fextra\\u003e\",\"legendgroup\":\"SRR6145083\",\"marker\":{\"color\":\"#19d3f3\",\"size\":[39.5],\"sizemode\":\"area\",\"sizeref\":0.223,\"symbol\":\"circle\"},\"mode\":\"markers\",\"name\":\"SRR6145083\",\"orientation\":\"v\",\"showlegend\":true,\"x\":[\"hg38.all\"],\"xaxis\":\"x\",\"y\":[29.1],\"yaxis\":\"y\",\"type\":\"scatter\"},{\"customdata\":[[\"SRR6757611\",8.1,85.1]],\"hovertemplate\":\"metagenome name=%{customdata[0]}\\u003cbr\\u003eQuery=%{x}\\u003cbr\\u003eP Genome (%)=%{y}\\u003cbr\\u003ep_metag=%{customdata[2]}\\u003cbr\\u003eavg_abund=%{customdata[1]}\\u003cextra\\u003e\\u003c\\u002fextra\\u003e\",\"legendgroup\":\"SRR6757611\",\"marker\":{\"color\":\"#FF6692\",\"size\":[85.1],\"sizemode\":\"area\",\"sizeref\":0.223,\"symbol\":\"circle\"},\"mode\":\"markers\",\"name\":\"SRR6757611\",\"orientation\":\"v\",\"showlegend\":true,\"x\":[\"hg38.all\"],\"xaxis\":\"x\",\"y\":[23.3],\"yaxis\":\"y\",\"type\":\"scatter\"},{\"customdata\":[[\"SRR17301062\",3.2,57.1]],\"hovertemplate\":\"metagenome name=%{customdata[0]}\\u003cbr\\u003eQuery=%{x}\\u003cbr\\u003eP Genome (%)=%{y}\\u003cbr\\u003ep_metag=%{customdata[2]}\\u003cbr\\u003eavg_abund=%{customdata[1]}\\u003cextra\\u003e\\u003c\\u002fextra\\u003e\",\"legendgroup\":\"SRR17301062\",\"marker\":{\"color\":\"#B6E880\",\"size\":[57.1],\"sizemode\":\"area\",\"sizeref\":0.223,\"symbol\":\"circle\"},\"mode\":\"markers\",\"name\":\"SRR17301062\",\"orientation\":\"v\",\"showlegend\":true,\"x\":[\"hg38.all\"],\"xaxis\":\"x\",\"y\":[29.1],\"yaxis\":\"y\",\"type\":\"scatter\"},{\"customdata\":[[\"ERR2750373\",1.6,77.8]],\"hovertemplate\":\"metagenome name=%{customdata[0]}\\u003cbr\\u003eQuery=%{x}\\u003cbr\\u003eP Genome (%)=%{y}\\u003cbr\\u003ep_metag=%{customdata[2]}\\u003cbr\\u003eavg_abund=%{customdata[1]}\\u003cextra\\u003e\\u003c\\u002fextra\\u003e\",\"legendgroup\":\"ERR2750373\",\"marker\":{\"color\":\"#FF97FF\",\"size\":[77.8],\"sizemode\":\"area\",\"sizeref\":0.223,\"symbol\":\"circle\"},\"mode\":\"markers\",\"name\":\"ERR2750373\",\"orientation\":\"v\",\"showlegend\":true,\"x\":[\"hg38.all\"],\"xaxis\":\"x\",\"y\":[20.0],\"yaxis\":\"y\",\"type\":\"scatter\"},{\"customdata\":[[\"ERR3593147\",1.8,46.1]],\"hovertemplate\":\"metagenome name=%{customdata[0]}\\u003cbr\\u003eQuery=%{x}\\u003cbr\\u003eP Genome (%)=%{y}\\u003cbr\\u003ep_metag=%{customdata[2]}\\u003cbr\\u003eavg_abund=%{customdata[1]}\\u003cextra\\u003e\\u003c\\u002fextra\\u003e\",\"legendgroup\":\"ERR3593147\",\"marker\":{\"color\":\"#FECB52\",\"size\":[46.1],\"sizemode\":\"area\",\"sizeref\":0.223,\"symbol\":\"circle\"},\"mode\":\"markers\",\"name\":\"ERR3593147\",\"orientation\":\"v\",\"showlegend\":true,\"x\":[\"hg38.all\"],\"xaxis\":\"x\",\"y\":[22.9],\"yaxis\":\"y\",\"type\":\"scatter\"},{\"customdata\":[[\"SRR1950776\",3.4,86.6]],\"hovertemplate\":\"metagenome name=%{customdata[0]}\\u003cbr\\u003eQuery=%{x}\\u003cbr\\u003eP Genome (%)=%{y}\\u003cbr\\u003ep_metag=%{customdata[2]}\\u003cbr\\u003eavg_abund=%{customdata[1]}\\u003cextra\\u003e\\u003c\\u002fextra\\u003e\",\"legendgroup\":\"SRR1950776\",\"marker\":{\"color\":\"#636efa\",\"size\":[86.6],\"sizemode\":\"area\",\"sizeref\":0.223,\"symbol\":\"circle\"},\"mode\":\"markers\",\"name\":\"SRR1950776\",\"orientation\":\"v\",\"showlegend\":true,\"x\":[\"hg38.all\"],\"xaxis\":\"x\",\"y\":[12.9],\"yaxis\":\"y\",\"type\":\"scatter\"},{\"customdata\":[[\"ERR3274631\",2.7,58.9]],\"hovertemplate\":\"metagenome name=%{customdata[0]}\\u003cbr\\u003eQuery=%{x}\\u003cbr\\u003eP Genome (%)=%{y}\\u003cbr\\u003ep_metag=%{customdata[2]}\\u003cbr\\u003eavg_abund=%{customdata[1]}\\u003cextra\\u003e\\u003c\\u002fextra\\u003e\",\"legendgroup\":\"ERR3274631\",\"marker\":{\"color\":\"#EF553B\",\"size\":[58.9],\"sizemode\":\"area\",\"sizeref\":0.223,\"symbol\":\"circle\"},\"mode\":\"markers\",\"name\":\"ERR3274631\",\"orientation\":\"v\",\"showlegend\":true,\"x\":[\"hg38.all\"],\"xaxis\":\"x\",\"y\":[52.4],\"yaxis\":\"y\",\"type\":\"scatter\"},{\"customdata\":[[\"SRR4420308\",4.0,28.8]],\"hovertemplate\":\"metagenome name=%{customdata[0]}\\u003cbr\\u003eQuery=%{x}\\u003cbr\\u003eP Genome (%)=%{y}\\u003cbr\\u003ep_metag=%{customdata[2]}\\u003cbr\\u003eavg_abund=%{customdata[1]}\\u003cextra\\u003e\\u003c\\u002fextra\\u003e\",\"legendgroup\":\"SRR4420308\",\"marker\":{\"color\":\"#00cc96\",\"size\":[28.8],\"sizemode\":\"area\",\"sizeref\":0.223,\"symbol\":\"circle\"},\"mode\":\"markers\",\"name\":\"SRR4420308\",\"orientation\":\"v\",\"showlegend\":true,\"x\":[\"hg38.all\"],\"xaxis\":\"x\",\"y\":[21.2],\"yaxis\":\"y\",\"type\":\"scatter\"},{\"customdata\":[[\"SRR15604587\",1.7,8.7]],\"hovertemplate\":\"metagenome name=%{customdata[0]}\\u003cbr\\u003eQuery=%{x}\\u003cbr\\u003eP Genome (%)=%{y}\\u003cbr\\u003ep_metag=%{customdata[2]}\\u003cbr\\u003eavg_abund=%{customdata[1]}\\u003cextra\\u003e\\u003c\\u002fextra\\u003e\",\"legendgroup\":\"SRR15604587\",\"marker\":{\"color\":\"#ab63fa\",\"size\":[8.7],\"sizemode\":\"area\",\"sizeref\":0.223,\"symbol\":\"circle\"},\"mode\":\"markers\",\"name\":\"SRR15604587\",\"orientation\":\"v\",\"showlegend\":true,\"x\":[\"mm39.fa.gz\"],\"xaxis\":\"x\",\"y\":[20.1],\"yaxis\":\"y\",\"type\":\"scatter\"},{\"customdata\":[[\"SRR15604488\",1.8,12.3]],\"hovertemplate\":\"metagenome name=%{customdata[0]}\\u003cbr\\u003eQuery=%{x}\\u003cbr\\u003eP Genome (%)=%{y}\\u003cbr\\u003ep_metag=%{customdata[2]}\\u003cbr\\u003eavg_abund=%{customdata[1]}\\u003cextra\\u003e\\u003c\\u002fextra\\u003e\",\"legendgroup\":\"SRR15604488\",\"marker\":{\"color\":\"#FFA15A\",\"size\":[12.3],\"sizemode\":\"area\",\"sizeref\":0.223,\"symbol\":\"circle\"},\"mode\":\"markers\",\"name\":\"SRR15604488\",\"orientation\":\"v\",\"showlegend\":true,\"x\":[\"mm39.fa.gz\"],\"xaxis\":\"x\",\"y\":[28.2],\"yaxis\":\"y\",\"type\":\"scatter\"},{\"customdata\":[[\"SRR15604629\",1.7,7.0]],\"hovertemplate\":\"metagenome name=%{customdata[0]}\\u003cbr\\u003eQuery=%{x}\\u003cbr\\u003eP Genome (%)=%{y}\\u003cbr\\u003ep_metag=%{customdata[2]}\\u003cbr\\u003eavg_abund=%{customdata[1]}\\u003cextra\\u003e\\u003c\\u002fextra\\u003e\",\"legendgroup\":\"SRR15604629\",\"marker\":{\"color\":\"#19d3f3\",\"size\":[7.0],\"sizemode\":\"area\",\"sizeref\":0.223,\"symbol\":\"circle\"},\"mode\":\"markers\",\"name\":\"SRR15604629\",\"orientation\":\"v\",\"showlegend\":true,\"x\":[\"mm39.fa.gz\"],\"xaxis\":\"x\",\"y\":[18.1],\"yaxis\":\"y\",\"type\":\"scatter\"},{\"customdata\":[[\"SRR18439529\",4.0,59.7]],\"hovertemplate\":\"metagenome name=%{customdata[0]}\\u003cbr\\u003eQuery=%{x}\\u003cbr\\u003eP Genome (%)=%{y}\\u003cbr\\u003ep_metag=%{customdata[2]}\\u003cbr\\u003eavg_abund=%{customdata[1]}\\u003cextra\\u003e\\u003c\\u002fextra\\u003e\",\"legendgroup\":\"SRR18439529\",\"marker\":{\"color\":\"#FF6692\",\"size\":[59.7],\"sizemode\":\"area\",\"sizeref\":0.223,\"symbol\":\"circle\"},\"mode\":\"markers\",\"name\":\"SRR18439529\",\"orientation\":\"v\",\"showlegend\":true,\"x\":[\"mm39.fa.gz\"],\"xaxis\":\"x\",\"y\":[82.6],\"yaxis\":\"y\",\"type\":\"scatter\"},{\"customdata\":[[\"SRR19241959\",1.5,13.9]],\"hovertemplate\":\"metagenome name=%{customdata[0]}\\u003cbr\\u003eQuery=%{x}\\u003cbr\\u003eP Genome (%)=%{y}\\u003cbr\\u003ep_metag=%{customdata[2]}\\u003cbr\\u003eavg_abund=%{customdata[1]}\\u003cextra\\u003e\\u003c\\u002fextra\\u003e\",\"legendgroup\":\"SRR19241959\",\"marker\":{\"color\":\"#B6E880\",\"size\":[13.9],\"sizemode\":\"area\",\"sizeref\":0.223,\"symbol\":\"circle\"},\"mode\":\"markers\",\"name\":\"SRR19241959\",\"orientation\":\"v\",\"showlegend\":true,\"x\":[\"mm39.fa.gz\"],\"xaxis\":\"x\",\"y\":[25.0],\"yaxis\":\"y\",\"type\":\"scatter\"},{\"customdata\":[[\"SRR13528212\",1.7,16.8]],\"hovertemplate\":\"metagenome name=%{customdata[0]}\\u003cbr\\u003eQuery=%{x}\\u003cbr\\u003eP Genome (%)=%{y}\\u003cbr\\u003ep_metag=%{customdata[2]}\\u003cbr\\u003eavg_abund=%{customdata[1]}\\u003cextra\\u003e\\u003c\\u002fextra\\u003e\",\"legendgroup\":\"SRR13528212\",\"marker\":{\"color\":\"#FF97FF\",\"size\":[16.8],\"sizemode\":\"area\",\"sizeref\":0.223,\"symbol\":\"circle\"},\"mode\":\"markers\",\"name\":\"SRR13528212\",\"orientation\":\"v\",\"showlegend\":true,\"x\":[\"mm39.fa.gz\"],\"xaxis\":\"x\",\"y\":[28.0],\"yaxis\":\"y\",\"type\":\"scatter\"},{\"customdata\":[[\"SRR18439537\",4.4,76.6]],\"hovertemplate\":\"metagenome name=%{customdata[0]}\\u003cbr\\u003eQuery=%{x}\\u003cbr\\u003eP Genome (%)=%{y}\\u003cbr\\u003ep_metag=%{customdata[2]}\\u003cbr\\u003eavg_abund=%{customdata[1]}\\u003cextra\\u003e\\u003c\\u002fextra\\u003e\",\"legendgroup\":\"SRR18439537\",\"marker\":{\"color\":\"#FECB52\",\"size\":[76.6],\"sizemode\":\"area\",\"sizeref\":0.223,\"symbol\":\"circle\"},\"mode\":\"markers\",\"name\":\"SRR18439537\",\"orientation\":\"v\",\"showlegend\":true,\"x\":[\"mm39.fa.gz\"],\"xaxis\":\"x\",\"y\":[88.6],\"yaxis\":\"y\",\"type\":\"scatter\"},{\"customdata\":[[\"SRR18439533\",3.9,76.8]],\"hovertemplate\":\"metagenome name=%{customdata[0]}\\u003cbr\\u003eQuery=%{x}\\u003cbr\\u003eP Genome (%)=%{y}\\u003cbr\\u003ep_metag=%{customdata[2]}\\u003cbr\\u003eavg_abund=%{customdata[1]}\\u003cextra\\u003e\\u003c\\u002fextra\\u003e\",\"legendgroup\":\"SRR18439533\",\"marker\":{\"color\":\"#636efa\",\"size\":[76.8],\"sizemode\":\"area\",\"sizeref\":0.223,\"symbol\":\"circle\"},\"mode\":\"markers\",\"name\":\"SRR18439533\",\"orientation\":\"v\",\"showlegend\":true,\"x\":[\"mm39.fa.gz\"],\"xaxis\":\"x\",\"y\":[86.4],\"yaxis\":\"y\",\"type\":\"scatter\"},{\"customdata\":[[\"SRR15604491\",1.7,8.4]],\"hovertemplate\":\"metagenome name=%{customdata[0]}\\u003cbr\\u003eQuery=%{x}\\u003cbr\\u003eP Genome (%)=%{y}\\u003cbr\\u003ep_metag=%{customdata[2]}\\u003cbr\\u003eavg_abund=%{customdata[1]}\\u003cextra\\u003e\\u003c\\u002fextra\\u003e\",\"legendgroup\":\"SRR15604491\",\"marker\":{\"color\":\"#EF553B\",\"size\":[8.4],\"sizemode\":\"area\",\"sizeref\":0.223,\"symbol\":\"circle\"},\"mode\":\"markers\",\"name\":\"SRR15604491\",\"orientation\":\"v\",\"showlegend\":true,\"x\":[\"mm39.fa.gz\"],\"xaxis\":\"x\",\"y\":[21.2],\"yaxis\":\"y\",\"type\":\"scatter\"},{\"customdata\":[[\"SRR19759423\",1.6,9.9]],\"hovertemplate\":\"metagenome name=%{customdata[0]}\\u003cbr\\u003eQuery=%{x}\\u003cbr\\u003eP Genome (%)=%{y}\\u003cbr\\u003ep_metag=%{customdata[2]}\\u003cbr\\u003eavg_abund=%{customdata[1]}\\u003cextra\\u003e\\u003c\\u002fextra\\u003e\",\"legendgroup\":\"SRR19759423\",\"marker\":{\"color\":\"#00cc96\",\"size\":[9.9],\"sizemode\":\"area\",\"sizeref\":0.223,\"symbol\":\"circle\"},\"mode\":\"markers\",\"name\":\"SRR19759423\",\"orientation\":\"v\",\"showlegend\":true,\"x\":[\"mm39.fa.gz\"],\"xaxis\":\"x\",\"y\":[33.4],\"yaxis\":\"y\",\"type\":\"scatter\"},{\"customdata\":[[\"SRR15604628\",1.5,3.6]],\"hovertemplate\":\"metagenome name=%{customdata[0]}\\u003cbr\\u003eQuery=%{x}\\u003cbr\\u003eP Genome (%)=%{y}\\u003cbr\\u003ep_metag=%{customdata[2]}\\u003cbr\\u003eavg_abund=%{customdata[1]}\\u003cextra\\u003e\\u003c\\u002fextra\\u003e\",\"legendgroup\":\"SRR15604628\",\"marker\":{\"color\":\"#ab63fa\",\"size\":[3.6],\"sizemode\":\"area\",\"sizeref\":0.223,\"symbol\":\"circle\"},\"mode\":\"markers\",\"name\":\"SRR15604628\",\"orientation\":\"v\",\"showlegend\":true,\"x\":[\"mm39.fa.gz\"],\"xaxis\":\"x\",\"y\":[11.2],\"yaxis\":\"y\",\"type\":\"scatter\"},{\"customdata\":[[\"SRR18439546\",3.9,60.0]],\"hovertemplate\":\"metagenome name=%{customdata[0]}\\u003cbr\\u003eQuery=%{x}\\u003cbr\\u003eP Genome (%)=%{y}\\u003cbr\\u003ep_metag=%{customdata[2]}\\u003cbr\\u003eavg_abund=%{customdata[1]}\\u003cextra\\u003e\\u003c\\u002fextra\\u003e\",\"legendgroup\":\"SRR18439546\",\"marker\":{\"color\":\"#FFA15A\",\"size\":[60.0],\"sizemode\":\"area\",\"sizeref\":0.223,\"symbol\":\"circle\"},\"mode\":\"markers\",\"name\":\"SRR18439546\",\"orientation\":\"v\",\"showlegend\":true,\"x\":[\"mm39.fa.gz\"],\"xaxis\":\"x\",\"y\":[83.4],\"yaxis\":\"y\",\"type\":\"scatter\"},{\"customdata\":[[\"SRR18439526\",4.7,70.0]],\"hovertemplate\":\"metagenome name=%{customdata[0]}\\u003cbr\\u003eQuery=%{x}\\u003cbr\\u003eP Genome (%)=%{y}\\u003cbr\\u003ep_metag=%{customdata[2]}\\u003cbr\\u003eavg_abund=%{customdata[1]}\\u003cextra\\u003e\\u003c\\u002fextra\\u003e\",\"legendgroup\":\"SRR18439526\",\"marker\":{\"color\":\"#19d3f3\",\"size\":[70.0],\"sizemode\":\"area\",\"sizeref\":0.223,\"symbol\":\"circle\"},\"mode\":\"markers\",\"name\":\"SRR18439526\",\"orientation\":\"v\",\"showlegend\":true,\"x\":[\"mm39.fa.gz\"],\"xaxis\":\"x\",\"y\":[89.8],\"yaxis\":\"y\",\"type\":\"scatter\"},{\"customdata\":[[\"SRR13573576\",1.8,13.6]],\"hovertemplate\":\"metagenome name=%{customdata[0]}\\u003cbr\\u003eQuery=%{x}\\u003cbr\\u003eP Genome (%)=%{y}\\u003cbr\\u003ep_metag=%{customdata[2]}\\u003cbr\\u003eavg_abund=%{customdata[1]}\\u003cextra\\u003e\\u003c\\u002fextra\\u003e\",\"legendgroup\":\"SRR13573576\",\"marker\":{\"color\":\"#FF6692\",\"size\":[13.6],\"sizemode\":\"area\",\"sizeref\":0.223,\"symbol\":\"circle\"},\"mode\":\"markers\",\"name\":\"SRR13573576\",\"orientation\":\"v\",\"showlegend\":true,\"x\":[\"mm39.fa.gz\"],\"xaxis\":\"x\",\"y\":[24.6],\"yaxis\":\"y\",\"type\":\"scatter\"},{\"customdata\":[[\"SRR18439538\",3.2,52.8]],\"hovertemplate\":\"metagenome name=%{customdata[0]}\\u003cbr\\u003eQuery=%{x}\\u003cbr\\u003eP Genome (%)=%{y}\\u003cbr\\u003ep_metag=%{customdata[2]}\\u003cbr\\u003eavg_abund=%{customdata[1]}\\u003cextra\\u003e\\u003c\\u002fextra\\u003e\",\"legendgroup\":\"SRR18439538\",\"marker\":{\"color\":\"#B6E880\",\"size\":[52.8],\"sizemode\":\"area\",\"sizeref\":0.223,\"symbol\":\"circle\"},\"mode\":\"markers\",\"name\":\"SRR18439538\",\"orientation\":\"v\",\"showlegend\":true,\"x\":[\"mm39.fa.gz\"],\"xaxis\":\"x\",\"y\":[77.6],\"yaxis\":\"y\",\"type\":\"scatter\"},{\"customdata\":[[\"SRR15604566\",1.5,4.9]],\"hovertemplate\":\"metagenome name=%{customdata[0]}\\u003cbr\\u003eQuery=%{x}\\u003cbr\\u003eP Genome (%)=%{y}\\u003cbr\\u003ep_metag=%{customdata[2]}\\u003cbr\\u003eavg_abund=%{customdata[1]}\\u003cextra\\u003e\\u003c\\u002fextra\\u003e\",\"legendgroup\":\"SRR15604566\",\"marker\":{\"color\":\"#FF97FF\",\"size\":[4.9],\"sizemode\":\"area\",\"sizeref\":0.223,\"symbol\":\"circle\"},\"mode\":\"markers\",\"name\":\"SRR15604566\",\"orientation\":\"v\",\"showlegend\":true,\"x\":[\"mm39.fa.gz\"],\"xaxis\":\"x\",\"y\":[12.5],\"yaxis\":\"y\",\"type\":\"scatter\"},{\"customdata\":[[\"SRR16350269\",1.7,32.8]],\"hovertemplate\":\"metagenome name=%{customdata[0]}\\u003cbr\\u003eQuery=%{x}\\u003cbr\\u003eP Genome (%)=%{y}\\u003cbr\\u003ep_metag=%{customdata[2]}\\u003cbr\\u003eavg_abund=%{customdata[1]}\\u003cextra\\u003e\\u003c\\u002fextra\\u003e\",\"legendgroup\":\"SRR16350269\",\"marker\":{\"color\":\"#FECB52\",\"size\":[32.8],\"sizemode\":\"area\",\"sizeref\":0.223,\"symbol\":\"circle\"},\"mode\":\"markers\",\"name\":\"SRR16350269\",\"orientation\":\"v\",\"showlegend\":true,\"x\":[\"mm39.fa.gz\"],\"xaxis\":\"x\",\"y\":[12.7],\"yaxis\":\"y\",\"type\":\"scatter\"},{\"customdata\":[[\"SRR18439547\",3.5,52.5]],\"hovertemplate\":\"metagenome name=%{customdata[0]}\\u003cbr\\u003eQuery=%{x}\\u003cbr\\u003eP Genome (%)=%{y}\\u003cbr\\u003ep_metag=%{customdata[2]}\\u003cbr\\u003eavg_abund=%{customdata[1]}\\u003cextra\\u003e\\u003c\\u002fextra\\u003e\",\"legendgroup\":\"SRR18439547\",\"marker\":{\"color\":\"#636efa\",\"size\":[52.5],\"sizemode\":\"area\",\"sizeref\":0.223,\"symbol\":\"circle\"},\"mode\":\"markers\",\"name\":\"SRR18439547\",\"orientation\":\"v\",\"showlegend\":true,\"x\":[\"mm39.fa.gz\"],\"xaxis\":\"x\",\"y\":[78.7],\"yaxis\":\"y\",\"type\":\"scatter\"},{\"customdata\":[[\"SRR15604483\",1.7,9.8]],\"hovertemplate\":\"metagenome name=%{customdata[0]}\\u003cbr\\u003eQuery=%{x}\\u003cbr\\u003eP Genome (%)=%{y}\\u003cbr\\u003ep_metag=%{customdata[2]}\\u003cbr\\u003eavg_abund=%{customdata[1]}\\u003cextra\\u003e\\u003c\\u002fextra\\u003e\",\"legendgroup\":\"SRR15604483\",\"marker\":{\"color\":\"#EF553B\",\"size\":[9.8],\"sizemode\":\"area\",\"sizeref\":0.223,\"symbol\":\"circle\"},\"mode\":\"markers\",\"name\":\"SRR15604483\",\"orientation\":\"v\",\"showlegend\":true,\"x\":[\"mm39.fa.gz\"],\"xaxis\":\"x\",\"y\":[25.6],\"yaxis\":\"y\",\"type\":\"scatter\"},{\"customdata\":[[\"SRR16350210\",1.7,21.7]],\"hovertemplate\":\"metagenome name=%{customdata[0]}\\u003cbr\\u003eQuery=%{x}\\u003cbr\\u003eP Genome (%)=%{y}\\u003cbr\\u003ep_metag=%{customdata[2]}\\u003cbr\\u003eavg_abund=%{customdata[1]}\\u003cextra\\u003e\\u003c\\u002fextra\\u003e\",\"legendgroup\":\"SRR16350210\",\"marker\":{\"color\":\"#00cc96\",\"size\":[21.7],\"sizemode\":\"area\",\"sizeref\":0.223,\"symbol\":\"circle\"},\"mode\":\"markers\",\"name\":\"SRR16350210\",\"orientation\":\"v\",\"showlegend\":true,\"x\":[\"mm39.fa.gz\"],\"xaxis\":\"x\",\"y\":[10.5],\"yaxis\":\"y\",\"type\":\"scatter\"},{\"customdata\":[[\"SRR15604630\",1.6,4.0]],\"hovertemplate\":\"metagenome name=%{customdata[0]}\\u003cbr\\u003eQuery=%{x}\\u003cbr\\u003eP Genome (%)=%{y}\\u003cbr\\u003ep_metag=%{customdata[2]}\\u003cbr\\u003eavg_abund=%{customdata[1]}\\u003cextra\\u003e\\u003c\\u002fextra\\u003e\",\"legendgroup\":\"SRR15604630\",\"marker\":{\"color\":\"#ab63fa\",\"size\":[4.0],\"sizemode\":\"area\",\"sizeref\":0.223,\"symbol\":\"circle\"},\"mode\":\"markers\",\"name\":\"SRR15604630\",\"orientation\":\"v\",\"showlegend\":true,\"x\":[\"mm39.fa.gz\"],\"xaxis\":\"x\",\"y\":[11.1],\"yaxis\":\"y\",\"type\":\"scatter\"},{\"customdata\":[[\"SRR16350220\",1.6,44.8]],\"hovertemplate\":\"metagenome name=%{customdata[0]}\\u003cbr\\u003eQuery=%{x}\\u003cbr\\u003eP Genome (%)=%{y}\\u003cbr\\u003ep_metag=%{customdata[2]}\\u003cbr\\u003eavg_abund=%{customdata[1]}\\u003cextra\\u003e\\u003c\\u002fextra\\u003e\",\"legendgroup\":\"SRR16350220\",\"marker\":{\"color\":\"#FFA15A\",\"size\":[44.8],\"sizemode\":\"area\",\"sizeref\":0.223,\"symbol\":\"circle\"},\"mode\":\"markers\",\"name\":\"SRR16350220\",\"orientation\":\"v\",\"showlegend\":true,\"x\":[\"mm39.fa.gz\"],\"xaxis\":\"x\",\"y\":[13.3],\"yaxis\":\"y\",\"type\":\"scatter\"},{\"customdata\":[[\"ERR3357635\",2.0,25.5]],\"hovertemplate\":\"metagenome name=%{customdata[0]}\\u003cbr\\u003eQuery=%{x}\\u003cbr\\u003eP Genome (%)=%{y}\\u003cbr\\u003ep_metag=%{customdata[2]}\\u003cbr\\u003eavg_abund=%{customdata[1]}\\u003cextra\\u003e\\u003c\\u002fextra\\u003e\",\"legendgroup\":\"ERR3357635\",\"marker\":{\"color\":\"#19d3f3\",\"size\":[25.5],\"sizemode\":\"area\",\"sizeref\":0.223,\"symbol\":\"circle\"},\"mode\":\"markers\",\"name\":\"ERR3357635\",\"orientation\":\"v\",\"showlegend\":true,\"x\":[\"mm39.fa.gz\"],\"xaxis\":\"x\",\"y\":[22.6],\"yaxis\":\"y\",\"type\":\"scatter\"},{\"customdata\":[[\"SRR18439549\",4.4,68.7]],\"hovertemplate\":\"metagenome name=%{customdata[0]}\\u003cbr\\u003eQuery=%{x}\\u003cbr\\u003eP Genome (%)=%{y}\\u003cbr\\u003ep_metag=%{customdata[2]}\\u003cbr\\u003eavg_abund=%{customdata[1]}\\u003cextra\\u003e\\u003c\\u002fextra\\u003e\",\"legendgroup\":\"SRR18439549\",\"marker\":{\"color\":\"#FF6692\",\"size\":[68.7],\"sizemode\":\"area\",\"sizeref\":0.223,\"symbol\":\"circle\"},\"mode\":\"markers\",\"name\":\"SRR18439549\",\"orientation\":\"v\",\"showlegend\":true,\"x\":[\"mm39.fa.gz\"],\"xaxis\":\"x\",\"y\":[88.5],\"yaxis\":\"y\",\"type\":\"scatter\"},{\"customdata\":[[\"SRR15634000\",2.4,10.4]],\"hovertemplate\":\"metagenome name=%{customdata[0]}\\u003cbr\\u003eQuery=%{x}\\u003cbr\\u003eP Genome (%)=%{y}\\u003cbr\\u003ep_metag=%{customdata[2]}\\u003cbr\\u003eavg_abund=%{customdata[1]}\\u003cextra\\u003e\\u003c\\u002fextra\\u003e\",\"legendgroup\":\"SRR15634000\",\"marker\":{\"color\":\"#B6E880\",\"size\":[10.4],\"sizemode\":\"area\",\"sizeref\":0.223,\"symbol\":\"circle\"},\"mode\":\"markers\",\"name\":\"SRR15634000\",\"orientation\":\"v\",\"showlegend\":true,\"x\":[\"mm39.fa.gz\"],\"xaxis\":\"x\",\"y\":[14.2],\"yaxis\":\"y\",\"type\":\"scatter\"},{\"customdata\":[[\"SRR15429253\",1.7,78.1]],\"hovertemplate\":\"metagenome name=%{customdata[0]}\\u003cbr\\u003eQuery=%{x}\\u003cbr\\u003eP Genome (%)=%{y}\\u003cbr\\u003ep_metag=%{customdata[2]}\\u003cbr\\u003eavg_abund=%{customdata[1]}\\u003cextra\\u003e\\u003c\\u002fextra\\u003e\",\"legendgroup\":\"SRR15429253\",\"marker\":{\"color\":\"#FF97FF\",\"size\":[78.1],\"sizemode\":\"area\",\"sizeref\":0.223,\"symbol\":\"circle\"},\"mode\":\"markers\",\"name\":\"SRR15429253\",\"orientation\":\"v\",\"showlegend\":true,\"x\":[\"mm39.fa.gz\"],\"xaxis\":\"x\",\"y\":[28.0],\"yaxis\":\"y\",\"type\":\"scatter\"},{\"customdata\":[[\"SRR12270116\",1.8,9.5]],\"hovertemplate\":\"metagenome name=%{customdata[0]}\\u003cbr\\u003eQuery=%{x}\\u003cbr\\u003eP Genome (%)=%{y}\\u003cbr\\u003ep_metag=%{customdata[2]}\\u003cbr\\u003eavg_abund=%{customdata[1]}\\u003cextra\\u003e\\u003c\\u002fextra\\u003e\",\"legendgroup\":\"SRR12270116\",\"marker\":{\"color\":\"#FECB52\",\"size\":[9.5],\"sizemode\":\"area\",\"sizeref\":0.223,\"symbol\":\"circle\"},\"mode\":\"markers\",\"name\":\"SRR12270116\",\"orientation\":\"v\",\"showlegend\":true,\"x\":[\"mm39.fa.gz\"],\"xaxis\":\"x\",\"y\":[10.2],\"yaxis\":\"y\",\"type\":\"scatter\"},{\"customdata\":[[\"SRR12270110\",1.9,15.9]],\"hovertemplate\":\"metagenome name=%{customdata[0]}\\u003cbr\\u003eQuery=%{x}\\u003cbr\\u003eP Genome (%)=%{y}\\u003cbr\\u003ep_metag=%{customdata[2]}\\u003cbr\\u003eavg_abund=%{customdata[1]}\\u003cextra\\u003e\\u003c\\u002fextra\\u003e\",\"legendgroup\":\"SRR12270110\",\"marker\":{\"color\":\"#636efa\",\"size\":[15.9],\"sizemode\":\"area\",\"sizeref\":0.223,\"symbol\":\"circle\"},\"mode\":\"markers\",\"name\":\"SRR12270110\",\"orientation\":\"v\",\"showlegend\":true,\"x\":[\"mm39.fa.gz\"],\"xaxis\":\"x\",\"y\":[13.8],\"yaxis\":\"y\",\"type\":\"scatter\"},{\"customdata\":[[\"SRR19241958\",1.5,10.6]],\"hovertemplate\":\"metagenome name=%{customdata[0]}\\u003cbr\\u003eQuery=%{x}\\u003cbr\\u003eP Genome (%)=%{y}\\u003cbr\\u003ep_metag=%{customdata[2]}\\u003cbr\\u003eavg_abund=%{customdata[1]}\\u003cextra\\u003e\\u003c\\u002fextra\\u003e\",\"legendgroup\":\"SRR19241958\",\"marker\":{\"color\":\"#EF553B\",\"size\":[10.6],\"sizemode\":\"area\",\"sizeref\":0.223,\"symbol\":\"circle\"},\"mode\":\"markers\",\"name\":\"SRR19241958\",\"orientation\":\"v\",\"showlegend\":true,\"x\":[\"mm39.fa.gz\"],\"xaxis\":\"x\",\"y\":[19.0],\"yaxis\":\"y\",\"type\":\"scatter\"},{\"customdata\":[[\"SRR15730550\",1.3,3.4]],\"hovertemplate\":\"metagenome name=%{customdata[0]}\\u003cbr\\u003eQuery=%{x}\\u003cbr\\u003eP Genome (%)=%{y}\\u003cbr\\u003ep_metag=%{customdata[2]}\\u003cbr\\u003eavg_abund=%{customdata[1]}\\u003cextra\\u003e\\u003c\\u002fextra\\u003e\",\"legendgroup\":\"SRR15730550\",\"marker\":{\"color\":\"#00cc96\",\"size\":[3.4],\"sizemode\":\"area\",\"sizeref\":0.223,\"symbol\":\"circle\"},\"mode\":\"markers\",\"name\":\"SRR15730550\",\"orientation\":\"v\",\"showlegend\":true,\"x\":[\"mm39.fa.gz\"],\"xaxis\":\"x\",\"y\":[13.1],\"yaxis\":\"y\",\"type\":\"scatter\"},{\"customdata\":[[\"ERR579308\",1.5,34.4]],\"hovertemplate\":\"metagenome name=%{customdata[0]}\\u003cbr\\u003eQuery=%{x}\\u003cbr\\u003eP Genome (%)=%{y}\\u003cbr\\u003ep_metag=%{customdata[2]}\\u003cbr\\u003eavg_abund=%{customdata[1]}\\u003cextra\\u003e\\u003c\\u002fextra\\u003e\",\"legendgroup\":\"ERR579308\",\"marker\":{\"color\":\"#ab63fa\",\"size\":[34.4],\"sizemode\":\"area\",\"sizeref\":0.223,\"symbol\":\"circle\"},\"mode\":\"markers\",\"name\":\"ERR579308\",\"orientation\":\"v\",\"showlegend\":true,\"x\":[\"mm39.fa.gz\"],\"xaxis\":\"x\",\"y\":[25.9],\"yaxis\":\"y\",\"type\":\"scatter\"},{\"customdata\":[[\"SRR13753934\",2.3,40.2]],\"hovertemplate\":\"metagenome name=%{customdata[0]}\\u003cbr\\u003eQuery=%{x}\\u003cbr\\u003eP Genome (%)=%{y}\\u003cbr\\u003ep_metag=%{customdata[2]}\\u003cbr\\u003eavg_abund=%{customdata[1]}\\u003cextra\\u003e\\u003c\\u002fextra\\u003e\",\"legendgroup\":\"SRR13753934\",\"marker\":{\"color\":\"#FFA15A\",\"size\":[40.2],\"sizemode\":\"area\",\"sizeref\":0.223,\"symbol\":\"circle\"},\"mode\":\"markers\",\"name\":\"SRR13753934\",\"orientation\":\"v\",\"showlegend\":true,\"x\":[\"mm39.fa.gz\"],\"xaxis\":\"x\",\"y\":[20.5],\"yaxis\":\"y\",\"type\":\"scatter\"},{\"customdata\":[[\"SRR15604594\",1.6,7.2]],\"hovertemplate\":\"metagenome name=%{customdata[0]}\\u003cbr\\u003eQuery=%{x}\\u003cbr\\u003eP Genome (%)=%{y}\\u003cbr\\u003ep_metag=%{customdata[2]}\\u003cbr\\u003eavg_abund=%{customdata[1]}\\u003cextra\\u003e\\u003c\\u002fextra\\u003e\",\"legendgroup\":\"SRR15604594\",\"marker\":{\"color\":\"#19d3f3\",\"size\":[7.2],\"sizemode\":\"area\",\"sizeref\":0.223,\"symbol\":\"circle\"},\"mode\":\"markers\",\"name\":\"SRR15604594\",\"orientation\":\"v\",\"showlegend\":true,\"x\":[\"mm39.fa.gz\"],\"xaxis\":\"x\",\"y\":[15.9],\"yaxis\":\"y\",\"type\":\"scatter\"},{\"customdata\":[[\"ERR3357629\",1.6,8.4]],\"hovertemplate\":\"metagenome name=%{customdata[0]}\\u003cbr\\u003eQuery=%{x}\\u003cbr\\u003eP Genome (%)=%{y}\\u003cbr\\u003ep_metag=%{customdata[2]}\\u003cbr\\u003eavg_abund=%{customdata[1]}\\u003cextra\\u003e\\u003c\\u002fextra\\u003e\",\"legendgroup\":\"ERR3357629\",\"marker\":{\"color\":\"#FF6692\",\"size\":[8.4],\"sizemode\":\"area\",\"sizeref\":0.223,\"symbol\":\"circle\"},\"mode\":\"markers\",\"name\":\"ERR3357629\",\"orientation\":\"v\",\"showlegend\":true,\"x\":[\"mm39.fa.gz\"],\"xaxis\":\"x\",\"y\":[11.3],\"yaxis\":\"y\",\"type\":\"scatter\"},{\"customdata\":[[\"SRR17684633\",1.8,3.9]],\"hovertemplate\":\"metagenome name=%{customdata[0]}\\u003cbr\\u003eQuery=%{x}\\u003cbr\\u003eP Genome (%)=%{y}\\u003cbr\\u003ep_metag=%{customdata[2]}\\u003cbr\\u003eavg_abund=%{customdata[1]}\\u003cextra\\u003e\\u003c\\u002fextra\\u003e\",\"legendgroup\":\"SRR17684633\",\"marker\":{\"color\":\"#B6E880\",\"size\":[3.9],\"sizemode\":\"area\",\"sizeref\":0.223,\"symbol\":\"circle\"},\"mode\":\"markers\",\"name\":\"SRR17684633\",\"orientation\":\"v\",\"showlegend\":true,\"x\":[\"mm39.fa.gz\"],\"xaxis\":\"x\",\"y\":[14.5],\"yaxis\":\"y\",\"type\":\"scatter\"},{\"customdata\":[[\"SRR15604508\",1.6,9.2]],\"hovertemplate\":\"metagenome name=%{customdata[0]}\\u003cbr\\u003eQuery=%{x}\\u003cbr\\u003eP Genome (%)=%{y}\\u003cbr\\u003ep_metag=%{customdata[2]}\\u003cbr\\u003eavg_abund=%{customdata[1]}\\u003cextra\\u003e\\u003c\\u002fextra\\u003e\",\"legendgroup\":\"SRR15604508\",\"marker\":{\"color\":\"#FF97FF\",\"size\":[9.2],\"sizemode\":\"area\",\"sizeref\":0.223,\"symbol\":\"circle\"},\"mode\":\"markers\",\"name\":\"SRR15604508\",\"orientation\":\"v\",\"showlegend\":true,\"x\":[\"mm39.fa.gz\"],\"xaxis\":\"x\",\"y\":[20.7],\"yaxis\":\"y\",\"type\":\"scatter\"},{\"customdata\":[[\"SRR19715297\",1.8,16.7]],\"hovertemplate\":\"metagenome name=%{customdata[0]}\\u003cbr\\u003eQuery=%{x}\\u003cbr\\u003eP Genome (%)=%{y}\\u003cbr\\u003ep_metag=%{customdata[2]}\\u003cbr\\u003eavg_abund=%{customdata[1]}\\u003cextra\\u003e\\u003c\\u002fextra\\u003e\",\"legendgroup\":\"SRR19715297\",\"marker\":{\"color\":\"#FECB52\",\"size\":[16.7],\"sizemode\":\"area\",\"sizeref\":0.223,\"symbol\":\"circle\"},\"mode\":\"markers\",\"name\":\"SRR19715297\",\"orientation\":\"v\",\"showlegend\":true,\"x\":[\"mm39.fa.gz\"],\"xaxis\":\"x\",\"y\":[11.6],\"yaxis\":\"y\",\"type\":\"scatter\"},{\"customdata\":[[\"SRR15604597\",1.7,6.5]],\"hovertemplate\":\"metagenome name=%{customdata[0]}\\u003cbr\\u003eQuery=%{x}\\u003cbr\\u003eP Genome (%)=%{y}\\u003cbr\\u003ep_metag=%{customdata[2]}\\u003cbr\\u003eavg_abund=%{customdata[1]}\\u003cextra\\u003e\\u003c\\u002fextra\\u003e\",\"legendgroup\":\"SRR15604597\",\"marker\":{\"color\":\"#636efa\",\"size\":[6.5],\"sizemode\":\"area\",\"sizeref\":0.223,\"symbol\":\"circle\"},\"mode\":\"markers\",\"name\":\"SRR15604597\",\"orientation\":\"v\",\"showlegend\":true,\"x\":[\"mm39.fa.gz\"],\"xaxis\":\"x\",\"y\":[14.4],\"yaxis\":\"y\",\"type\":\"scatter\"},{\"customdata\":[[\"SRR17257133\",2.8,43.2]],\"hovertemplate\":\"metagenome name=%{customdata[0]}\\u003cbr\\u003eQuery=%{x}\\u003cbr\\u003eP Genome (%)=%{y}\\u003cbr\\u003ep_metag=%{customdata[2]}\\u003cbr\\u003eavg_abund=%{customdata[1]}\\u003cextra\\u003e\\u003c\\u002fextra\\u003e\",\"legendgroup\":\"SRR17257133\",\"marker\":{\"color\":\"#EF553B\",\"size\":[43.2],\"sizemode\":\"area\",\"sizeref\":0.223,\"symbol\":\"circle\"},\"mode\":\"markers\",\"name\":\"SRR17257133\",\"orientation\":\"v\",\"showlegend\":true,\"x\":[\"mm39.fa.gz\"],\"xaxis\":\"x\",\"y\":[50.6],\"yaxis\":\"y\",\"type\":\"scatter\"},{\"customdata\":[[\"SRR18439542\",3.3,50.9]],\"hovertemplate\":\"metagenome name=%{customdata[0]}\\u003cbr\\u003eQuery=%{x}\\u003cbr\\u003eP Genome (%)=%{y}\\u003cbr\\u003ep_metag=%{customdata[2]}\\u003cbr\\u003eavg_abund=%{customdata[1]}\\u003cextra\\u003e\\u003c\\u002fextra\\u003e\",\"legendgroup\":\"SRR18439542\",\"marker\":{\"color\":\"#00cc96\",\"size\":[50.9],\"sizemode\":\"area\",\"sizeref\":0.223,\"symbol\":\"circle\"},\"mode\":\"markers\",\"name\":\"SRR18439542\",\"orientation\":\"v\",\"showlegend\":true,\"x\":[\"mm39.fa.gz\"],\"xaxis\":\"x\",\"y\":[79.0],\"yaxis\":\"y\",\"type\":\"scatter\"},{\"customdata\":[[\"SRR14862895\",1.9,5.8]],\"hovertemplate\":\"metagenome name=%{customdata[0]}\\u003cbr\\u003eQuery=%{x}\\u003cbr\\u003eP Genome (%)=%{y}\\u003cbr\\u003ep_metag=%{customdata[2]}\\u003cbr\\u003eavg_abund=%{customdata[1]}\\u003cextra\\u003e\\u003c\\u002fextra\\u003e\",\"legendgroup\":\"SRR14862895\",\"marker\":{\"color\":\"#ab63fa\",\"size\":[5.8],\"sizemode\":\"area\",\"sizeref\":0.223,\"symbol\":\"circle\"},\"mode\":\"markers\",\"name\":\"SRR14862895\",\"orientation\":\"v\",\"showlegend\":true,\"x\":[\"mm39.fa.gz\"],\"xaxis\":\"x\",\"y\":[11.6],\"yaxis\":\"y\",\"type\":\"scatter\"},{\"customdata\":[[\"SRR17257172\",2.3,22.3]],\"hovertemplate\":\"metagenome name=%{customdata[0]}\\u003cbr\\u003eQuery=%{x}\\u003cbr\\u003eP Genome (%)=%{y}\\u003cbr\\u003ep_metag=%{customdata[2]}\\u003cbr\\u003eavg_abund=%{customdata[1]}\\u003cextra\\u003e\\u003c\\u002fextra\\u003e\",\"legendgroup\":\"SRR17257172\",\"marker\":{\"color\":\"#FFA15A\",\"size\":[22.3],\"sizemode\":\"area\",\"sizeref\":0.223,\"symbol\":\"circle\"},\"mode\":\"markers\",\"name\":\"SRR17257172\",\"orientation\":\"v\",\"showlegend\":true,\"x\":[\"mm39.fa.gz\"],\"xaxis\":\"x\",\"y\":[20.7],\"yaxis\":\"y\",\"type\":\"scatter\"},{\"customdata\":[[\"SRR18439528\",3.9,58.8]],\"hovertemplate\":\"metagenome name=%{customdata[0]}\\u003cbr\\u003eQuery=%{x}\\u003cbr\\u003eP Genome (%)=%{y}\\u003cbr\\u003ep_metag=%{customdata[2]}\\u003cbr\\u003eavg_abund=%{customdata[1]}\\u003cextra\\u003e\\u003c\\u002fextra\\u003e\",\"legendgroup\":\"SRR18439528\",\"marker\":{\"color\":\"#19d3f3\",\"size\":[58.8],\"sizemode\":\"area\",\"sizeref\":0.223,\"symbol\":\"circle\"},\"mode\":\"markers\",\"name\":\"SRR18439528\",\"orientation\":\"v\",\"showlegend\":true,\"x\":[\"mm39.fa.gz\"],\"xaxis\":\"x\",\"y\":[83.8],\"yaxis\":\"y\",\"type\":\"scatter\"},{\"customdata\":[[\"SRR18439534\",2.9,46.8]],\"hovertemplate\":\"metagenome name=%{customdata[0]}\\u003cbr\\u003eQuery=%{x}\\u003cbr\\u003eP Genome (%)=%{y}\\u003cbr\\u003ep_metag=%{customdata[2]}\\u003cbr\\u003eavg_abund=%{customdata[1]}\\u003cextra\\u003e\\u003c\\u002fextra\\u003e\",\"legendgroup\":\"SRR18439534\",\"marker\":{\"color\":\"#FF6692\",\"size\":[46.8],\"sizemode\":\"area\",\"sizeref\":0.223,\"symbol\":\"circle\"},\"mode\":\"markers\",\"name\":\"SRR18439534\",\"orientation\":\"v\",\"showlegend\":true,\"x\":[\"mm39.fa.gz\"],\"xaxis\":\"x\",\"y\":[72.4],\"yaxis\":\"y\",\"type\":\"scatter\"},{\"customdata\":[[\"SRR18439545\",3.5,53.0]],\"hovertemplate\":\"metagenome name=%{customdata[0]}\\u003cbr\\u003eQuery=%{x}\\u003cbr\\u003eP Genome (%)=%{y}\\u003cbr\\u003ep_metag=%{customdata[2]}\\u003cbr\\u003eavg_abund=%{customdata[1]}\\u003cextra\\u003e\\u003c\\u002fextra\\u003e\",\"legendgroup\":\"SRR18439545\",\"marker\":{\"color\":\"#B6E880\",\"size\":[53.0],\"sizemode\":\"area\",\"sizeref\":0.223,\"symbol\":\"circle\"},\"mode\":\"markers\",\"name\":\"SRR18439545\",\"orientation\":\"v\",\"showlegend\":true,\"x\":[\"mm39.fa.gz\"],\"xaxis\":\"x\",\"y\":[82.2],\"yaxis\":\"y\",\"type\":\"scatter\"},{\"customdata\":[[\"SRR18439540\",3.0,48.8]],\"hovertemplate\":\"metagenome name=%{customdata[0]}\\u003cbr\\u003eQuery=%{x}\\u003cbr\\u003eP Genome (%)=%{y}\\u003cbr\\u003ep_metag=%{customdata[2]}\\u003cbr\\u003eavg_abund=%{customdata[1]}\\u003cextra\\u003e\\u003c\\u002fextra\\u003e\",\"legendgroup\":\"SRR18439540\",\"marker\":{\"color\":\"#FF97FF\",\"size\":[48.8],\"sizemode\":\"area\",\"sizeref\":0.223,\"symbol\":\"circle\"},\"mode\":\"markers\",\"name\":\"SRR18439540\",\"orientation\":\"v\",\"showlegend\":true,\"x\":[\"mm39.fa.gz\"],\"xaxis\":\"x\",\"y\":[73.9],\"yaxis\":\"y\",\"type\":\"scatter\"},{\"customdata\":[[\"SRR14629566\",1.5,13.0]],\"hovertemplate\":\"metagenome name=%{customdata[0]}\\u003cbr\\u003eQuery=%{x}\\u003cbr\\u003eP Genome (%)=%{y}\\u003cbr\\u003ep_metag=%{customdata[2]}\\u003cbr\\u003eavg_abund=%{customdata[1]}\\u003cextra\\u003e\\u003c\\u002fextra\\u003e\",\"legendgroup\":\"SRR14629566\",\"marker\":{\"color\":\"#FECB52\",\"size\":[13.0],\"sizemode\":\"area\",\"sizeref\":0.223,\"symbol\":\"circle\"},\"mode\":\"markers\",\"name\":\"SRR14629566\",\"orientation\":\"v\",\"showlegend\":true,\"x\":[\"mm39.fa.gz\"],\"xaxis\":\"x\",\"y\":[14.0],\"yaxis\":\"y\",\"type\":\"scatter\"},{\"customdata\":[[\"SRR15604608\",1.6,7.0]],\"hovertemplate\":\"metagenome name=%{customdata[0]}\\u003cbr\\u003eQuery=%{x}\\u003cbr\\u003eP Genome (%)=%{y}\\u003cbr\\u003ep_metag=%{customdata[2]}\\u003cbr\\u003eavg_abund=%{customdata[1]}\\u003cextra\\u003e\\u003c\\u002fextra\\u003e\",\"legendgroup\":\"SRR15604608\",\"marker\":{\"color\":\"#636efa\",\"size\":[7.0],\"sizemode\":\"area\",\"sizeref\":0.223,\"symbol\":\"circle\"},\"mode\":\"markers\",\"name\":\"SRR15604608\",\"orientation\":\"v\",\"showlegend\":true,\"x\":[\"mm39.fa.gz\"],\"xaxis\":\"x\",\"y\":[16.7],\"yaxis\":\"y\",\"type\":\"scatter\"},{\"customdata\":[[\"SRR18439535\",3.2,52.1]],\"hovertemplate\":\"metagenome name=%{customdata[0]}\\u003cbr\\u003eQuery=%{x}\\u003cbr\\u003eP Genome (%)=%{y}\\u003cbr\\u003ep_metag=%{customdata[2]}\\u003cbr\\u003eavg_abund=%{customdata[1]}\\u003cextra\\u003e\\u003c\\u002fextra\\u003e\",\"legendgroup\":\"SRR18439535\",\"marker\":{\"color\":\"#EF553B\",\"size\":[52.1],\"sizemode\":\"area\",\"sizeref\":0.223,\"symbol\":\"circle\"},\"mode\":\"markers\",\"name\":\"SRR18439535\",\"orientation\":\"v\",\"showlegend\":true,\"x\":[\"mm39.fa.gz\"],\"xaxis\":\"x\",\"y\":[77.2],\"yaxis\":\"y\",\"type\":\"scatter\"},{\"customdata\":[[\"SRR12524513\",2.1,56.1]],\"hovertemplate\":\"metagenome name=%{customdata[0]}\\u003cbr\\u003eQuery=%{x}\\u003cbr\\u003eP Genome (%)=%{y}\\u003cbr\\u003ep_metag=%{customdata[2]}\\u003cbr\\u003eavg_abund=%{customdata[1]}\\u003cextra\\u003e\\u003c\\u002fextra\\u003e\",\"legendgroup\":\"SRR12524513\",\"marker\":{\"color\":\"#00cc96\",\"size\":[56.1],\"sizemode\":\"area\",\"sizeref\":0.223,\"symbol\":\"circle\"},\"mode\":\"markers\",\"name\":\"SRR12524513\",\"orientation\":\"v\",\"showlegend\":true,\"x\":[\"mm39.fa.gz\"],\"xaxis\":\"x\",\"y\":[27.9],\"yaxis\":\"y\",\"type\":\"scatter\"},{\"customdata\":[[\"SRR15429254\",1.8,85.1]],\"hovertemplate\":\"metagenome name=%{customdata[0]}\\u003cbr\\u003eQuery=%{x}\\u003cbr\\u003eP Genome (%)=%{y}\\u003cbr\\u003ep_metag=%{customdata[2]}\\u003cbr\\u003eavg_abund=%{customdata[1]}\\u003cextra\\u003e\\u003c\\u002fextra\\u003e\",\"legendgroup\":\"SRR15429254\",\"marker\":{\"color\":\"#ab63fa\",\"size\":[85.1],\"sizemode\":\"area\",\"sizeref\":0.223,\"symbol\":\"circle\"},\"mode\":\"markers\",\"name\":\"SRR15429254\",\"orientation\":\"v\",\"showlegend\":true,\"x\":[\"mm39.fa.gz\"],\"xaxis\":\"x\",\"y\":[30.0],\"yaxis\":\"y\",\"type\":\"scatter\"},{\"customdata\":[[\"SRR18439541\",3.2,47.3]],\"hovertemplate\":\"metagenome name=%{customdata[0]}\\u003cbr\\u003eQuery=%{x}\\u003cbr\\u003eP Genome (%)=%{y}\\u003cbr\\u003ep_metag=%{customdata[2]}\\u003cbr\\u003eavg_abund=%{customdata[1]}\\u003cextra\\u003e\\u003c\\u002fextra\\u003e\",\"legendgroup\":\"SRR18439541\",\"marker\":{\"color\":\"#FFA15A\",\"size\":[47.3],\"sizemode\":\"area\",\"sizeref\":0.223,\"symbol\":\"circle\"},\"mode\":\"markers\",\"name\":\"SRR18439541\",\"orientation\":\"v\",\"showlegend\":true,\"x\":[\"mm39.fa.gz\"],\"xaxis\":\"x\",\"y\":[77.2],\"yaxis\":\"y\",\"type\":\"scatter\"},{\"customdata\":[[\"SRR18439539\",3.6,65.9]],\"hovertemplate\":\"metagenome name=%{customdata[0]}\\u003cbr\\u003eQuery=%{x}\\u003cbr\\u003eP Genome (%)=%{y}\\u003cbr\\u003ep_metag=%{customdata[2]}\\u003cbr\\u003eavg_abund=%{customdata[1]}\\u003cextra\\u003e\\u003c\\u002fextra\\u003e\",\"legendgroup\":\"SRR18439539\",\"marker\":{\"color\":\"#19d3f3\",\"size\":[65.9],\"sizemode\":\"area\",\"sizeref\":0.223,\"symbol\":\"circle\"},\"mode\":\"markers\",\"name\":\"SRR18439539\",\"orientation\":\"v\",\"showlegend\":true,\"x\":[\"mm39.fa.gz\"],\"xaxis\":\"x\",\"y\":[84.5],\"yaxis\":\"y\",\"type\":\"scatter\"},{\"customdata\":[[\"SRR15604481\",1.7,9.4]],\"hovertemplate\":\"metagenome name=%{customdata[0]}\\u003cbr\\u003eQuery=%{x}\\u003cbr\\u003eP Genome (%)=%{y}\\u003cbr\\u003ep_metag=%{customdata[2]}\\u003cbr\\u003eavg_abund=%{customdata[1]}\\u003cextra\\u003e\\u003c\\u002fextra\\u003e\",\"legendgroup\":\"SRR15604481\",\"marker\":{\"color\":\"#FF6692\",\"size\":[9.4],\"sizemode\":\"area\",\"sizeref\":0.223,\"symbol\":\"circle\"},\"mode\":\"markers\",\"name\":\"SRR15604481\",\"orientation\":\"v\",\"showlegend\":true,\"x\":[\"mm39.fa.gz\"],\"xaxis\":\"x\",\"y\":[23.1],\"yaxis\":\"y\",\"type\":\"scatter\"},{\"customdata\":[[\"ERR9465722\",2.3,18.9]],\"hovertemplate\":\"metagenome name=%{customdata[0]}\\u003cbr\\u003eQuery=%{x}\\u003cbr\\u003eP Genome (%)=%{y}\\u003cbr\\u003ep_metag=%{customdata[2]}\\u003cbr\\u003eavg_abund=%{customdata[1]}\\u003cextra\\u003e\\u003c\\u002fextra\\u003e\",\"legendgroup\":\"ERR9465722\",\"marker\":{\"color\":\"#B6E880\",\"size\":[18.9],\"sizemode\":\"area\",\"sizeref\":0.223,\"symbol\":\"circle\"},\"mode\":\"markers\",\"name\":\"ERR9465722\",\"orientation\":\"v\",\"showlegend\":true,\"x\":[\"mm39.fa.gz\"],\"xaxis\":\"x\",\"y\":[36.5],\"yaxis\":\"y\",\"type\":\"scatter\"},{\"customdata\":[[\"SRR18439548\",4.2,71.2]],\"hovertemplate\":\"metagenome name=%{customdata[0]}\\u003cbr\\u003eQuery=%{x}\\u003cbr\\u003eP Genome (%)=%{y}\\u003cbr\\u003ep_metag=%{customdata[2]}\\u003cbr\\u003eavg_abund=%{customdata[1]}\\u003cextra\\u003e\\u003c\\u002fextra\\u003e\",\"legendgroup\":\"SRR18439548\",\"marker\":{\"color\":\"#FF97FF\",\"size\":[71.2],\"sizemode\":\"area\",\"sizeref\":0.223,\"symbol\":\"circle\"},\"mode\":\"markers\",\"name\":\"SRR18439548\",\"orientation\":\"v\",\"showlegend\":true,\"x\":[\"mm39.fa.gz\"],\"xaxis\":\"x\",\"y\":[87.6],\"yaxis\":\"y\",\"type\":\"scatter\"},{\"customdata\":[[\"SRR13753922\",2.3,18.3]],\"hovertemplate\":\"metagenome name=%{customdata[0]}\\u003cbr\\u003eQuery=%{x}\\u003cbr\\u003eP Genome (%)=%{y}\\u003cbr\\u003ep_metag=%{customdata[2]}\\u003cbr\\u003eavg_abund=%{customdata[1]}\\u003cextra\\u003e\\u003c\\u002fextra\\u003e\",\"legendgroup\":\"SRR13753922\",\"marker\":{\"color\":\"#FECB52\",\"size\":[18.3],\"sizemode\":\"area\",\"sizeref\":0.223,\"symbol\":\"circle\"},\"mode\":\"markers\",\"name\":\"SRR13753922\",\"orientation\":\"v\",\"showlegend\":true,\"x\":[\"mm39.fa.gz\"],\"xaxis\":\"x\",\"y\":[11.9],\"yaxis\":\"y\",\"type\":\"scatter\"},{\"customdata\":[[\"SRR18439543\",2.7,41.9]],\"hovertemplate\":\"metagenome name=%{customdata[0]}\\u003cbr\\u003eQuery=%{x}\\u003cbr\\u003eP Genome (%)=%{y}\\u003cbr\\u003ep_metag=%{customdata[2]}\\u003cbr\\u003eavg_abund=%{customdata[1]}\\u003cextra\\u003e\\u003c\\u002fextra\\u003e\",\"legendgroup\":\"SRR18439543\",\"marker\":{\"color\":\"#636efa\",\"size\":[41.9],\"sizemode\":\"area\",\"sizeref\":0.223,\"symbol\":\"circle\"},\"mode\":\"markers\",\"name\":\"SRR18439543\",\"orientation\":\"v\",\"showlegend\":true,\"x\":[\"mm39.fa.gz\"],\"xaxis\":\"x\",\"y\":[69.2],\"yaxis\":\"y\",\"type\":\"scatter\"},{\"customdata\":[[\"ERR3357553\",1.5,86.4]],\"hovertemplate\":\"metagenome name=%{customdata[0]}\\u003cbr\\u003eQuery=%{x}\\u003cbr\\u003eP Genome (%)=%{y}\\u003cbr\\u003ep_metag=%{customdata[2]}\\u003cbr\\u003eavg_abund=%{customdata[1]}\\u003cextra\\u003e\\u003c\\u002fextra\\u003e\",\"legendgroup\":\"ERR3357553\",\"marker\":{\"color\":\"#EF553B\",\"size\":[86.4],\"sizemode\":\"area\",\"sizeref\":0.223,\"symbol\":\"circle\"},\"mode\":\"markers\",\"name\":\"ERR3357553\",\"orientation\":\"v\",\"showlegend\":true,\"x\":[\"mm39.fa.gz\"],\"xaxis\":\"x\",\"y\":[10.5],\"yaxis\":\"y\",\"type\":\"scatter\"},{\"customdata\":[[\"SRR18439531\",4.3,76.9]],\"hovertemplate\":\"metagenome name=%{customdata[0]}\\u003cbr\\u003eQuery=%{x}\\u003cbr\\u003eP Genome (%)=%{y}\\u003cbr\\u003ep_metag=%{customdata[2]}\\u003cbr\\u003eavg_abund=%{customdata[1]}\\u003cextra\\u003e\\u003c\\u002fextra\\u003e\",\"legendgroup\":\"SRR18439531\",\"marker\":{\"color\":\"#00cc96\",\"size\":[76.9],\"sizemode\":\"area\",\"sizeref\":0.223,\"symbol\":\"circle\"},\"mode\":\"markers\",\"name\":\"SRR18439531\",\"orientation\":\"v\",\"showlegend\":true,\"x\":[\"mm39.fa.gz\"],\"xaxis\":\"x\",\"y\":[89.4],\"yaxis\":\"y\",\"type\":\"scatter\"},{\"customdata\":[[\"SRR18439532\",4.3,66.6]],\"hovertemplate\":\"metagenome name=%{customdata[0]}\\u003cbr\\u003eQuery=%{x}\\u003cbr\\u003eP Genome (%)=%{y}\\u003cbr\\u003ep_metag=%{customdata[2]}\\u003cbr\\u003eavg_abund=%{customdata[1]}\\u003cextra\\u003e\\u003c\\u002fextra\\u003e\",\"legendgroup\":\"SRR18439532\",\"marker\":{\"color\":\"#ab63fa\",\"size\":[66.6],\"sizemode\":\"area\",\"sizeref\":0.223,\"symbol\":\"circle\"},\"mode\":\"markers\",\"name\":\"SRR18439532\",\"orientation\":\"v\",\"showlegend\":true,\"x\":[\"mm39.fa.gz\"],\"xaxis\":\"x\",\"y\":[87.6],\"yaxis\":\"y\",\"type\":\"scatter\"},{\"customdata\":[[\"SRR17257162\",3.2,49.2]],\"hovertemplate\":\"metagenome name=%{customdata[0]}\\u003cbr\\u003eQuery=%{x}\\u003cbr\\u003eP Genome (%)=%{y}\\u003cbr\\u003ep_metag=%{customdata[2]}\\u003cbr\\u003eavg_abund=%{customdata[1]}\\u003cextra\\u003e\\u003c\\u002fextra\\u003e\",\"legendgroup\":\"SRR17257162\",\"marker\":{\"color\":\"#FFA15A\",\"size\":[49.2],\"sizemode\":\"area\",\"sizeref\":0.223,\"symbol\":\"circle\"},\"mode\":\"markers\",\"name\":\"SRR17257162\",\"orientation\":\"v\",\"showlegend\":true,\"x\":[\"mm39.fa.gz\"],\"xaxis\":\"x\",\"y\":[55.8],\"yaxis\":\"y\",\"type\":\"scatter\"},{\"customdata\":[[\"SRR18439536\",2.9,42.8]],\"hovertemplate\":\"metagenome name=%{customdata[0]}\\u003cbr\\u003eQuery=%{x}\\u003cbr\\u003eP Genome (%)=%{y}\\u003cbr\\u003ep_metag=%{customdata[2]}\\u003cbr\\u003eavg_abund=%{customdata[1]}\\u003cextra\\u003e\\u003c\\u002fextra\\u003e\",\"legendgroup\":\"SRR18439536\",\"marker\":{\"color\":\"#19d3f3\",\"size\":[42.8],\"sizemode\":\"area\",\"sizeref\":0.223,\"symbol\":\"circle\"},\"mode\":\"markers\",\"name\":\"SRR18439536\",\"orientation\":\"v\",\"showlegend\":true,\"x\":[\"mm39.fa.gz\"],\"xaxis\":\"x\",\"y\":[70.1],\"yaxis\":\"y\",\"type\":\"scatter\"},{\"customdata\":[[\"ERR576946\",1.5,22.8]],\"hovertemplate\":\"metagenome name=%{customdata[0]}\\u003cbr\\u003eQuery=%{x}\\u003cbr\\u003eP Genome (%)=%{y}\\u003cbr\\u003ep_metag=%{customdata[2]}\\u003cbr\\u003eavg_abund=%{customdata[1]}\\u003cextra\\u003e\\u003c\\u002fextra\\u003e\",\"legendgroup\":\"ERR576946\",\"marker\":{\"color\":\"#FF6692\",\"size\":[22.8],\"sizemode\":\"area\",\"sizeref\":0.223,\"symbol\":\"circle\"},\"mode\":\"markers\",\"name\":\"ERR576946\",\"orientation\":\"v\",\"showlegend\":true,\"x\":[\"mm39.fa.gz\"],\"xaxis\":\"x\",\"y\":[14.2],\"yaxis\":\"y\",\"type\":\"scatter\"},{\"customdata\":[[\"SRR18439527\",3.8,62.0]],\"hovertemplate\":\"metagenome name=%{customdata[0]}\\u003cbr\\u003eQuery=%{x}\\u003cbr\\u003eP Genome (%)=%{y}\\u003cbr\\u003ep_metag=%{customdata[2]}\\u003cbr\\u003eavg_abund=%{customdata[1]}\\u003cextra\\u003e\\u003c\\u002fextra\\u003e\",\"legendgroup\":\"SRR18439527\",\"marker\":{\"color\":\"#B6E880\",\"size\":[62.0],\"sizemode\":\"area\",\"sizeref\":0.223,\"symbol\":\"circle\"},\"mode\":\"markers\",\"name\":\"SRR18439527\",\"orientation\":\"v\",\"showlegend\":true,\"x\":[\"mm39.fa.gz\"],\"xaxis\":\"x\",\"y\":[82.7],\"yaxis\":\"y\",\"type\":\"scatter\"},{\"customdata\":[[\"SRR15604627\",1.5,3.8]],\"hovertemplate\":\"metagenome name=%{customdata[0]}\\u003cbr\\u003eQuery=%{x}\\u003cbr\\u003eP Genome (%)=%{y}\\u003cbr\\u003ep_metag=%{customdata[2]}\\u003cbr\\u003eavg_abund=%{customdata[1]}\\u003cextra\\u003e\\u003c\\u002fextra\\u003e\",\"legendgroup\":\"SRR15604627\",\"marker\":{\"color\":\"#FF97FF\",\"size\":[3.8],\"sizemode\":\"area\",\"sizeref\":0.223,\"symbol\":\"circle\"},\"mode\":\"markers\",\"name\":\"SRR15604627\",\"orientation\":\"v\",\"showlegend\":true,\"x\":[\"mm39.fa.gz\"],\"xaxis\":\"x\",\"y\":[12.0],\"yaxis\":\"y\",\"type\":\"scatter\"},{\"customdata\":[[\"SRR18439544\",3.1,43.1]],\"hovertemplate\":\"metagenome name=%{customdata[0]}\\u003cbr\\u003eQuery=%{x}\\u003cbr\\u003eP Genome (%)=%{y}\\u003cbr\\u003ep_metag=%{customdata[2]}\\u003cbr\\u003eavg_abund=%{customdata[1]}\\u003cextra\\u003e\\u003c\\u002fextra\\u003e\",\"legendgroup\":\"SRR18439544\",\"marker\":{\"color\":\"#FECB52\",\"size\":[43.1],\"sizemode\":\"area\",\"sizeref\":0.223,\"symbol\":\"circle\"},\"mode\":\"markers\",\"name\":\"SRR18439544\",\"orientation\":\"v\",\"showlegend\":true,\"x\":[\"mm39.fa.gz\"],\"xaxis\":\"x\",\"y\":[75.0],\"yaxis\":\"y\",\"type\":\"scatter\"},{\"customdata\":[[\"SRR18439530\",4.0,68.9]],\"hovertemplate\":\"metagenome name=%{customdata[0]}\\u003cbr\\u003eQuery=%{x}\\u003cbr\\u003eP Genome (%)=%{y}\\u003cbr\\u003ep_metag=%{customdata[2]}\\u003cbr\\u003eavg_abund=%{customdata[1]}\\u003cextra\\u003e\\u003c\\u002fextra\\u003e\",\"legendgroup\":\"SRR18439530\",\"marker\":{\"color\":\"#636efa\",\"size\":[68.9],\"sizemode\":\"area\",\"sizeref\":0.223,\"symbol\":\"circle\"},\"mode\":\"markers\",\"name\":\"SRR18439530\",\"orientation\":\"v\",\"showlegend\":true,\"x\":[\"mm39.fa.gz\"],\"xaxis\":\"x\",\"y\":[85.4],\"yaxis\":\"y\",\"type\":\"scatter\"},{\"customdata\":[[\"ERR3357630\",1.9,19.9]],\"hovertemplate\":\"metagenome name=%{customdata[0]}\\u003cbr\\u003eQuery=%{x}\\u003cbr\\u003eP Genome (%)=%{y}\\u003cbr\\u003ep_metag=%{customdata[2]}\\u003cbr\\u003eavg_abund=%{customdata[1]}\\u003cextra\\u003e\\u003c\\u002fextra\\u003e\",\"legendgroup\":\"ERR3357630\",\"marker\":{\"color\":\"#EF553B\",\"size\":[19.9],\"sizemode\":\"area\",\"sizeref\":0.223,\"symbol\":\"circle\"},\"mode\":\"markers\",\"name\":\"ERR3357630\",\"orientation\":\"v\",\"showlegend\":true,\"x\":[\"mm39.fa.gz\"],\"xaxis\":\"x\",\"y\":[19.4],\"yaxis\":\"y\",\"type\":\"scatter\"},{\"customdata\":[[\"SRR15604584\",1.7,11.6]],\"hovertemplate\":\"metagenome name=%{customdata[0]}\\u003cbr\\u003eQuery=%{x}\\u003cbr\\u003eP Genome (%)=%{y}\\u003cbr\\u003ep_metag=%{customdata[2]}\\u003cbr\\u003eavg_abund=%{customdata[1]}\\u003cextra\\u003e\\u003c\\u002fextra\\u003e\",\"legendgroup\":\"SRR15604584\",\"marker\":{\"color\":\"#00cc96\",\"size\":[11.6],\"sizemode\":\"area\",\"sizeref\":0.223,\"symbol\":\"circle\"},\"mode\":\"markers\",\"name\":\"SRR15604584\",\"orientation\":\"v\",\"showlegend\":true,\"x\":[\"mm39.fa.gz\"],\"xaxis\":\"x\",\"y\":[25.6],\"yaxis\":\"y\",\"type\":\"scatter\"},{\"customdata\":[[\"ERR2241656\",1.4,2.7]],\"hovertemplate\":\"metagenome name=%{customdata[0]}\\u003cbr\\u003eQuery=%{x}\\u003cbr\\u003eP Genome (%)=%{y}\\u003cbr\\u003ep_metag=%{customdata[2]}\\u003cbr\\u003eavg_abund=%{customdata[1]}\\u003cextra\\u003e\\u003c\\u002fextra\\u003e\",\"legendgroup\":\"ERR2241656\",\"marker\":{\"color\":\"#ab63fa\",\"size\":[2.7],\"sizemode\":\"area\",\"sizeref\":0.223,\"symbol\":\"circle\"},\"mode\":\"markers\",\"name\":\"ERR2241656\",\"orientation\":\"v\",\"showlegend\":true,\"x\":[\"susScr11.fa.gz\"],\"xaxis\":\"x\",\"y\":[11.1],\"yaxis\":\"y\",\"type\":\"scatter\"},{\"customdata\":[[\"SRR12203214\",1.2,39.3]],\"hovertemplate\":\"metagenome name=%{customdata[0]}\\u003cbr\\u003eQuery=%{x}\\u003cbr\\u003eP Genome (%)=%{y}\\u003cbr\\u003ep_metag=%{customdata[2]}\\u003cbr\\u003eavg_abund=%{customdata[1]}\\u003cextra\\u003e\\u003c\\u002fextra\\u003e\",\"legendgroup\":\"SRR12203214\",\"marker\":{\"color\":\"#FFA15A\",\"size\":[39.3],\"sizemode\":\"area\",\"sizeref\":0.223,\"symbol\":\"circle\"},\"mode\":\"markers\",\"name\":\"SRR12203214\",\"orientation\":\"v\",\"showlegend\":true,\"x\":[\"susScr11.fa.gz\"],\"xaxis\":\"x\",\"y\":[10.2],\"yaxis\":\"y\",\"type\":\"scatter\"},{\"customdata\":[[\"ERR2241920\",1.2,2.9]],\"hovertemplate\":\"metagenome name=%{customdata[0]}\\u003cbr\\u003eQuery=%{x}\\u003cbr\\u003eP Genome (%)=%{y}\\u003cbr\\u003ep_metag=%{customdata[2]}\\u003cbr\\u003eavg_abund=%{customdata[1]}\\u003cextra\\u003e\\u003c\\u002fextra\\u003e\",\"legendgroup\":\"ERR2241920\",\"marker\":{\"color\":\"#19d3f3\",\"size\":[2.9],\"sizemode\":\"area\",\"sizeref\":0.223,\"symbol\":\"circle\"},\"mode\":\"markers\",\"name\":\"ERR2241920\",\"orientation\":\"v\",\"showlegend\":true,\"x\":[\"susScr11.fa.gz\"],\"xaxis\":\"x\",\"y\":[10.4],\"yaxis\":\"y\",\"type\":\"scatter\"},{\"customdata\":[[\"ERR7438499\",2.9,17.9]],\"hovertemplate\":\"metagenome name=%{customdata[0]}\\u003cbr\\u003eQuery=%{x}\\u003cbr\\u003eP Genome (%)=%{y}\\u003cbr\\u003ep_metag=%{customdata[2]}\\u003cbr\\u003eavg_abund=%{customdata[1]}\\u003cextra\\u003e\\u003c\\u002fextra\\u003e\",\"legendgroup\":\"ERR7438499\",\"marker\":{\"color\":\"#FF6692\",\"size\":[17.9],\"sizemode\":\"area\",\"sizeref\":0.223,\"symbol\":\"circle\"},\"mode\":\"markers\",\"name\":\"ERR7438499\",\"orientation\":\"v\",\"showlegend\":true,\"x\":[\"susScr11.fa.gz\"],\"xaxis\":\"x\",\"y\":[15.3],\"yaxis\":\"y\",\"type\":\"scatter\"},{\"customdata\":[[\"ERR2597489\",1.5,2.5]],\"hovertemplate\":\"metagenome name=%{customdata[0]}\\u003cbr\\u003eQuery=%{x}\\u003cbr\\u003eP Genome (%)=%{y}\\u003cbr\\u003ep_metag=%{customdata[2]}\\u003cbr\\u003eavg_abund=%{customdata[1]}\\u003cextra\\u003e\\u003c\\u002fextra\\u003e\",\"legendgroup\":\"ERR2597489\",\"marker\":{\"color\":\"#B6E880\",\"size\":[2.5],\"sizemode\":\"area\",\"sizeref\":0.223,\"symbol\":\"circle\"},\"mode\":\"markers\",\"name\":\"ERR2597489\",\"orientation\":\"v\",\"showlegend\":true,\"x\":[\"susScr11.fa.gz\"],\"xaxis\":\"x\",\"y\":[18.8],\"yaxis\":\"y\",\"type\":\"scatter\"},{\"customdata\":[[\"ERR2597490\",1.4,1.7]],\"hovertemplate\":\"metagenome name=%{customdata[0]}\\u003cbr\\u003eQuery=%{x}\\u003cbr\\u003eP Genome (%)=%{y}\\u003cbr\\u003ep_metag=%{customdata[2]}\\u003cbr\\u003eavg_abund=%{customdata[1]}\\u003cextra\\u003e\\u003c\\u002fextra\\u003e\",\"legendgroup\":\"ERR2597490\",\"marker\":{\"color\":\"#FF97FF\",\"size\":[1.7],\"sizemode\":\"area\",\"sizeref\":0.223,\"symbol\":\"circle\"},\"mode\":\"markers\",\"name\":\"ERR2597490\",\"orientation\":\"v\",\"showlegend\":true,\"x\":[\"susScr11.fa.gz\"],\"xaxis\":\"x\",\"y\":[11.9],\"yaxis\":\"y\",\"type\":\"scatter\"},{\"customdata\":[[\"ERR7438299\",2.0,23.6]],\"hovertemplate\":\"metagenome name=%{customdata[0]}\\u003cbr\\u003eQuery=%{x}\\u003cbr\\u003eP Genome (%)=%{y}\\u003cbr\\u003ep_metag=%{customdata[2]}\\u003cbr\\u003eavg_abund=%{customdata[1]}\\u003cextra\\u003e\\u003c\\u002fextra\\u003e\",\"legendgroup\":\"ERR7438299\",\"marker\":{\"color\":\"#FECB52\",\"size\":[23.6],\"sizemode\":\"area\",\"sizeref\":0.223,\"symbol\":\"circle\"},\"mode\":\"markers\",\"name\":\"ERR7438299\",\"orientation\":\"v\",\"showlegend\":true,\"x\":[\"susScr11.fa.gz\"],\"xaxis\":\"x\",\"y\":[49.2],\"yaxis\":\"y\",\"type\":\"scatter\"}],                        {\"template\":{\"data\":{\"histogram2dcontour\":[{\"type\":\"histogram2dcontour\",\"colorbar\":{\"outlinewidth\":0,\"ticks\":\"\"},\"colorscale\":[[0.0,\"#0d0887\"],[0.1111111111111111,\"#46039f\"],[0.2222222222222222,\"#7201a8\"],[0.3333333333333333,\"#9c179e\"],[0.4444444444444444,\"#bd3786\"],[0.5555555555555556,\"#d8576b\"],[0.6666666666666666,\"#ed7953\"],[0.7777777777777778,\"#fb9f3a\"],[0.8888888888888888,\"#fdca26\"],[1.0,\"#f0f921\"]]}],\"choropleth\":[{\"type\":\"choropleth\",\"colorbar\":{\"outlinewidth\":0,\"ticks\":\"\"}}],\"histogram2d\":[{\"type\":\"histogram2d\",\"colorbar\":{\"outlinewidth\":0,\"ticks\":\"\"},\"colorscale\":[[0.0,\"#0d0887\"],[0.1111111111111111,\"#46039f\"],[0.2222222222222222,\"#7201a8\"],[0.3333333333333333,\"#9c179e\"],[0.4444444444444444,\"#bd3786\"],[0.5555555555555556,\"#d8576b\"],[0.6666666666666666,\"#ed7953\"],[0.7777777777777778,\"#fb9f3a\"],[0.8888888888888888,\"#fdca26\"],[1.0,\"#f0f921\"]]}],\"heatmap\":[{\"type\":\"heatmap\",\"colorbar\":{\"outlinewidth\":0,\"ticks\":\"\"},\"colorscale\":[[0.0,\"#0d0887\"],[0.1111111111111111,\"#46039f\"],[0.2222222222222222,\"#7201a8\"],[0.3333333333333333,\"#9c179e\"],[0.4444444444444444,\"#bd3786\"],[0.5555555555555556,\"#d8576b\"],[0.6666666666666666,\"#ed7953\"],[0.7777777777777778,\"#fb9f3a\"],[0.8888888888888888,\"#fdca26\"],[1.0,\"#f0f921\"]]}],\"heatmapgl\":[{\"type\":\"heatmapgl\",\"colorbar\":{\"outlinewidth\":0,\"ticks\":\"\"},\"colorscale\":[[0.0,\"#0d0887\"],[0.1111111111111111,\"#46039f\"],[0.2222222222222222,\"#7201a8\"],[0.3333333333333333,\"#9c179e\"],[0.4444444444444444,\"#bd3786\"],[0.5555555555555556,\"#d8576b\"],[0.6666666666666666,\"#ed7953\"],[0.7777777777777778,\"#fb9f3a\"],[0.8888888888888888,\"#fdca26\"],[1.0,\"#f0f921\"]]}],\"contourcarpet\":[{\"type\":\"contourcarpet\",\"colorbar\":{\"outlinewidth\":0,\"ticks\":\"\"}}],\"contour\":[{\"type\":\"contour\",\"colorbar\":{\"outlinewidth\":0,\"ticks\":\"\"},\"colorscale\":[[0.0,\"#0d0887\"],[0.1111111111111111,\"#46039f\"],[0.2222222222222222,\"#7201a8\"],[0.3333333333333333,\"#9c179e\"],[0.4444444444444444,\"#bd3786\"],[0.5555555555555556,\"#d8576b\"],[0.6666666666666666,\"#ed7953\"],[0.7777777777777778,\"#fb9f3a\"],[0.8888888888888888,\"#fdca26\"],[1.0,\"#f0f921\"]]}],\"surface\":[{\"type\":\"surface\",\"colorbar\":{\"outlinewidth\":0,\"ticks\":\"\"},\"colorscale\":[[0.0,\"#0d0887\"],[0.1111111111111111,\"#46039f\"],[0.2222222222222222,\"#7201a8\"],[0.3333333333333333,\"#9c179e\"],[0.4444444444444444,\"#bd3786\"],[0.5555555555555556,\"#d8576b\"],[0.6666666666666666,\"#ed7953\"],[0.7777777777777778,\"#fb9f3a\"],[0.8888888888888888,\"#fdca26\"],[1.0,\"#f0f921\"]]}],\"mesh3d\":[{\"type\":\"mesh3d\",\"colorbar\":{\"outlinewidth\":0,\"ticks\":\"\"}}],\"scatter\":[{\"fillpattern\":{\"fillmode\":\"overlay\",\"size\":10,\"solidity\":0.2},\"type\":\"scatter\"}],\"parcoords\":[{\"type\":\"parcoords\",\"line\":{\"colorbar\":{\"outlinewidth\":0,\"ticks\":\"\"}}}],\"scatterpolargl\":[{\"type\":\"scatterpolargl\",\"marker\":{\"colorbar\":{\"outlinewidth\":0,\"ticks\":\"\"}}}],\"bar\":[{\"error_x\":{\"color\":\"#2a3f5f\"},\"error_y\":{\"color\":\"#2a3f5f\"},\"marker\":{\"line\":{\"color\":\"#E5ECF6\",\"width\":0.5},\"pattern\":{\"fillmode\":\"overlay\",\"size\":10,\"solidity\":0.2}},\"type\":\"bar\"}],\"scattergeo\":[{\"type\":\"scattergeo\",\"marker\":{\"colorbar\":{\"outlinewidth\":0,\"ticks\":\"\"}}}],\"scatterpolar\":[{\"type\":\"scatterpolar\",\"marker\":{\"colorbar\":{\"outlinewidth\":0,\"ticks\":\"\"}}}],\"histogram\":[{\"marker\":{\"pattern\":{\"fillmode\":\"overlay\",\"size\":10,\"solidity\":0.2}},\"type\":\"histogram\"}],\"scattergl\":[{\"type\":\"scattergl\",\"marker\":{\"colorbar\":{\"outlinewidth\":0,\"ticks\":\"\"}}}],\"scatter3d\":[{\"type\":\"scatter3d\",\"line\":{\"colorbar\":{\"outlinewidth\":0,\"ticks\":\"\"}},\"marker\":{\"colorbar\":{\"outlinewidth\":0,\"ticks\":\"\"}}}],\"scattermapbox\":[{\"type\":\"scattermapbox\",\"marker\":{\"colorbar\":{\"outlinewidth\":0,\"ticks\":\"\"}}}],\"scatterternary\":[{\"type\":\"scatterternary\",\"marker\":{\"colorbar\":{\"outlinewidth\":0,\"ticks\":\"\"}}}],\"scattercarpet\":[{\"type\":\"scattercarpet\",\"marker\":{\"colorbar\":{\"outlinewidth\":0,\"ticks\":\"\"}}}],\"carpet\":[{\"aaxis\":{\"endlinecolor\":\"#2a3f5f\",\"gridcolor\":\"white\",\"linecolor\":\"white\",\"minorgridcolor\":\"white\",\"startlinecolor\":\"#2a3f5f\"},\"baxis\":{\"endlinecolor\":\"#2a3f5f\",\"gridcolor\":\"white\",\"linecolor\":\"white\",\"minorgridcolor\":\"white\",\"startlinecolor\":\"#2a3f5f\"},\"type\":\"carpet\"}],\"table\":[{\"cells\":{\"fill\":{\"color\":\"#EBF0F8\"},\"line\":{\"color\":\"white\"}},\"header\":{\"fill\":{\"color\":\"#C8D4E3\"},\"line\":{\"color\":\"white\"}},\"type\":\"table\"}],\"barpolar\":[{\"marker\":{\"line\":{\"color\":\"#E5ECF6\",\"width\":0.5},\"pattern\":{\"fillmode\":\"overlay\",\"size\":10,\"solidity\":0.2}},\"type\":\"barpolar\"}],\"pie\":[{\"automargin\":true,\"type\":\"pie\"}]},\"layout\":{\"autotypenumbers\":\"strict\",\"colorway\":[\"#636efa\",\"#EF553B\",\"#00cc96\",\"#ab63fa\",\"#FFA15A\",\"#19d3f3\",\"#FF6692\",\"#B6E880\",\"#FF97FF\",\"#FECB52\"],\"font\":{\"color\":\"#2a3f5f\"},\"hovermode\":\"closest\",\"hoverlabel\":{\"align\":\"left\"},\"paper_bgcolor\":\"white\",\"plot_bgcolor\":\"#E5ECF6\",\"polar\":{\"bgcolor\":\"#E5ECF6\",\"angularaxis\":{\"gridcolor\":\"white\",\"linecolor\":\"white\",\"ticks\":\"\"},\"radialaxis\":{\"gridcolor\":\"white\",\"linecolor\":\"white\",\"ticks\":\"\"}},\"ternary\":{\"bgcolor\":\"#E5ECF6\",\"aaxis\":{\"gridcolor\":\"white\",\"linecolor\":\"white\",\"ticks\":\"\"},\"baxis\":{\"gridcolor\":\"white\",\"linecolor\":\"white\",\"ticks\":\"\"},\"caxis\":{\"gridcolor\":\"white\",\"linecolor\":\"white\",\"ticks\":\"\"}},\"coloraxis\":{\"colorbar\":{\"outlinewidth\":0,\"ticks\":\"\"}},\"colorscale\":{\"sequential\":[[0.0,\"#0d0887\"],[0.1111111111111111,\"#46039f\"],[0.2222222222222222,\"#7201a8\"],[0.3333333333333333,\"#9c179e\"],[0.4444444444444444,\"#bd3786\"],[0.5555555555555556,\"#d8576b\"],[0.6666666666666666,\"#ed7953\"],[0.7777777777777778,\"#fb9f3a\"],[0.8888888888888888,\"#fdca26\"],[1.0,\"#f0f921\"]],\"sequentialminus\":[[0.0,\"#0d0887\"],[0.1111111111111111,\"#46039f\"],[0.2222222222222222,\"#7201a8\"],[0.3333333333333333,\"#9c179e\"],[0.4444444444444444,\"#bd3786\"],[0.5555555555555556,\"#d8576b\"],[0.6666666666666666,\"#ed7953\"],[0.7777777777777778,\"#fb9f3a\"],[0.8888888888888888,\"#fdca26\"],[1.0,\"#f0f921\"]],\"diverging\":[[0,\"#8e0152\"],[0.1,\"#c51b7d\"],[0.2,\"#de77ae\"],[0.3,\"#f1b6da\"],[0.4,\"#fde0ef\"],[0.5,\"#f7f7f7\"],[0.6,\"#e6f5d0\"],[0.7,\"#b8e186\"],[0.8,\"#7fbc41\"],[0.9,\"#4d9221\"],[1,\"#276419\"]]},\"xaxis\":{\"gridcolor\":\"white\",\"linecolor\":\"white\",\"ticks\":\"\",\"title\":{\"standoff\":15},\"zerolinecolor\":\"white\",\"automargin\":true,\"zerolinewidth\":2},\"yaxis\":{\"gridcolor\":\"white\",\"linecolor\":\"white\",\"ticks\":\"\",\"title\":{\"standoff\":15},\"zerolinecolor\":\"white\",\"automargin\":true,\"zerolinewidth\":2},\"scene\":{\"xaxis\":{\"backgroundcolor\":\"#E5ECF6\",\"gridcolor\":\"white\",\"linecolor\":\"white\",\"showbackground\":true,\"ticks\":\"\",\"zerolinecolor\":\"white\",\"gridwidth\":2},\"yaxis\":{\"backgroundcolor\":\"#E5ECF6\",\"gridcolor\":\"white\",\"linecolor\":\"white\",\"showbackground\":true,\"ticks\":\"\",\"zerolinecolor\":\"white\",\"gridwidth\":2},\"zaxis\":{\"backgroundcolor\":\"#E5ECF6\",\"gridcolor\":\"white\",\"linecolor\":\"white\",\"showbackground\":true,\"ticks\":\"\",\"zerolinecolor\":\"white\",\"gridwidth\":2}},\"shapedefaults\":{\"line\":{\"color\":\"#2a3f5f\"}},\"annotationdefaults\":{\"arrowcolor\":\"#2a3f5f\",\"arrowhead\":0,\"arrowwidth\":1},\"geo\":{\"bgcolor\":\"white\",\"landcolor\":\"#E5ECF6\",\"subunitcolor\":\"white\",\"showland\":true,\"showlakes\":true,\"lakecolor\":\"white\"},\"title\":{\"x\":0.05},\"mapbox\":{\"style\":\"light\"}}},\"xaxis\":{\"anchor\":\"y\",\"domain\":[0.0,1.0],\"title\":{\"text\":\"Query\"}},\"yaxis\":{\"anchor\":\"x\",\"domain\":[0.0,1.0],\"title\":{\"text\":\"P Genome (%)\"}},\"legend\":{\"title\":{\"text\":\"metagenome name\"},\"tracegroupgap\":0,\"itemsizing\":\"constant\"},\"title\":{\"text\":\"Interactive Scatter Plot of Query vs P Genome (p_genome \\u003e 10%)\"}},                        {\"responsive\": true}                    ).then(function(){\n",
       "                            \n",
       "var gd = document.getElementById('e58f5c1c-b64e-40a8-b7ac-02ce248cd3ff');\n",
       "var x = new MutationObserver(function (mutations, observer) {{\n",
       "        var display = window.getComputedStyle(gd).display;\n",
       "        if (!display || display === 'none') {{\n",
       "            console.log([gd, 'removed!']);\n",
       "            Plotly.purge(gd);\n",
       "            observer.disconnect();\n",
       "        }}\n",
       "}});\n",
       "\n",
       "// Listen for the removal of the full notebook cells\n",
       "var notebookContainer = gd.closest('#notebook-container');\n",
       "if (notebookContainer) {{\n",
       "    x.observe(notebookContainer, {childList: true});\n",
       "}}\n",
       "\n",
       "// Listen for the clearing of the current output cell\n",
       "var outputEl = gd.closest('.output');\n",
       "if (outputEl) {{\n",
       "    x.observe(outputEl, {childList: true});\n",
       "}}\n",
       "\n",
       "                        })                };                });            </script>        </div>"
      ]
     },
     "metadata": {},
     "output_type": "display_data"
    }
   ],
   "source": [
    "import pandas as pd\n",
    "import numpy as np\n",
    "import plotly.express as px\n",
    "\n",
    "# Filter the data (assuming `data` is already loaded and processed)\n",
    "filtered_high_p_genome = data[data[\"p_genome\"] > 10]\n",
    "\n",
    "# Create an interactive scatter plot\n",
    "fig = px.scatter(\n",
    "    filtered_high_p_genome,\n",
    "    x=\"query\",\n",
    "    y=\"p_genome\",\n",
    "    size=\"p_metag\",  # Dot size based on p_metag\n",
    "    color=\"metagenome name\",  # Dot color based on metagenome name\n",
    "    title=\"Interactive Scatter Plot of Query vs P Genome (p_genome > 10%)\",\n",
    "    labels={\"query\": \"Query\", \"p_genome\": \"P Genome (%)\"},\n",
    "    hover_data=[\"metagenome name\", \"avg_abund\", \"p_metag\"]\n",
    ")\n",
    "\n",
    "# Show the interactive chart\n",
    "fig.show()"
   ]
  },
  {
   "cell_type": "code",
   "execution_count": null,
   "id": "9c270250",
   "metadata": {},
   "outputs": [],
   "source": []
  }
 ],
 "metadata": {
  "kernelspec": {
   "display_name": "Python 3 (ipykernel)",
   "language": "python",
   "name": "python3"
  },
  "language_info": {
   "codemirror_mode": {
    "name": "ipython",
    "version": 3
   },
   "file_extension": ".py",
   "mimetype": "text/x-python",
   "name": "python",
   "nbconvert_exporter": "python",
   "pygments_lexer": "ipython3",
   "version": "3.9.7"
  }
 },
 "nbformat": 4,
 "nbformat_minor": 5
}
